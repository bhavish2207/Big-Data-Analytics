{
 "cells": [
  {
   "cell_type": "markdown",
   "metadata": {},
   "source": [
    "##### Grading Feedback Cell"
   ]
  },
  {
   "cell_type": "markdown",
   "metadata": {},
   "source": [
    "# IST 718: Big Data Analytics\n",
    "\n",
    "- Professor: Willard Williamson <wewillia@syr.edu>\n",
    "- Faculty Assistant: Yash Pasar <yspasar@syr.edu>\n",
    "## General instructions:\n",
    "\n",
    "- You are welcome to discuss the problems with your classmates but __you are not allowed to copy any part of your answers from your classmates.  Short code snippets are allowed from the internet.  Code from the class text books or class provided code can be copied in its entirety.__\n",
    "- There could be tests in some cells (i.e., `assert` and `np.testing.` statements). These tests (if present) are used to grade your answers. **However, the professor and FAs could use __additional__ test for your answer. Think about cases where your code should run even if it passess all the tests you see.**\n",
    "- Before submitting your work, remember to check for run time errors with the following procedure:\n",
    "`Kernel`$\\rightarrow$`Restart and Run All`.  All runtime errors will result in a minimum penalty of half off.\n",
    "- Data Bricks is the official class runtime environment so you should test your code on Data Bricks before submission.  If there is a runtime problem in the grading environment, we will try your code on Data Bricks before making a final grading decision.\n",
    "- All plots shall include a title, and axis labels.\n",
    "- Grading feedback cells are there for graders to provide feedback to students.  Don't change or remove grading feedback cells.\n",
    "- Don't add or remove files from your git repo.\n",
    "- Do not change file names in your repo.  This also means don't change the title of the ipython notebook.\n",
    "- __Only use spark, spark machine learning, spark data frames, RDD's, and map reduce to solve all problems unless instructed otherwise.__"
   ]
  },
  {
   "cell_type": "code",
   "execution_count": 3,
   "metadata": {
    "deletable": false,
    "editable": false,
    "nbgrader": {
     "checksum": "34b858b2a4dae4c0c6569a235758d7e7",
     "grade": true,
     "grade_id": "cell-16fe9b731c74bdb1",
     "locked": true,
     "points": 5,
     "schema_version": 1,
     "solution": false
    }
   },
   "outputs": [],
   "source": [
    "# read only cell\n",
    "\n",
    "import os\n",
    "\n",
    "# get the databricks runtime version\n",
    "db_env = os.getenv(\"DATABRICKS_RUNTIME_VERSION\")\n",
    "\n",
    "# Define a function to read the data file.  The full path data file name is constructed\n",
    "# by checking runtime environment variables to determine if the runtime environment is \n",
    "# databricks, or a student's personal computer.  The full path file name is then\n",
    "# constructed based on the runtime env.\n",
    "# \n",
    "# Params\n",
    "#   data_file_name: The base name of the data file to load\n",
    "# \n",
    "# Returns the full path file name based on the runtime env\n",
    "#\n",
    "def get_training_filename(data_file_name):    \n",
    "    # if the databricks env var exists\n",
    "    if db_env != None:\n",
    "        # build the full path file name assuming data brick env\n",
    "        full_path_name = \"/FileStore/tables/%s\" % data_file_name\n",
    "    # else the data is assumed to be in the same dir as this notebook\n",
    "    else:\n",
    "        # Assume the student is running on their own computer and load the data\n",
    "        # file from the same dir as this notebook\n",
    "        full_path_name = data_file_name\n",
    "    \n",
    "    # return the full path file name to the caller\n",
    "    return full_path_name"
   ]
  },
  {
   "cell_type": "code",
   "execution_count": 4,
   "metadata": {},
   "outputs": [],
   "source": [
    "# import statements here\n",
    "# create spark and sparkcontext objects\n",
    "from pyspark.sql import SparkSession\n",
    "from pyspark.sql import Row\n",
    "import numpy as np\n",
    "import pandas as pd\n",
    "from pyspark.sql.functions import isnan, isnull, when, count, col\n",
    "from pyspark.sql import functions as fn\n",
    "import matplotlib.pyplot as plt\n",
    "from pyspark.mllib.stat import Statistics\n",
    "from pyspark.ml import feature\n",
    "# Functionality for regression\n",
    "from pyspark.ml import regression\n",
    "# Funcionality for classification\n",
    "from pyspark.ml import classification\n",
    "# Object for creating sequences of transformations\n",
    "from pyspark.ml import Pipeline\n",
    "import seaborn as sns\n",
    "from pyspark.ml.feature import StandardScaler\n",
    "from math import exp, log10, fabs, atan, log\n",
    "spark = SparkSession.builder.getOrCreate()\n",
    "sc = spark.sparkContext"
   ]
  },
  {
   "cell_type": "markdown",
   "metadata": {},
   "source": [
    "# Moore's Law\n",
    "The frequently cited “Moore’s Law” originated with a 1965 article in Electronics magazine that said the number of transistors in a given area would double every year."
   ]
  },
  {
   "cell_type": "markdown",
   "metadata": {},
   "source": [
    "### ONLY use spark functions unless the question instructions say otherwise."
   ]
  },
  {
   "cell_type": "markdown",
   "metadata": {},
   "source": [
    "## Question 1 Load the Transistor Data (5 pts)\n",
    "- Read the MooresLaw.txt file into a spark data frame named trans_df using only spark.  The columns should be named as per the header in the txt file.\n",
    "- Print the first 5 rows of trans_df \n",
    "- Print the shape of trans_df (num_rows, num_cols)\n",
    "- Make sure to use the get_training_filename function above to obtain the file name based on your runtime environment"
   ]
  },
  {
   "cell_type": "code",
   "execution_count": 5,
   "metadata": {
    "scrolled": true
   },
   "outputs": [
    {
     "name": "stdout",
     "output_type": "stream",
     "text": [
      "+---------------+------+-----------+---+---+---+---+\n",
      "|Intel Processor|  Year|Transistors|   |   |   |   |\n",
      "+---------------+------+-----------+---+---+---+---+\n",
      "|           4004|1971.9|       2300|   |   |   |   |\n",
      "|           8008|1972.3|       3500|   |   |   |   |\n",
      "|           8080|1974.3|       6000|   |   |   |   |\n",
      "|           8085|1976.3|       6500|   |   |   |   |\n",
      "|           8086|1978.5|      29000|   |   |   |   |\n",
      "+---------------+------+-----------+---+---+---+---+\n",
      "\n",
      "None\n",
      "Shape of trans_df is:  (74, 7)\n"
     ]
    }
   ],
   "source": [
    "# your code here\n",
    "def split_rdd_element(row):\n",
    "    #if row != row1:\n",
    "    return row.split(\"\\t\")\n",
    "\n",
    "moores_law_file = get_training_filename('mooresLaw.txt')\n",
    "trans_df_rdd = sc.textFile(moores_law_file)\n",
    "row1 = trans_df_rdd.first()\n",
    "header = trans_df_rdd.first().split(\"\\t\")\n",
    "trans_df = trans_df_rdd.filter(lambda x: x!= row1).map(split_rdd_element).toDF(header) \n",
    "print(trans_df.limit(5).show())         ## Printing the 1st 5 rows of trans_df\n",
    "print(\"Shape of trans_df is: \",(trans_df.count(), len(trans_df.columns)))        ##Printing the shape of the trans_df"
   ]
  },
  {
   "cell_type": "markdown",
   "metadata": {},
   "source": [
    "##### Grading Feedback Cell"
   ]
  },
  {
   "cell_type": "markdown",
   "metadata": {},
   "source": [
    "## Question 2 Transistor Data Cleanup (5 pts)\n",
    "- Drop all columns in trans_df except the Year and Transistors column.\n",
    "- Drop rows in trans_df that contain NaN vales\n",
    "- Prove that trans_df does not contain NaN values by showing a single integer sum of the number of Nan values in the dataframe (should equal 0)"
   ]
  },
  {
   "cell_type": "code",
   "execution_count": 157,
   "metadata": {},
   "outputs": [
    {
     "data": {
      "text/plain": [
       "0"
      ]
     },
     "execution_count": 157,
     "metadata": {},
     "output_type": "execute_result"
    }
   ],
   "source": [
    "# your code here\n",
    "#from pyspark.sql.functions import isnan, isnull, when, count, col\n",
    "#from pyspark.sql import functions as fn\n",
    "\n",
    "trans_df = trans_df.select(trans_df.Year.cast('float'),trans_df.Transistors.cast('long')).na.drop()\n",
    "rolled_up = trans_df.select(fn.sum(fn.isnan('Year').cast('int')).alias('sum_col1'),fn.sum(fn.isnan('Transistors').cast('int')).alias('sum_col2'))\n",
    "rolled_up.select(fn.col('sum_col1')+fn.col('sum_col2').alias('Total_NAs')).collect()[0][0]"
   ]
  },
  {
   "cell_type": "markdown",
   "metadata": {},
   "source": [
    "##### Grading Feedback Cell"
   ]
  },
  {
   "cell_type": "markdown",
   "metadata": {},
   "source": [
    "## Question 3 Transistor Data Exploration (10 pts)\n"
   ]
  },
  {
   "cell_type": "markdown",
   "metadata": {},
   "source": [
    "### Question 3a (3 pts) \n",
    "Explore the data in trans_df by plotting transistors vs. year with a scatter plot.  You may use packages outside of spark to perform the task in question 3a."
   ]
  },
  {
   "cell_type": "code",
   "execution_count": 7,
   "metadata": {},
   "outputs": [
    {
     "data": {
      "image/png": "[encoded data removed]",
      "text/plain": [
       "<Figure size 432x288 with 1 Axes>"
      ]
     },
     "metadata": {
      "needs_background": "light"
     },
     "output_type": "display_data"
    }
   ],
   "source": [
    "# Your code here\n",
    "#import matplotlib.pyplot as plt\n",
    "\n",
    "trans_df.select('Year', 'Transistors').toPandas().plot(x='Year', y='Transistors', kind='scatter');\n",
    "plt.title(\"Transistors Vs Year Scatter Plot\")\n",
    "plt.xlabel(\"Year\")\n",
    "plt.ylabel(\"Transistors\")\n",
    "display()"
   ]
  },
  {
   "cell_type": "markdown",
   "metadata": {},
   "source": [
    "##### Grading Feedback Cell"
   ]
  },
  {
   "cell_type": "markdown",
   "metadata": {},
   "source": [
    "### Question 3b (3 pts)\n",
    "Compute the correlation between year and number of transistors in the trans_df using spark.  Print the resulting correlation value.  Interpret the correlation in words in the provided markdown cell."
   ]
  },
  {
   "cell_type": "code",
   "execution_count": 8,
   "metadata": {},
   "outputs": [
    {
     "name": "stdout",
     "output_type": "stream",
     "text": [
      "+-----------------------+\n",
      "|corr(Year, Transistors)|\n",
      "+-----------------------+\n",
      "|     0.5434354144405419|\n",
      "+-----------------------+\n",
      "\n"
     ]
    }
   ],
   "source": [
    "# your code here\n",
    "#from pyspark.sql import functions as fn\n",
    "trans_df.select(fn.corr('Year','Transistors')).show()"
   ]
  },
  {
   "cell_type": "markdown",
   "metadata": {},
   "source": [
    "##### Grading Feedback Cell"
   ]
  },
  {
   "cell_type": "markdown",
   "metadata": {},
   "source": [
    "### Question 3c (4 pts) \n",
    "- Interpret the correlation value computed above in the markdown cell below."
   ]
  },
  {
   "cell_type": "markdown",
   "metadata": {},
   "source": [
    "Your correlation interpretation here:\n",
    "The correlation value measure the strength and direction of linear relationship between two set of values. Correlation ranges between -1 and 1, where -1 denotes a strong negative correlation, 1 denotes a strong positive correlation and 0 denotes no relationship. In this case the correlation between Year and Transistors is 0.54, which means that there is a positive relationship between Year and Transistors, i.e. as the year progresses (with increase in year), the Transistors keep on increasing. This correlation value agrees with Moore's Law which talks about how the number of transistors double every year."
   ]
  },
  {
   "cell_type": "markdown",
   "metadata": {},
   "source": [
    "##### Grading Feedback Cell"
   ]
  },
  {
   "cell_type": "markdown",
   "metadata": {},
   "source": [
    "## Question 4 Transform the Data (10 pts)"
   ]
  },
  {
   "cell_type": "markdown",
   "metadata": {},
   "source": [
    "### Question 4a (5 pts)\n",
    "- Create a new data frame named trans_df_2 that adds a log transform to the transistors col in trans_df.\n",
    "- Print the head of trans_df_2\n",
    "- Print the shape of trans_df_2"
   ]
  },
  {
   "cell_type": "code",
   "execution_count": 11,
   "metadata": {
    "scrolled": false
   },
   "outputs": [
    {
     "name": "stdout",
     "output_type": "stream",
     "text": [
      "Head of trans_df_2 is:  Row(Year=1971.9000244140625, Transistors=2300, Log_Transistors=7.7406644019172415)\n",
      "The shape of trans_df_2 is:  (74, 3)\n"
     ]
    }
   ],
   "source": [
    "# your code here\n",
    "trans_df_2 = trans_df.select('Year','Transistors',fn.log('Transistors').alias('Log_Transistors'))\n",
    "print(\"Head of trans_df_2 is: \",trans_df_2.head())\n",
    "print(\"The shape of trans_df_2 is: \",(trans_df_2.count(), len(trans_df_2.columns))) "
   ]
  },
  {
   "cell_type": "markdown",
   "metadata": {},
   "source": [
    "##### Grading Feedback Cell"
   ]
  },
  {
   "cell_type": "markdown",
   "metadata": {},
   "source": [
    "### Question 4b (5 pts)\n",
    "- Using trans_df_2, create a scatter plot of log transistors vs. year.  You may use packages outside of spark for this task."
   ]
  },
  {
   "cell_type": "code",
   "execution_count": 154,
   "metadata": {},
   "outputs": [
    {
     "data": {
      "image/png": "[encoded data removed]",
      "text/plain": [
       "<Figure size 432x288 with 1 Axes>"
      ]
     },
     "metadata": {
      "needs_background": "light"
     },
     "output_type": "display_data"
    }
   ],
   "source": [
    "# your code here\n",
    "trans_df_2.select('Year', 'Log_Transistors').toPandas().plot(x='Year', y='Log_Transistors', kind='scatter');\n",
    "plt.title(\"Log Transistors Vs Year Scatter Plot\")\n",
    "plt.xlabel(\"Year\")\n",
    "plt.ylabel(\"Log Transistors\")\n",
    "display()"
   ]
  },
  {
   "cell_type": "markdown",
   "metadata": {},
   "source": [
    "##### Grading Feedback Cell"
   ]
  },
  {
   "cell_type": "markdown",
   "metadata": {},
   "source": [
    "## Question 5 Fit a Linear Regression Pipeline (10 pts)"
   ]
  },
  {
   "cell_type": "markdown",
   "metadata": {},
   "source": [
    "### Question 5a ( 2 pts)\n",
    "- Split trans_df_2 into train and test splits with a 60:40 ratio.  Name the resulting data frames trans_train and trans_test.  Print the shape of of the train and test data frames."
   ]
  },
  {
   "cell_type": "code",
   "execution_count": 33,
   "metadata": {},
   "outputs": [
    {
     "name": "stdout",
     "output_type": "stream",
     "text": [
      "The shape of train data is:  (44, 3)\n",
      "The shape of test data is:  (30, 3)\n"
     ]
    }
   ],
   "source": [
    "# your code here\n",
    "trans_train, trans_test = trans_df_2.randomSplit([0.6, 0.4],12343)\n",
    "print(\"The shape of train data is: \",(trans_train.count(), len(trans_train.columns))) \n",
    "print(\"The shape of test data is: \",(trans_test.count(), len(trans_test.columns))) "
   ]
  },
  {
   "cell_type": "markdown",
   "metadata": {},
   "source": [
    "##### Grading Feedback Cell"
   ]
  },
  {
   "cell_type": "markdown",
   "metadata": {},
   "source": [
    "### Question 5b (6 pts)\n",
    "- Create a spark pipeline named trans_pipe to perform linear regression\n",
    "- Fit the pipeline using the transistors as the targets and year as the features.  Name the resulting fitted pipeline fitted_trans_pipe.\n",
    "- Fit another pipeline using the log transistors column as the targets and year as the features.  Name the resulting fitted pipeline log_fitted_trans_pipe."
   ]
  },
  {
   "cell_type": "code",
   "execution_count": 34,
   "metadata": {},
   "outputs": [],
   "source": [
    "# your code here\n",
    "va = feature.VectorAssembler(inputCols=['Year'], outputCol='features')\n",
    "lr_trans = regression.LinearRegression(featuresCol='features', labelCol='Transistors')\n",
    "trans_pipe = Pipeline(stages=[va, lr_trans])\n",
    "fitted_trans_pipe = trans_pipe.fit(trans_train)\n",
    "\n",
    "lr_log_trans = regression.LinearRegression(featuresCol='features', labelCol='Log_Transistors')\n",
    "log_trans_pipe = Pipeline(stages=[va, lr_log_trans])\n",
    "log_fitted_trans_pipe = log_trans_pipe.fit(trans_train)"
   ]
  },
  {
   "cell_type": "markdown",
   "metadata": {},
   "source": [
    "##### Grading Feedback Cell"
   ]
  },
  {
   "cell_type": "markdown",
   "metadata": {},
   "source": [
    "### Question 5c (2 pts)\n",
    "- Print the linear regression coefficient in the linear regression object in each fitted model\n",
    "- Print the linear regression Y intercept in the linear regression object in each fitted model"
   ]
  },
  {
   "cell_type": "code",
   "execution_count": 37,
   "metadata": {
    "scrolled": false
   },
   "outputs": [
    {
     "name": "stdout",
     "output_type": "stream",
     "text": [
      "The Linear Regression Coefficient is:  60124191.65527195\n",
      "The Linear Regression Intercept is:  -119648328638.46603\n",
      "\n",
      "The Linear Regression Coefficient of Log Fitted Model is:  0.3364984031625316\n",
      "The Linear Regression Intercept of Log Fitted Model is:  -655.734029134517\n"
     ]
    }
   ],
   "source": [
    "# your code here\n",
    "print(\"The Linear Regression Coefficient is: \",fitted_trans_pipe.stages[1].coefficients[0])\n",
    "print(\"The Linear Regression Intercept is: \",fitted_trans_pipe.stages[1].intercept)\n",
    "\n",
    "print(\"\\nThe Linear Regression Coefficient of Log Fitted Model is: \",log_fitted_trans_pipe.stages[1].coefficients[0])\n",
    "print(\"The Linear Regression Intercept of Log Fitted Model is: \",log_fitted_trans_pipe.stages[1].intercept)\n",
    "#log_fitted_trans_pipe"
   ]
  },
  {
   "cell_type": "markdown",
   "metadata": {},
   "source": [
    "##### Grading Feedback Cell"
   ]
  },
  {
   "cell_type": "markdown",
   "metadata": {},
   "source": [
    "### Question 6 Test the linear regression pipeline (10 pts)"
   ]
  },
  {
   "cell_type": "markdown",
   "metadata": {},
   "source": [
    "### Question 6a (5 pts)\n",
    "- Compute mean squared error (MSE) using the transform method on each fitted model.\n",
    "- Print the resulting MSEs."
   ]
  },
  {
   "cell_type": "code",
   "execution_count": 39,
   "metadata": {
    "scrolled": true
   },
   "outputs": [
    {
     "name": "stdout",
     "output_type": "stream",
     "text": [
      "+----------------------------+\n",
      "|mse of predicted Transistors|\n",
      "+----------------------------+\n",
      "|        1.364403248741274...|\n",
      "+----------------------------+\n",
      "\n",
      "+--------------------------------+\n",
      "|mse of predicted LOG Transistors|\n",
      "+--------------------------------+\n",
      "|             0.39534279946943013|\n",
      "+--------------------------------+\n",
      "\n"
     ]
    }
   ],
   "source": [
    "# your code here\n",
    "mse_transistor = fn.mean((fn.col('Transistors') - fn.col('prediction'))**2).alias('mse of predicted Transistors')\n",
    "mse_log_transistor = fn.mean((fn.col('Log_Transistors') - fn.col('prediction'))**2).alias('mse of predicted LOG Transistors')\n",
    "fitted_trans_pipe.transform(trans_test).select(mse_transistor).show()\n",
    "log_fitted_trans_pipe.transform(trans_test).select(mse_log_transistor).show()"
   ]
  },
  {
   "cell_type": "markdown",
   "metadata": {},
   "source": [
    "##### Grading Feedback Cell"
   ]
  },
  {
   "cell_type": "markdown",
   "metadata": {},
   "source": [
    "### Question 6b (5 pts)\n",
    "- Using log_fitted_trans_pipe and any needed support code, predict and print the number of transistors for the years 1970.0, 1980.0, 1990.0, 2000.0, and 2010.0"
   ]
  },
  {
   "cell_type": "code",
   "execution_count": 40,
   "metadata": {
    "scrolled": true
   },
   "outputs": [
    {
     "name": "stdout",
     "output_type": "stream",
     "text": [
      "Number of Transistors for year 1970:  1297.020637190146\n",
      "Number of Transistors for year 1980:  37526.743857063266\n",
      "Number of Transistors for year 1990:  1085762.6040278818\n",
      "Number of Transistors for year 2000:  31414407.730012853\n",
      "Number of Transistors for year 2010:  908914167.2097497\n"
     ]
    }
   ],
   "source": [
    "# Your code here\n",
    "transistor1970 = exp(log_fitted_trans_pipe.stages[1].intercept + (log_fitted_trans_pipe.stages[1].coefficients[0])*1970)\n",
    "transistor1980 = exp(log_fitted_trans_pipe.stages[1].intercept + (log_fitted_trans_pipe.stages[1].coefficients[0])*1980)\n",
    "transistor1990 = exp(log_fitted_trans_pipe.stages[1].intercept + (log_fitted_trans_pipe.stages[1].coefficients[0])*1990)\n",
    "transistor2000 = exp(log_fitted_trans_pipe.stages[1].intercept + (log_fitted_trans_pipe.stages[1].coefficients[0])*2000)\n",
    "transistor2010 = exp(log_fitted_trans_pipe.stages[1].intercept + (log_fitted_trans_pipe.stages[1].coefficients[0])*2010)\n",
    "print(\"Number of Transistors for year 1970: \",transistor1970)\n",
    "print(\"Number of Transistors for year 1980: \",transistor1980)\n",
    "print(\"Number of Transistors for year 1990: \",transistor1990)\n",
    "print(\"Number of Transistors for year 2000: \",transistor2000)\n",
    "print(\"Number of Transistors for year 2010: \",transistor2010)"
   ]
  },
  {
   "cell_type": "markdown",
   "metadata": {},
   "source": [
    "##### Grading Feedback Cell"
   ]
  },
  {
   "cell_type": "markdown",
   "metadata": {},
   "source": [
    "# Climate Change"
   ]
  },
  {
   "cell_type": "markdown",
   "metadata": {},
   "source": [
    "## Question 7 Load the global warming data (5 pts)\n",
    "- Read the globalWarm.txt file into a spark data frame named global_warm_df using only spark.  The columns should be named as per the header in the txt file.\n",
    "- Print the first 5 rows of global_warm_df \n",
    "- Print the shape of global_warm_df (num_rows, num_cols)\n",
    "- Make sure to use the get_training_filename function above to obtain the file name based on your runtime environment\n",
    "- A data description follows:\n",
    "<ul>\n",
    "<li/>Temp = annual surface temperature measured in 1/100<sup>o</sup> C   over the 1950-1980 mean.  \n",
    "<li/>Solar = annual mean intensity of sunlight piercing the atmosphere\n",
    "<li/>CO2 = annual average fraction CO<sub>2</sub> in atmosphere (#molecules/#molecules of dry air) \n",
    "<li/>IceShelf = sea ice in 1MM square miles  hypothesized to reflect heat\n",
    "<li/>Transmission = volcanic MLO transmission data where eruptions release greenhouse gases but also decrease the temperature\n",
    "</ul>"
   ]
  },
  {
   "cell_type": "code",
   "execution_count": 41,
   "metadata": {},
   "outputs": [
    {
     "name": "stdout",
     "output_type": "stream",
     "text": [
      "+----+----+------+-------+------------+--------+\n",
      "|Year|Temp|   CO2|  Solar|Transmission|IceShelf|\n",
      "+----+----+------+-------+------------+--------+\n",
      "|1979|   8|336.67|1366.43|   0.9284667|     7.2|\n",
      "|1980|  19|338.57|1366.51|  0.92966664|    7.85|\n",
      "|1981|  26|339.92|1366.51|  0.92976665|    7.25|\n",
      "|1982|   4| 341.3|1366.16|   0.8530667|    7.45|\n",
      "|1983|  25|342.71|1366.18|  0.89771664|    7.52|\n",
      "+----+----+------+-------+------------+--------+\n",
      "\n",
      "None\n",
      "Shape of global_warm_df is:  (32, 6)\n"
     ]
    }
   ],
   "source": [
    "# your code here\n",
    "def split_rdd_element(row):\n",
    "    #if row != row1:\n",
    "    return row.split(\"\\t\")\n",
    "\n",
    "globalWarm_file = get_training_filename('globalWarm.txt')\n",
    "global_warm_df_rdd = sc.textFile(globalWarm_file)\n",
    "row1 = global_warm_df_rdd.first()\n",
    "header = global_warm_df_rdd.first().split(\"\\t\")\n",
    "global_warm_df = global_warm_df_rdd.filter(lambda x: x!= row1).map(split_rdd_element).toDF(header) \n",
    "global_warm_df = global_warm_df.select(global_warm_df.Year.cast('int'),global_warm_df.Temp.cast('int'),global_warm_df.CO2.cast('float'),\n",
    "                                      global_warm_df.Solar.cast('float'),global_warm_df.Transmission.cast('float'),\n",
    "                                      global_warm_df.IceShelf.cast('float'))\n",
    "\n",
    "print(global_warm_df.limit(5).show())         ## Printing the 1st 5 rows of global_warm_df\n",
    "print(\"Shape of global_warm_df is: \",(global_warm_df.count(), len(global_warm_df.columns)))        ##Printing the shape of the global_warm_df"
   ]
  },
  {
   "cell_type": "markdown",
   "metadata": {},
   "source": [
    "##### Grading Feedback Cell"
   ]
  },
  {
   "cell_type": "markdown",
   "metadata": {},
   "source": [
    "## Question 8 Global Warming Data Exploration (5 pts)\n",
    "- Create a temperature vs. year scatter plot from global_warm_df\n",
    "- You may use packages outside of spark for this question"
   ]
  },
  {
   "cell_type": "code",
   "execution_count": 155,
   "metadata": {},
   "outputs": [
    {
     "data": {
      "image/png": "[encoded data removed]",
      "text/plain": [
       "<Figure size 432x288 with 1 Axes>"
      ]
     },
     "metadata": {
      "needs_background": "light"
     },
     "output_type": "display_data"
    }
   ],
   "source": [
    "# your code here\n",
    "# your code here\n",
    "global_warm_df.select('Year', 'Temp').toPandas().plot(x='Year', y='Temp', kind='scatter');\n",
    "plt.title(\"Temperature Vs Year Scatter Plot\")\n",
    "plt.xlabel(\"Year\")\n",
    "plt.ylabel(\"Temperature\")\n",
    "display()"
   ]
  },
  {
   "cell_type": "markdown",
   "metadata": {},
   "source": [
    "##### Grading Feedback Cell"
   ]
  },
  {
   "cell_type": "markdown",
   "metadata": {},
   "source": [
    "## Question 9 Global Warming Data Exploration (10 pts)\n"
   ]
  },
  {
   "cell_type": "markdown",
   "metadata": {},
   "source": [
    "### Question 9a (5 pts)\n",
    "- Using global_warm_df, create a pair plot of the following variables in a grid:  Temp, CO<sub>2</sub>, Solar, Transmission, and IceShelf.\n",
    "- You may use packages outside of spark for this question"
   ]
  },
  {
   "cell_type": "code",
   "execution_count": 44,
   "metadata": {},
   "outputs": [
    {
     "data": {
      "text/plain": [
       "Text(0.5, 1.05, 'Paiplot of Temp, CO2, Solar, Transmission, IceShelf')"
      ]
     },
     "execution_count": 44,
     "metadata": {},
     "output_type": "execute_result"
    },
    {
     "data": {
      "image/png": "[encoded data removed]",
      "text/plain": [
       "<Figure size 900x900 with 30 Axes>"
      ]
     },
     "metadata": {
      "needs_background": "light"
     },
     "output_type": "display_data"
    }
   ],
   "source": [
    "# your code here\n",
    "ax = sns.pairplot(global_warm_df.toPandas()[['Temp', 'CO2', 'Solar', 'Transmission', 'IceShelf']])\n",
    "ax.fig.suptitle(\"Paiplot of Temp, CO2, Solar, Transmission, IceShelf\", y=1.05)"
   ]
  },
  {
   "cell_type": "markdown",
   "metadata": {},
   "source": [
    "##### Grading Feedback Cell"
   ]
  },
  {
   "cell_type": "markdown",
   "metadata": {},
   "source": [
    "### Question 9b (5 pts)\n",
    "- Compute a correlation matrix between Temp, CO<sub>2</sub>, Solar, Transmission, and IceShelf using spark.\n",
    "- Print a labeled correlation matrix."
   ]
  },
  {
   "cell_type": "code",
   "execution_count": 46,
   "metadata": {
    "scrolled": true
   },
   "outputs": [
    {
     "name": "stdout",
     "output_type": "stream",
     "text": [
      "+------------+-------------------+-------------------+--------------------+--------------------+--------------------+\n",
      "|       Index|               Temp|                CO2|               Solar|        Transmission|            IceShelf|\n",
      "+------------+-------------------+-------------------+--------------------+--------------------+--------------------+\n",
      "|        Temp|                1.0| 0.8609275064150844| -0.3403429559548232| 0.43539404481646427| -0.7474254690397607|\n",
      "|         CO2| 0.8609275064150844|                1.0| -0.5428219485719704|  0.3282277913616061| -0.8469607659494824|\n",
      "|       Solar|-0.3403429559548232|-0.5428219485719704|                 1.0|-0.20586049601168677|  0.4706903276272281|\n",
      "|Transmission|0.43539404481646427| 0.3282277913616061|-0.20586049601168677|                 1.0|-0.30248398847116903|\n",
      "|    IceShelf|-0.7474254690397607|-0.8469607659494824|  0.4706903276272281|-0.30248398847116903|                 1.0|\n",
      "+------------+-------------------+-------------------+--------------------+--------------------+--------------------+\n",
      "\n"
     ]
    }
   ],
   "source": [
    "# your code here\n",
    "features = global_warm_df.select('Temp','CO2','Solar','Transmission','IceShelf').rdd.map(lambda row: row[0:])\n",
    "corr_mat = Statistics.corr(features, method=\"pearson\")\n",
    "corr_mat_lists = [[[k]+l.tolist() for l in list(corr_mat)] for k in ['Temp','CO2','Solar','Transmission','IceShelf']]\n",
    "corr_mat_lists_2 = [corr_mat_lists[0][0]]+[corr_mat_lists[1][1]]+[corr_mat_lists[2][2]]+[corr_mat_lists[3][3]]+[corr_mat_lists[4][4]]\n",
    "corr_mat_rdd = sc.parallelize(corr_mat_lists_2)\n",
    "\n",
    "corr_mat_df = corr_mat_rdd.toDF(['Index','Temp','CO2','Solar','Transmission','IceShelf'])\n",
    "corr_mat_df.show()"
   ]
  },
  {
   "cell_type": "markdown",
   "metadata": {},
   "source": [
    "##### Grading Feedback Cell"
   ]
  },
  {
   "cell_type": "markdown",
   "metadata": {},
   "source": [
    "## Question 10 Fit Linear Regression Pipelines (10 pts)"
   ]
  },
  {
   "cell_type": "markdown",
   "metadata": {},
   "source": [
    "### Question 10a (2 pts)\n",
    "Split global_warm_df into train and test splits with a 60:40 ratio.  Name the resulting data frames gw_train and gw_test.  Print the shape of of the train and test data frames.   "
   ]
  },
  {
   "cell_type": "code",
   "execution_count": 47,
   "metadata": {},
   "outputs": [
    {
     "name": "stdout",
     "output_type": "stream",
     "text": [
      "(19, 6)\n",
      "(13, 6)\n"
     ]
    }
   ],
   "source": [
    "# your code here\n",
    "gw_train, gw_test = global_warm_df.randomSplit([0.6, 0.4],12)\n",
    "print((gw_train.count(), len(gw_train.columns))) \n",
    "print((gw_test.count(), len(gw_test.columns))) "
   ]
  },
  {
   "cell_type": "markdown",
   "metadata": {},
   "source": [
    "##### Grading Feedback Cell"
   ]
  },
  {
   "cell_type": "markdown",
   "metadata": {},
   "source": [
    "### Question 10b (6 pts)\n",
    "- Create a spark pipeline named global_warm_pipe to perform linear regression.\n",
    "- Use the global_warm_df data frame\n",
    "- Fit a pipeline on the temp column as the target and CO2 as the feature.  Name the resulting fitted pipeline fitted_global_warm_pipe.\n",
    "- Fit another pipeline on the temp column as the target and all other columns except year as the features.  Name the resulting fitted pipeline fitted_global_warm_pipe_2."
   ]
  },
  {
   "cell_type": "code",
   "execution_count": 48,
   "metadata": {},
   "outputs": [],
   "source": [
    "# your code here\n",
    "\n",
    "va_co2 = feature.VectorAssembler(inputCols=['CO2'], outputCol='features')\n",
    "lr_global_warm = regression.LinearRegression(featuresCol='features', labelCol='Temp')\n",
    "global_warm_pipe = Pipeline(stages=[va_co2, lr_global_warm])\n",
    "fitted_global_warm_pipe = global_warm_pipe.fit(gw_train)\n",
    "\n",
    "va_all = feature.VectorAssembler(inputCols=['CO2','Solar','Transmission','IceShelf'], outputCol='features_all')\n",
    "lr_global_warm_all = regression.LinearRegression(featuresCol='features_all', labelCol='Temp')\n",
    "global_warm_pipe_all = Pipeline(stages=[va_all, lr_global_warm_all])\n",
    "fitted_global_warm_pipe_2 = global_warm_pipe_all.fit(gw_train)"
   ]
  },
  {
   "cell_type": "markdown",
   "metadata": {},
   "source": [
    "##### Grading Feedback Cell"
   ]
  },
  {
   "cell_type": "markdown",
   "metadata": {},
   "source": [
    "### Question 10c (2 pts)\n",
    "- Print the linear regression coefficient(s) in the linear regression object in each fitted model\n",
    "- Print the linear regression Y intercept in the linear regression object in each fitted model"
   ]
  },
  {
   "cell_type": "code",
   "execution_count": 51,
   "metadata": {
    "scrolled": false
   },
   "outputs": [
    {
     "name": "stdout",
     "output_type": "stream",
     "text": [
      "The Linear Regression Coefficient co2 model is:  0.8798406701290213\n",
      "The Linear Regression Intercept co2 model is:  -281.11507345537973\n",
      "\n",
      "The Linear Regression Coefficient of all features Model is:  [0.8936794097950107,8.011344551208783,168.03797084940905,-1.827942874965872]\n",
      "The Linear Regression Intercept of all features Model is:  -11372.662335212566\n"
     ]
    }
   ],
   "source": [
    "# your code here\n",
    "print(\"The Linear Regression Coefficient co2 model is: \",fitted_global_warm_pipe.stages[1].coefficients[0])\n",
    "print(\"The Linear Regression Intercept co2 model is: \",fitted_global_warm_pipe.stages[1].intercept)\n",
    "\n",
    "print(\"\\nThe Linear Regression Coefficient of all features Model is: \",fitted_global_warm_pipe_2.stages[1].coefficients)\n",
    "print(\"The Linear Regression Intercept of all features Model is: \",fitted_global_warm_pipe_2.stages[1].intercept)"
   ]
  },
  {
   "cell_type": "markdown",
   "metadata": {},
   "source": [
    "##### Grading Feedback Cell"
   ]
  },
  {
   "cell_type": "markdown",
   "metadata": {},
   "source": [
    "### Question 11 Test the linear regression pipeline (10 pts)"
   ]
  },
  {
   "cell_type": "markdown",
   "metadata": {},
   "source": [
    "### Question 11a (5 pts)\n",
    "- Compute mean squared error (MSE) using the transform method on each fitted model.\n",
    "- Print the resulting MSEs."
   ]
  },
  {
   "cell_type": "code",
   "execution_count": 52,
   "metadata": {
    "scrolled": true
   },
   "outputs": [
    {
     "name": "stdout",
     "output_type": "stream",
     "text": [
      "+-----------------------+\n",
      "|mse of only co2 feature|\n",
      "+-----------------------+\n",
      "|     132.88955318312426|\n",
      "+-----------------------+\n",
      "\n",
      "+-------------------+\n",
      "|mse of all features|\n",
      "+-------------------+\n",
      "|  97.21417568028954|\n",
      "+-------------------+\n",
      "\n"
     ]
    }
   ],
   "source": [
    "# your code here\n",
    "mse_co2 = fn.mean((fn.col('Temp') - fn.col('prediction'))**2).alias('mse of only co2 feature')\n",
    "mse_all = fn.mean((fn.col('Temp') - fn.col('prediction'))**2).alias('mse of all features')\n",
    "fitted_global_warm_pipe.transform(gw_test).select(mse_co2).show()\n",
    "fitted_global_warm_pipe_2.transform(gw_test).select(mse_all).show()"
   ]
  },
  {
   "cell_type": "markdown",
   "metadata": {},
   "source": [
    "##### Grading Feedback Cell"
   ]
  },
  {
   "cell_type": "markdown",
   "metadata": {},
   "source": [
    "### Question 11b (5 pts)\n",
    "- Which of the 2 models have higher performance.  In the cell below, describe why you think the better performing model made the model perform better."
   ]
  },
  {
   "cell_type": "markdown",
   "metadata": {},
   "source": [
    "The model which includes all the features is bettter as it has a lower Mean Squared Error. The model with all the features is performing better because by increasing the number of features, the variance of the model is increasing and thereby the fit of the model is improving which is reducing the bias. Hence since the predicted values are closer to the actual values, the MSE is also lower for the model with all the features, which is the better performing model."
   ]
  },
  {
   "cell_type": "markdown",
   "metadata": {},
   "source": [
    "### Question 12 Inference (10 pts)"
   ]
  },
  {
   "cell_type": "markdown",
   "metadata": {},
   "source": [
    "### Question 12a Data Scaling (5 pts)\n",
    "Add data scaling to fitted_global_warm_pipe_2 above. Name the resulting fitted model fitted_global_warm_pipe_3.  Print the resulting fitted model coefficients such that each coefficient is clearly labeled with it's corresponding feature name."
   ]
  },
  {
   "cell_type": "code",
   "execution_count": 74,
   "metadata": {
    "scrolled": true
   },
   "outputs": [
    {
     "name": "stdout",
     "output_type": "stream",
     "text": [
      "Intercept of the model is:  37.421052631578036\n",
      "Coefficient of CO2 is:  14.400342550378179\n",
      "Coefficient of Solar is:  3.69445696498837\n",
      "Coefficient of Transmission is:  3.1268456590488296\n",
      "Coefficient of IceShelf is:  -1.756452307902348\n"
     ]
    }
   ],
   "source": [
    "# your code here\n",
    "\n",
    "va_pipe2 = feature.VectorAssembler(inputCols=['CO2','Solar','Transmission','IceShelf'], outputCol='features_all')\n",
    "\n",
    "scaler = StandardScaler(inputCol = 'features_all', outputCol=\"scaledFeatures\",withStd=True, withMean=True)\n",
    "lr_global_warm_all_scaled = regression.LinearRegression(featuresCol='scaledFeatures', labelCol='Temp')\n",
    "global_warm_pipe_all_std = Pipeline(stages=[va_pipe2,scaler, lr_global_warm_all_scaled])\n",
    "fitted_global_warm_pipe_3 = global_warm_pipe_all_std.fit(gw_train)\n",
    "print(\"Intercept of the model is: \",fitted_global_warm_pipe_3.stages[2].intercept)\n",
    "print(\"Coefficient of CO2 is: \",fitted_global_warm_pipe_3.stages[2].coefficients[0])\n",
    "print(\"Coefficient of Solar is: \",fitted_global_warm_pipe_3.stages[2].coefficients[1])\n",
    "print(\"Coefficient of Transmission is: \",fitted_global_warm_pipe_3.stages[2].coefficients[2])\n",
    "print(\"Coefficient of IceShelf is: \",fitted_global_warm_pipe_3.stages[2].coefficients[3])"
   ]
  },
  {
   "cell_type": "markdown",
   "metadata": {},
   "source": [
    "### Question 12b Inference (5 pts)  \n",
    "Use the coefficients printed above to gain insights into the global warming problem. Describe your inference conclusions in the cell below."
   ]
  },
  {
   "cell_type": "markdown",
   "metadata": {},
   "source": [
    "Coefficient inference conclusions here: \n",
    "The insights that we can obtain from these coefficients are that, CO2, Solar and Transmission have a positive impact on temperature, i.e. an increase in CO2 or Solar or Transmission will result in an increase in temperature, whereas on the other hand IceShelf has a negative impact on temperature, i.e. an increase in IceShelf will result in a decrease in temperature.\n",
    "The coefficient of CO2 is 14.4 which indicates that, 1 standard deviation increase in CO2, keeping all the other variables constant will result in 14.4 units increase in temperature.  When all the variables are 0, the temperature is going to be equal to the intercept. When IceShelf increases by 1 standard deviation the temperature is going to decrease by 1.75 units."
   ]
  },
  {
   "cell_type": "markdown",
   "metadata": {},
   "source": [
    "##### Grading Feedback Cell"
   ]
  },
  {
   "cell_type": "markdown",
   "metadata": {},
   "source": [
    "# Question 13 Extra Credit (10 pts)\n",
    "This question is optional.  No points will be deducted from your score if you do not attempt this problem.<br>\n",
    "\n",
    "Starting with the rdd class presented in lecture (maintaining all class method names), implement a my_reduce method in the rdd class.  Your implementation shall maintain rdd class immutability.  Your my_reduce method return type should be consistent with the return type in the real Spark reduce method. Do some research and see what the Spark reduce return type would be.  <br>\n",
    "\n",
    "Implement a function named times_3 which returns its input multiplied by 3. Implement a function named is_even that returns true if it's input is even, false otherwise.  Implement a my_sum function that returns the sum of its 2 inputs.  <br>\n",
    "\n",
    "Your overall implementation should not rely on receiving specific data types as inputs.  For example, the plus operator works on more than just ints and floats."
   ]
  },
  {
   "cell_type": "code",
   "execution_count": 190,
   "metadata": {},
   "outputs": [],
   "source": [
    "def times_3(el):\n",
    "    return el*3\n",
    "    \n",
    "def is_even(el):\n",
    "    if el%2 == 0:\n",
    "        return True\n",
    "    else:\n",
    "        return False\n",
    "\n",
    "def my_sum(a,b):\n",
    "    return a+b"
   ]
  },
  {
   "cell_type": "code",
   "execution_count": 195,
   "metadata": {},
   "outputs": [],
   "source": [
    "# your code here\n",
    "import numpy as np\n",
    "\n",
    "# define our own simple as possible rdd class\n",
    "class rdd:\n",
    "    def __init__(self, arg_array):\n",
    "        self.local_array = arg_array\n",
    "    \n",
    "    # define our own map function\n",
    "    def my_map(self, fun):\n",
    "        if len(self.local_array) < 1:\n",
    "            raise Exception(\"my_map: len(local_array) < 1\")\n",
    "        \n",
    "        # create a new numpy array to hold the result\n",
    "        # remember that rdd's are supposed to be immutable\n",
    "        mapped = np.empty_like(self.local_array)\n",
    "        \n",
    "        # for each element in the local array\n",
    "        for i, el in enumerate(self.local_array):\n",
    "            # execute the user defined function on this element\n",
    "            mapped[i] = fun(self.local_array[i])\n",
    "        \n",
    "        # This is the key to how the data is passed.  The return value is another rdd object!\n",
    "        # The fact that we are returning a new rdd is the key to how chaining works\n",
    "        # create a new rdd using the array created by applying the user defined function\n",
    "        return rdd(mapped)\n",
    "    \n",
    "    def my_filter(self, fun):\n",
    "        # create a temporary list to store the filtered results\n",
    "        transformed = []\n",
    "\n",
    "        for el in self.local_array:\n",
    "            if fun(el):\n",
    "                transformed.append(el)\n",
    "                \n",
    "        return rdd(np.array(transformed))\n",
    "    \n",
    "    def my_reduce(self,fun):\n",
    "        if len(self.local_array) < 1:\n",
    "            raise Exception(\"my_reduce: len(local_array) < 1\")\n",
    "        total = self.local_array[0]\n",
    "        for i in range(1,len(self.local_array)):\n",
    "            total = fun(total,self.local_array[i])\n",
    "        return total\n",
    "            \n",
    "    \n",
    "    def collect(self):\n",
    "        return self.local_array"
   ]
  },
  {
   "cell_type": "code",
   "execution_count": 196,
   "metadata": {
    "scrolled": true
   },
   "outputs": [
    {
     "name": "stdout",
     "output_type": "stream",
     "text": [
      "<class 'numpy.int32'>\n",
      "7350\n"
     ]
    }
   ],
   "source": [
    "# Simple test code\n",
    "test_rdd = rdd(np.arange(100))\n",
    "result = test_rdd.my_map(times_3).my_filter(is_even).my_reduce(my_sum)\n",
    "print(type(result))\n",
    "print(result)\n",
    "\n",
    "# secret grading test code follows\n"
   ]
  },
  {
   "cell_type": "code",
   "execution_count": 197,
   "metadata": {},
   "outputs": [
    {
     "name": "stdout",
     "output_type": "stream",
     "text": [
      "<class 'str'>\n",
      "ThisThisisisisaaasentencenewnewnehihihi\n"
     ]
    }
   ],
   "source": [
    "test_rdd = rdd(['This','is','a','sentence','new','hi'])\n",
    "result = test_rdd.my_map(times_3).my_reduce(my_sum)\n",
    "print(type(result))\n",
    "print(result)"
   ]
  },
  {
   "cell_type": "markdown",
   "metadata": {},
   "source": [
    "##### Grading Feedback Cell"
   ]
  }
 ],
 "metadata": {
  "celltoolbar": "Edit Metadata",
  "kernelspec": {
   "display_name": "Python 3",
   "language": "python",
   "name": "python3"
  },
  "language_info": {
   "codemirror_mode": {
    "name": "ipython",
    "version": 3
   },
   "file_extension": ".py",
   "mimetype": "text/x-python",
   "name": "python",
   "nbconvert_exporter": "python",
   "pygments_lexer": "ipython3",
   "version": "3.7.4"
  }
 },
 "nbformat": 4,
 "nbformat_minor": 2
}
