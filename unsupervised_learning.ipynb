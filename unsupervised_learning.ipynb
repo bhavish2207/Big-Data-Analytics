{
 "cells": [
  {
   "cell_type": "markdown",
   "metadata": {},
   "source": [
    "# Unsupervised learning"
   ]
  },
  {
   "cell_type": "code",
   "execution_count": 190,
   "metadata": {},
   "outputs": [],
   "source": [
    "from pyspark.ml import feature\n",
    "from pyspark.ml import clustering\n",
    "from pyspark.ml import Pipeline\n",
    "from pyspark.sql import functions as fn\n",
    "import numpy as np\n",
    "from pyspark.sql import SparkSession\n",
    "from pyspark.ml import feature, regression, evaluation, Pipeline\n",
    "from pyspark.sql import functions as fn, Row\n",
    "import matplotlib.pyplot as plt\n",
    "import pandas as pd\n",
    "\n",
    "# seting master(\"local[*]\") enables multicore processing on all available logical cores on your machine\n",
    "spark = SparkSession.builder.master(\"local[*]\").getOrCreate()\n",
    "sc = spark.sparkContext"
   ]
  },
  {
   "cell_type": "code",
   "execution_count": 191,
   "metadata": {},
   "outputs": [],
   "source": [
    "import os\n",
    "\n",
    "# Define a function to determine if we are running on data bricks\n",
    "# Return true if running in the data bricks environment, false otherwise\n",
    "def is_databricks():\n",
    "    # get the databricks runtime version\n",
    "    db_env = os.getenv(\"DATABRICKS_RUNTIME_VERSION\")\n",
    "    \n",
    "    # if running on data bricks\n",
    "    if db_env != None:\n",
    "        return True\n",
    "    else:\n",
    "        return False"
   ]
  },
  {
   "cell_type": "markdown",
   "metadata": {},
   "source": [
    "# PCA example with diabetes dataset"
   ]
  },
  {
   "cell_type": "code",
   "execution_count": 192,
   "metadata": {},
   "outputs": [],
   "source": [
    "# we will use pandas to display the data nicely\n",
    "datasource = pd.read_csv('http://www4.stat.ncsu.edu/~boos/var.select/diabetes.tab.txt', delimiter='\\t')\n",
    "datasource.columns = ['age', 'sex', 'bmi', 'map', 'tc', 'ldl', 'hdl', 'tch', 'ltg', 'glu', 'disease_progression']\n",
    "diabetes_df = spark.createDataFrame(datasource)"
   ]
  },
  {
   "cell_type": "code",
   "execution_count": 193,
   "metadata": {},
   "outputs": [
    {
     "name": "stdout",
     "output_type": "stream",
     "text": [
      "datasource: (442, 11)\n"
     ]
    },
    {
     "data": {
      "text/plain": [
       "DataFrame[age: bigint, sex: bigint, bmi: double, map: double, tc: bigint, ldl: double, hdl: double, tch: double, ltg: double, glu: bigint, disease_progression: bigint]"
      ]
     },
     "execution_count": 193,
     "metadata": {},
     "output_type": "execute_result"
    }
   ],
   "source": [
    "print(\"datasource:\", datasource.shape)\n",
    "diabetes_df"
   ]
  },
  {
   "cell_type": "markdown",
   "metadata": {},
   "source": [
    "## Build a pipeline"
   ]
  },
  {
   "cell_type": "code",
   "execution_count": 194,
   "metadata": {},
   "outputs": [],
   "source": [
    "pipeline_diabetes = Pipeline(stages=[\n",
    "    # vector assembler concatenates the specified input cols into vectors in the specified output col \n",
    "    feature.VectorAssembler(inputCols=['age', 'sex', 'bmi', 'map', 'tc', 'ldl', 'hdl', 'tch', 'ltg', 'glu'],\n",
    "                           outputCol='features'),\n",
    "    feature.StandardScaler(withMean=True,\n",
    "                           inputCol='features', outputCol='zfeatures'),\n",
    "    # build a principal component object with the same number of components as features (10)\n",
    "    feature.PCA(k=10, inputCol='zfeatures', outputCol='scores')\n",
    "]).fit(diabetes_df)"
   ]
  },
  {
   "cell_type": "markdown",
   "metadata": {},
   "source": [
    "The `loadings` array are the loadings in ISLR equation 10.1.  The loadings are the coefficients in equation 10.1 that are used to perform the linear combination of column vectors in the dataset.  The linear combination of column vectors forms a principal component where each principal component captures a degree of variance in the data.  The first principal component captures the highest degree of variance, the 2nd principal component captures the next highest degree of variance in an orthoganal direction, etc.  <br> <br>\n",
    "Each loading vector represents a specific direction in the data set's p dimensional space (where p is the number of features) which captures variance.  The direction of the loading vector associated with the first principal component represents the direction which captures the most variance in the data.  The loading vector associated with the 2nd principal component is orthogonal to the 1st component and captures the 2nd most varinace, etc."
   ]
  },
  {
   "cell_type": "code",
   "execution_count": 195,
   "metadata": {},
   "outputs": [],
   "source": [
    "loadings = pipeline_diabetes.stages[-1].pc.toArray()"
   ]
  },
  {
   "cell_type": "code",
   "execution_count": 196,
   "metadata": {
    "scrolled": true
   },
   "outputs": [
    {
     "name": "stdout",
     "output_type": "stream",
     "text": [
      "loadings.shape (10, 10)\n",
      "[-0.2164309  -0.18696688 -0.30316216 -0.27173773 -0.34325511 -0.35186068\n",
      "  0.28243681 -0.4288337  -0.37861802 -0.32218296]\n"
     ]
    }
   ],
   "source": [
    "print(\"loadings.shape\", loadings.shape)\n",
    "\n",
    "# print the first column of the loading array - the first principal component\n",
    "print(loadings[:,0])"
   ]
  },
  {
   "cell_type": "markdown",
   "metadata": {},
   "source": [
    "The proportion of explained variance associated with each of the principal components is found in the explainedVariance attribute of the PCA object.  The explained variance shows the percentage of variance captured by each of the principal components.  For example, the first component captures 40.24 percent of the total variance in the diabetes dataset.  The 2nd component captures 14.92 percent of the total variance."
   ]
  },
  {
   "cell_type": "code",
   "execution_count": 197,
   "metadata": {
    "scrolled": true
   },
   "outputs": [
    {
     "data": {
      "text/plain": [
       "DenseVector([0.4024, 0.1492, 0.1206, 0.0955, 0.0662, 0.0603, 0.0537, 0.0434, 0.0078, 0.0009])"
      ]
     },
     "execution_count": 197,
     "metadata": {},
     "output_type": "execute_result"
    }
   ],
   "source": [
    "pipeline_diabetes.stages[-1].explainedVariance"
   ]
  },
  {
   "cell_type": "markdown",
   "metadata": {},
   "source": [
    "Note that if we sum the explained variance vector that it sums to 1 (or 100%, or very very close to 100%)."
   ]
  },
  {
   "cell_type": "code",
   "execution_count": 198,
   "metadata": {},
   "outputs": [
    {
     "data": {
      "text/plain": [
       "0.9999999999999998"
      ]
     },
     "execution_count": 198,
     "metadata": {},
     "output_type": "execute_result"
    }
   ],
   "source": [
    "sum(pipeline_diabetes.stages[-1].explainedVariance)"
   ]
  },
  {
   "cell_type": "markdown",
   "metadata": {},
   "source": [
    "The cell below generates a \"scree polot\" using the explainedVariance attribute.  See ISLR figure 10.4."
   ]
  },
  {
   "cell_type": "code",
   "execution_count": 199,
   "metadata": {},
   "outputs": [
    {
     "data": {
      "text/plain": [
       "Text(0, 0.5, 'Proportion Variance Explained')"
      ]
     },
     "execution_count": 199,
     "metadata": {},
     "output_type": "execute_result"
    },
    {
     "data": {
      "image/png": "[encoded data removed]",
      "text/plain": [
       "<Figure size 432x288 with 1 Axes>"
      ]
     },
     "metadata": {
      "needs_background": "light"
     },
     "output_type": "display_data"
    }
   ],
   "source": [
    "plt.figure()\n",
    "explained_var = pipeline_diabetes.stages[-1].explainedVariance\n",
    "plt.plot(np.arange(1, len(explained_var)+1), explained_var)\n",
    "plt.title(\"Diabetes Dataset Scree Plot\")\n",
    "plt.xlabel(\"Principal Component\")\n",
    "plt.ylabel(\"Proportion Variance Explained\")"
   ]
  },
  {
   "cell_type": "markdown",
   "metadata": {},
   "source": [
    "Here is another way of looking at the explained variance - plot the cumulative variance vs. the principal components.  See ISLR figure 10.4."
   ]
  },
  {
   "cell_type": "code",
   "execution_count": 200,
   "metadata": {},
   "outputs": [
    {
     "data": {
      "text/plain": [
       "Text(0, 0.5, 'Cumulative Sum of Variance Explained')"
      ]
     },
     "execution_count": 200,
     "metadata": {},
     "output_type": "execute_result"
    },
    {
     "data": {
      "image/png": "[encoded data removed]",
      "text/plain": [
       "<Figure size 432x288 with 1 Axes>"
      ]
     },
     "metadata": {
      "needs_background": "light"
     },
     "output_type": "display_data"
    }
   ],
   "source": [
    "cum_sum = np.cumsum(explained_var)\n",
    "plt.figure()\n",
    "plt.plot(np.arange(1, len(explained_var)+1), cum_sum)\n",
    "plt.title(\"Diabetes Dataset Cumulative Sum of Variance Explained\")\n",
    "plt.xlabel(\"Cumulative Components\")\n",
    "plt.ylabel(\"Cumulative Sum of Variance Explained\")"
   ]
  },
  {
   "cell_type": "markdown",
   "metadata": {},
   "source": [
    "Execute the diabetes pipeline and show the first row of standardized features and PCA scores.  The \"scores\" are like ISLR equation 10.2.  The scores are produced by projecting the data observations onto the loading vectors.  A projection is performed by multiplying the loading vector by the data observations which \"projects\" the observation in the direction of the loading vector."
   ]
  },
  {
   "cell_type": "code",
   "execution_count": 201,
   "metadata": {
    "scrolled": false
   },
   "outputs": [
    {
     "name": "stdout",
     "output_type": "stream",
     "text": [
      "[Row(zfeatures=DenseVector([0.7996, 1.0643, 1.2956, 0.4593, -0.9287, -0.7312, -0.9114, -0.0544, 0.4181, -0.3706]), scores=DenseVector([-0.5865, -1.9446, 0.5885, 0.0827, 0.2564, -1.0101, -0.1796, 0.7566, 0.1809, 0.0489]))]\n"
     ]
    },
    {
     "data": {
      "text/html": [
       "<div>\n",
       "<style scoped>\n",
       "    .dataframe tbody tr th:only-of-type {\n",
       "        vertical-align: middle;\n",
       "    }\n",
       "\n",
       "    .dataframe tbody tr th {\n",
       "        vertical-align: top;\n",
       "    }\n",
       "\n",
       "    .dataframe thead th {\n",
       "        text-align: right;\n",
       "    }\n",
       "</style>\n",
       "<table border=\"1\" class=\"dataframe\">\n",
       "  <thead>\n",
       "    <tr style=\"text-align: right;\">\n",
       "      <th></th>\n",
       "      <th>age</th>\n",
       "      <th>sex</th>\n",
       "      <th>bmi</th>\n",
       "      <th>map</th>\n",
       "      <th>tc</th>\n",
       "      <th>ldl</th>\n",
       "      <th>hdl</th>\n",
       "      <th>tch</th>\n",
       "      <th>ltg</th>\n",
       "      <th>glu</th>\n",
       "      <th>disease_progression</th>\n",
       "      <th>features</th>\n",
       "      <th>zfeatures</th>\n",
       "      <th>scores</th>\n",
       "    </tr>\n",
       "  </thead>\n",
       "  <tbody>\n",
       "    <tr>\n",
       "      <td>0</td>\n",
       "      <td>59</td>\n",
       "      <td>2</td>\n",
       "      <td>32.1</td>\n",
       "      <td>101.0</td>\n",
       "      <td>157</td>\n",
       "      <td>93.2</td>\n",
       "      <td>38.0</td>\n",
       "      <td>4.0</td>\n",
       "      <td>4.8598</td>\n",
       "      <td>87</td>\n",
       "      <td>151</td>\n",
       "      <td>[59.0, 2.0, 32.1, 101.0, 157.0, 93.2, 38.0, 4.0, 4.8598, 87.0]</td>\n",
       "      <td>[0.7995940351018838, 1.0642824935361896, 1.2956203368923545, 0.4593200957947719, -0.9286934669133657, -0.7312360195916786, -0.911417758692523, -0.054437501961848156, 0.41805720957971554, -0.37056862835587934]</td>\n",
       "      <td>[-0.5865345004628008, -1.9446286568771163, 0.5885385822773391, 0.08272184000589833, 0.25638973015942057, -1.01006556830413, -0.17964046398342473, 0.7565734789753054, 0.1808704127968728, 0.04889745662250157]</td>\n",
       "    </tr>\n",
       "    <tr>\n",
       "      <td>1</td>\n",
       "      <td>48</td>\n",
       "      <td>1</td>\n",
       "      <td>21.6</td>\n",
       "      <td>87.0</td>\n",
       "      <td>183</td>\n",
       "      <td>103.2</td>\n",
       "      <td>70.0</td>\n",
       "      <td>3.0</td>\n",
       "      <td>3.8918</td>\n",
       "      <td>69</td>\n",
       "      <td>75</td>\n",
       "      <td>[48.0, 1.0, 21.6, 87.0, 183.0, 103.2, 70.0, 3.0, 3.8918, 69.0]</td>\n",
       "      <td>[-0.039522347083602145, -0.937474366646771, -1.0809552860148093, -0.5528780911049113, -0.17742320633555317, -0.4024301347126671, 1.5626428456539025, -0.8293610403559584, -1.4349624889734371, -1.9362850421633024]</td>\n",
       "      <td>[2.8284203725740173, 1.3705287266001895, 0.02789825293130943, 0.4694764273892683, 0.14310718139790288, -1.0118688438815724, 0.22414356855169726, -0.1882230580999913, -0.5045562308482942, -0.043549267281752554]</td>\n",
       "    </tr>\n",
       "    <tr>\n",
       "      <td>2</td>\n",
       "      <td>72</td>\n",
       "      <td>2</td>\n",
       "      <td>30.5</td>\n",
       "      <td>93.0</td>\n",
       "      <td>156</td>\n",
       "      <td>93.6</td>\n",
       "      <td>41.0</td>\n",
       "      <td>4.0</td>\n",
       "      <td>4.6728</td>\n",
       "      <td>85</td>\n",
       "      <td>141</td>\n",
       "      <td>[72.0, 2.0, 30.5, 93.0, 156.0, 93.6, 41.0, 4.0, 4.6728, 85.0]</td>\n",
       "      <td>[1.7912770322301852, 1.0642824935361896, 0.9334754800684053, -0.11907886814790421, -0.9575884769355892, -0.7180837841965184, -0.6794745770350455, -0.054437501961848156, 0.0600874950864923, -0.5445371187789263]</td>\n",
       "      <td>[-0.2718205368550441, -1.6330507612915226, 0.7384070197965493, 0.7905964088659286, 1.1625529919061006, -1.1115030518064313, -0.46192812623204194, 0.8422485897646419, 0.02532452629581726, 0.05411385348062586]</td>\n",
       "    </tr>\n",
       "    <tr>\n",
       "      <td>3</td>\n",
       "      <td>24</td>\n",
       "      <td>1</td>\n",
       "      <td>25.3</td>\n",
       "      <td>84.0</td>\n",
       "      <td>198</td>\n",
       "      <td>131.4</td>\n",
       "      <td>40.0</td>\n",
       "      <td>5.0</td>\n",
       "      <td>4.8903</td>\n",
       "      <td>89</td>\n",
       "      <td>206</td>\n",
       "      <td>[24.0, 1.0, 25.3, 84.0, 198.0, 131.4, 40.0, 5.0, 4.8903, 89.0]</td>\n",
       "      <td>[-1.8703217263973897, -0.937474366646771, -0.24349530460942795, -0.7697777025834148, 0.2560019439978002, 0.5248024606461454, -0.7567889709208713, 0.7204860364322621, 0.47644264429652455, -0.19660013793283232]</td>\n",
       "      <td>[-0.04922536519991402, 0.3818453424540574, -2.010753160163291, -1.3716621074280093, -0.2552807400982159, 0.4447844932561747, 0.48155598133078814, -0.3674545221749749, 0.13770135970813036, 0.0744738779679798]</td>\n",
       "    </tr>\n",
       "    <tr>\n",
       "      <td>4</td>\n",
       "      <td>50</td>\n",
       "      <td>1</td>\n",
       "      <td>23.0</td>\n",
       "      <td>101.0</td>\n",
       "      <td>192</td>\n",
       "      <td>125.4</td>\n",
       "      <td>52.0</td>\n",
       "      <td>4.0</td>\n",
       "      <td>4.2905</td>\n",
       "      <td>80</td>\n",
       "      <td>135</td>\n",
       "      <td>[50.0, 1.0, 23.0, 101.0, 192.0, 125.4, 52.0, 4.0, 4.2905, 80.0]</td>\n",
       "      <td>[0.11304426785921348, -0.937474366646771, -0.7640785362938545, 0.4593200957947719, 0.08263188386445885, 0.3275189297187386, 0.17098375570903823, -0.054437501961848156, -0.6717404292491173, -0.9794583448365439]</td>\n",
       "      <td>[0.7555651902794538, 0.8110412184450315, -0.05717338868807276, 0.13733946654946544, 0.13325084110560537, -0.8136373169839043, 0.4360414706461321, -1.0585513315417305, -0.04423374447793292, 0.010901919044017239]</td>\n",
       "    </tr>\n",
       "  </tbody>\n",
       "</table>\n",
       "</div>"
      ],
      "text/plain": [
       "   age  sex   bmi    map   tc    ldl   hdl  tch     ltg  glu  \\\n",
       "0  59   2    32.1  101.0  157  93.2   38.0  4.0  4.8598  87    \n",
       "1  48   1    21.6  87.0   183  103.2  70.0  3.0  3.8918  69    \n",
       "2  72   2    30.5  93.0   156  93.6   41.0  4.0  4.6728  85    \n",
       "3  24   1    25.3  84.0   198  131.4  40.0  5.0  4.8903  89    \n",
       "4  50   1    23.0  101.0  192  125.4  52.0  4.0  4.2905  80    \n",
       "\n",
       "   disease_progression  \\\n",
       "0  151                   \n",
       "1  75                    \n",
       "2  141                   \n",
       "3  206                   \n",
       "4  135                   \n",
       "\n",
       "                                                          features  \\\n",
       "0  [59.0, 2.0, 32.1, 101.0, 157.0, 93.2, 38.0, 4.0, 4.8598, 87.0]    \n",
       "1  [48.0, 1.0, 21.6, 87.0, 183.0, 103.2, 70.0, 3.0, 3.8918, 69.0]    \n",
       "2  [72.0, 2.0, 30.5, 93.0, 156.0, 93.6, 41.0, 4.0, 4.6728, 85.0]     \n",
       "3  [24.0, 1.0, 25.3, 84.0, 198.0, 131.4, 40.0, 5.0, 4.8903, 89.0]    \n",
       "4  [50.0, 1.0, 23.0, 101.0, 192.0, 125.4, 52.0, 4.0, 4.2905, 80.0]   \n",
       "\n",
       "                                                                                                                                                                                                             zfeatures  \\\n",
       "0  [0.7995940351018838, 1.0642824935361896, 1.2956203368923545, 0.4593200957947719, -0.9286934669133657, -0.7312360195916786, -0.911417758692523, -0.054437501961848156, 0.41805720957971554, -0.37056862835587934]      \n",
       "1  [-0.039522347083602145, -0.937474366646771, -1.0809552860148093, -0.5528780911049113, -0.17742320633555317, -0.4024301347126671, 1.5626428456539025, -0.8293610403559584, -1.4349624889734371, -1.9362850421633024]   \n",
       "2  [1.7912770322301852, 1.0642824935361896, 0.9334754800684053, -0.11907886814790421, -0.9575884769355892, -0.7180837841965184, -0.6794745770350455, -0.054437501961848156, 0.0600874950864923, -0.5445371187789263]     \n",
       "3  [-1.8703217263973897, -0.937474366646771, -0.24349530460942795, -0.7697777025834148, 0.2560019439978002, 0.5248024606461454, -0.7567889709208713, 0.7204860364322621, 0.47644264429652455, -0.19660013793283232]      \n",
       "4  [0.11304426785921348, -0.937474366646771, -0.7640785362938545, 0.4593200957947719, 0.08263188386445885, 0.3275189297187386, 0.17098375570903823, -0.054437501961848156, -0.6717404292491173, -0.9794583448365439]     \n",
       "\n",
       "                                                                                                                                                                                                               scores  \n",
       "0  [-0.5865345004628008, -1.9446286568771163, 0.5885385822773391, 0.08272184000589833, 0.25638973015942057, -1.01006556830413, -0.17964046398342473, 0.7565734789753054, 0.1808704127968728, 0.04889745662250157]      \n",
       "1  [2.8284203725740173, 1.3705287266001895, 0.02789825293130943, 0.4694764273892683, 0.14310718139790288, -1.0118688438815724, 0.22414356855169726, -0.1882230580999913, -0.5045562308482942, -0.043549267281752554]   \n",
       "2  [-0.2718205368550441, -1.6330507612915226, 0.7384070197965493, 0.7905964088659286, 1.1625529919061006, -1.1115030518064313, -0.46192812623204194, 0.8422485897646419, 0.02532452629581726, 0.05411385348062586]     \n",
       "3  [-0.04922536519991402, 0.3818453424540574, -2.010753160163291, -1.3716621074280093, -0.2552807400982159, 0.4447844932561747, 0.48155598133078814, -0.3674545221749749, 0.13770135970813036, 0.0744738779679798]     \n",
       "4  [0.7555651902794538, 0.8110412184450315, -0.05717338868807276, 0.13733946654946544, 0.13325084110560537, -0.8136373169839043, 0.4360414706461321, -1.0585513315417305, -0.04423374447793292, 0.010901919044017239]  "
      ]
     },
     "metadata": {},
     "output_type": "display_data"
    }
   ],
   "source": [
    "first_row_scores = pipeline_diabetes.transform(diabetes_df).select('zfeatures', 'scores').take(1)\n",
    "print(first_row_scores)\n",
    "display(pipeline_diabetes.transform(diabetes_df).toPandas().head())"
   ]
  },
  {
   "cell_type": "markdown",
   "metadata": {},
   "source": [
    "Assign the first row of standardized features to the variable `z`."
   ]
  },
  {
   "cell_type": "code",
   "execution_count": 202,
   "metadata": {},
   "outputs": [
    {
     "name": "stdout",
     "output_type": "stream",
     "text": [
      "[0.7995940351018838,1.0642824935361896,1.2956203368923545,0.4593200957947719,-0.9286934669133657,-0.7312360195916786,-0.911417758692523,-0.054437501961848156,0.41805720957971554,-0.37056862835587934]\n"
     ]
    }
   ],
   "source": [
    "z = pipeline_diabetes.transform(diabetes_df).select('zfeatures', 'scores').first()['zfeatures']\n",
    "print(z)"
   ]
  },
  {
   "cell_type": "markdown",
   "metadata": {},
   "source": [
    "The purpose of the next cell is to show that if we multiply the first loading vector by the first observation row we will obtain the same score which we extracted from the pipeline above.  The matrix dot product of a standardized observation with the loadings vector projects the observation onto the loading vector (see equation 10.2 in ISLR).  Also note that the resulting score is equal to the score for the first row computed by the pipeline above."
   ]
  },
  {
   "cell_type": "code",
   "execution_count": 203,
   "metadata": {
    "scrolled": false
   },
   "outputs": [
    {
     "name": "stdout",
     "output_type": "stream",
     "text": [
      "-0.5865345004628009\n"
     ]
    }
   ],
   "source": [
    "scores = z.dot(loadings[:,0])\n",
    "print(scores)"
   ]
  },
  {
   "cell_type": "markdown",
   "metadata": {},
   "source": [
    "In the next cell, we multiply the first observation row of the data by all of the loading vectors producing a score for each of the 10 principal components.  Note that the resulting array of scores is equal to the scores for the first row computed by the pipeline above."
   ]
  },
  {
   "cell_type": "code",
   "execution_count": 204,
   "metadata": {},
   "outputs": [
    {
     "name": "stdout",
     "output_type": "stream",
     "text": [
      "[-0.5865345  -1.94462866  0.58853858  0.08272184  0.25638973 -1.01006557\n",
      " -0.17964046  0.75657348  0.18087041  0.04889746]\n"
     ]
    }
   ],
   "source": [
    "scores = z.dot(loadings)\n",
    "print(scores)"
   ]
  },
  {
   "cell_type": "markdown",
   "metadata": {},
   "source": [
    "The purpose of the following cell is the show that we can do an inverse transform which transforms the scores from the projection space back to the original data.  The The dot product of the loading vectors with the scores produces an approximation of the original observation row held in variable `z` (see equation 10.5 in ISLR).  The more loadings we use for the inverse transform, the closer the approximation to the original observation row.  The cell below computes the original data using from between 4 and 10 loading vectors.  Notice how the resulting transformed data gets closer to the original data held in 'z' above as the number of loading vectors increases."
   ]
  },
  {
   "cell_type": "code",
   "execution_count": 205,
   "metadata": {
    "scrolled": false
   },
   "outputs": [
    {
     "name": "stdout",
     "output_type": "stream",
     "text": [
      "all loadings shape: (10, 10)\n",
      "all scores shape: (10,)\n",
      "\n",
      "num_loadings: 4\n",
      "loadings shape: (10, 4)\n",
      "scores shape: (4,)\n",
      "inverse xform shape: (10,)\n",
      "inverse_xform: [ 0.36604541  0.85469882  0.53897377  0.73214235 -0.94769719 -0.82510297\n",
      " -0.91662271  0.15941187  0.28857141  0.50989389]\n",
      "\n",
      "num_loadings: 5\n",
      "loadings shape: (10, 5)\n",
      "scores shape: (5,)\n",
      "inverse xform shape: (10,)\n",
      "inverse_xform: [ 0.54215325  0.75894648  0.5058142   0.60731275 -0.98081759 -0.85502933\n",
      " -0.97943845  0.19624122  0.32745007  0.50183738]\n",
      "\n",
      "num_loadings: 6\n",
      "loadings shape: (10, 6)\n",
      "scores shape: (6,)\n",
      "inverse xform shape: (10,)\n",
      "inverse_xform: [ 0.77024155  0.71682127  0.91302331  0.88284174 -0.98627012 -0.72042643\n",
      " -1.08686299  0.23051869  0.14692016 -0.31133202]\n",
      "\n",
      "num_loadings: 7\n",
      "loadings shape: (10, 7)\n",
      "scores shape: (7,)\n",
      "inverse xform shape: (10,)\n",
      "inverse_xform: [ 0.78991759  0.72896895  1.00641379  0.82523917 -0.99949948 -0.6790131\n",
      " -1.08550707  0.21772038  0.03063855 -0.24715244]\n",
      "\n",
      "num_loadings: 8\n",
      "loadings shape: (10, 8)\n",
      "scores shape: (8,)\n",
      "inverse xform shape: (10,)\n",
      "inverse_xform: [ 0.80121861  1.06408061  1.30368837  0.46408114 -0.90159063 -0.82376452\n",
      " -0.83989672  0.08109313  0.37085778 -0.37320364]\n",
      "\n",
      "num_loadings: 9\n",
      "loadings shape: (10, 9)\n",
      "scores shape: (9,)\n",
      "inverse xform shape: (10,)\n",
      "inverse_xform: [ 0.79975356  1.06446148  1.29602361  0.45916254 -0.89398727 -0.75877482\n",
      " -0.92694003 -0.05886742  0.40512549 -0.37044098]\n",
      "\n",
      "num_loadings: 10\n",
      "loadings shape: (10, 10)\n",
      "scores shape: (10,)\n",
      "inverse xform shape: (10,)\n",
      "inverse_xform: [ 0.79959404  1.06428249  1.29562034  0.4593201  -0.92869347 -0.73123602\n",
      " -0.91141776 -0.0544375   0.41805721 -0.37056863]\n",
      "\n"
     ]
    }
   ],
   "source": [
    "print(\"all loadings shape:\", loadings.shape)\n",
    "print(\"all scores shape:\", scores.shape)\n",
    "print()\n",
    "\n",
    "num_loadings = loadings.shape[1]\n",
    "for i in np.arange(4, num_loadings+1):\n",
    "    print(\"num_loadings:\", i)\n",
    "    print(\"loadings shape:\", loadings[:,:i].shape)\n",
    "    print(\"scores shape:\", scores[:i].shape)\n",
    "    inverse_xform = loadings[:,:i].dot(scores[:i])\n",
    "    print(\"inverse xform shape:\", inverse_xform.shape)\n",
    "    print(\"inverse_xform:\", inverse_xform)\n",
    "    print()"
   ]
  },
  {
   "cell_type": "markdown",
   "metadata": {},
   "source": [
    "The cell below prints the first row scores from the original transormation we did above.  Note that the zfeatures in the cell below match very closely with the inverse_xform in the cell above using 10 loadings.  Also note that as the number of loading vectors used in the inverse xform in the call above reduces from 10, the inverse xform becomes less and less accurate."
   ]
  },
  {
   "cell_type": "code",
   "execution_count": 206,
   "metadata": {},
   "outputs": [
    {
     "name": "stdout",
     "output_type": "stream",
     "text": [
      "first_row_scores from above:\n",
      " [Row(zfeatures=DenseVector([0.7996, 1.0643, 1.2956, 0.4593, -0.9287, -0.7312, -0.9114, -0.0544, 0.4181, -0.3706]), scores=DenseVector([-0.5865, -1.9446, 0.5885, 0.0827, 0.2564, -1.0101, -0.1796, 0.7566, 0.1809, 0.0489]))]\n"
     ]
    }
   ],
   "source": [
    "print(\"first_row_scores from above:\\n\", first_row_scores)"
   ]
  },
  {
   "cell_type": "markdown",
   "metadata": {},
   "source": [
    "Note that the sum of the squares of the loading columns equal 1 as per ISLR equation 10.3."
   ]
  },
  {
   "cell_type": "code",
   "execution_count": 207,
   "metadata": {},
   "outputs": [
    {
     "data": {
      "text/plain": [
       "array([1., 1., 1., 1., 1., 1., 1., 1., 1., 1.])"
      ]
     },
     "execution_count": 207,
     "metadata": {},
     "output_type": "execute_result"
    }
   ],
   "source": [
    "np.sum(np.square(loadings), axis=0)"
   ]
  },
  {
   "cell_type": "markdown",
   "metadata": {},
   "source": [
    "## Examine the principal components"
   ]
  },
  {
   "cell_type": "code",
   "execution_count": 208,
   "metadata": {
    "scrolled": true
   },
   "outputs": [
    {
     "data": {
      "text/plain": [
       "[('age', -0.2164308964889745, 0.04436721239323424),\n",
       " ('sex', -0.18696687908602558, -0.38654720385516306),\n",
       " ('bmi', -0.30316216313887745, -0.15628128429437424),\n",
       " ('map', -0.2717377304844056, -0.13826600177995452),\n",
       " ('tc', -0.3432551083789176, 0.573026908841581),\n",
       " ('ldl', -0.3518606824177599, 0.45594185472401333),\n",
       " ('hdl', 0.28243681319974895, 0.5062390689011846),\n",
       " ('tch', -0.42883369801333127, -0.06818071604589006),\n",
       " ('ltg', -0.37861801599069916, -0.026186995954152716),\n",
       " ('glu', -0.32218295508497025, -0.08494884202867264)]"
      ]
     },
     "execution_count": 208,
     "metadata": {},
     "output_type": "execute_result"
    }
   ],
   "source": [
    "list(zip(['age', 'sex', 'bmi', 'map', 'tc', 'ldl', 'hdl', 'tch', 'ltg', 'glu'], \n",
    "         loadings[:, 0], loadings[:, 1]))"
   ]
  },
  {
   "cell_type": "markdown",
   "metadata": {},
   "source": [
    "# Analysis of IM courses"
   ]
  },
  {
   "cell_type": "code",
   "execution_count": 209,
   "metadata": {},
   "outputs": [],
   "source": [
    "im_courses = spark.createDataFrame(pd.read_csv('https://github.com/daniel-acuna/data_science_programs/raw/master/data/im_masters_ischool.csv'))"
   ]
  },
  {
   "cell_type": "code",
   "execution_count": 210,
   "metadata": {},
   "outputs": [
    {
     "name": "stdout",
     "output_type": "stream",
     "text": [
      "+-------+----+-------+--------------------+--------------------+\n",
      "| course|core|credits|               title|         description|\n",
      "+-------+----+-------+--------------------+--------------------+\n",
      "|IST 553|  IM|      3|Information Archi...|Building and mana...|\n",
      "|IST 558| CAS|      3|Technologies in W...|Concepts and tech...|\n",
      "|IST 565| CAS|      3|         Data Mining|Introduction to d...|\n",
      "|IST 601|  IM|      3|Information and I...|A broad overview ...|\n",
      "|IST 614|  IM|      3|Management Princi...|Basic ideas, conc...|\n",
      "|IST 617|  IM|      3|Motivational Aspe...|Theories of motiv...|\n",
      "|IST 618|  IM|      3|  Information Policy|Public policy iss...|\n",
      "|IST 619|  IM|      3|Applied Economics...|Economic principl...|\n",
      "|IST 621|  IM|      3|Introduction to I...|Overview of gener...|\n",
      "|IST 631|  IM|      3|Theory of Classif...|Classification is...|\n",
      "|IST 639|  IM|      3|Enterprise Techno...|Coverage of manag...|\n",
      "|IST 641|  IM|      3|   User-Based Design|System design bas...|\n",
      "|IST 645|  IM|      3|Managing Informat...|Project managemen...|\n",
      "|IST 649|  IM|      3|Human Interaction...|Human performance...|\n",
      "|IST 653|  IM|      3|Telecommunication...|A survey of telec...|\n",
      "|IST 654|  IM|      3|Information Syste...|Concepts and meth...|\n",
      "|IST 656|  IM|      3|Telecommunication...|Hardware and soft...|\n",
      "|IST 657| CAS|      3|Basics of Informa...|Design, developme...|\n",
      "|IST 659|  IM|      3|Data Administrati...|Definition, devel...|\n",
      "|IST 662|  IM|      3|Instructional Str...|Introduction to i...|\n",
      "+-------+----+-------+--------------------+--------------------+\n",
      "only showing top 20 rows\n",
      "\n"
     ]
    }
   ],
   "source": [
    "im_courses.show()"
   ]
  },
  {
   "cell_type": "markdown",
   "metadata": {},
   "source": [
    "## Let's transform course descriptions into vectors"
   ]
  },
  {
   "cell_type": "code",
   "execution_count": 211,
   "metadata": {},
   "outputs": [],
   "source": [
    "tokenizer = feature.RegexTokenizer(minTokenLength=2)\\\n",
    "  .setGaps(False)\\\n",
    "  .setPattern(\"\\\\p{L}+\")\\\n",
    "  .setInputCol(\"description\")\\\n",
    "  .setOutputCol(\"words\")\n",
    "\n",
    "import requests\n",
    "stop_words = requests.get('http://ir.dcs.gla.ac.uk/resources/linguistic_utils/stop_words').text.split()\n",
    "\n",
    "sw_filter = feature.StopWordsRemover()\\\n",
    "  .setStopWords(stop_words)\\\n",
    "  .setCaseSensitive(False)\\\n",
    "  .setInputCol(\"words\")\\\n",
    "  .setOutputCol(\"filtered\")\n",
    "\n",
    "cv = feature.CountVectorizer(inputCol='filtered', outputCol='tf')\n",
    "idf = feature.IDF(inputCol='tf', outputCol='tfidf')"
   ]
  },
  {
   "cell_type": "markdown",
   "metadata": {},
   "source": [
    "Let's create a pipeline that transforms descriptions into TFIDF:"
   ]
  },
  {
   "cell_type": "code",
   "execution_count": 212,
   "metadata": {},
   "outputs": [],
   "source": [
    "tfidf = Pipeline(stages=[tokenizer, sw_filter, cv, idf]).fit(im_courses)"
   ]
  },
  {
   "cell_type": "code",
   "execution_count": 213,
   "metadata": {
    "collapsed": true
   },
   "outputs": [
    {
     "data": {
      "text/html": [
       "<div>\n",
       "<style scoped>\n",
       "    .dataframe tbody tr th:only-of-type {\n",
       "        vertical-align: middle;\n",
       "    }\n",
       "\n",
       "    .dataframe tbody tr th {\n",
       "        vertical-align: top;\n",
       "    }\n",
       "\n",
       "    .dataframe thead th {\n",
       "        text-align: right;\n",
       "    }\n",
       "</style>\n",
       "<table border=\"1\" class=\"dataframe\">\n",
       "  <thead>\n",
       "    <tr style=\"text-align: right;\">\n",
       "      <th></th>\n",
       "      <th>course</th>\n",
       "      <th>core</th>\n",
       "      <th>credits</th>\n",
       "      <th>title</th>\n",
       "      <th>description</th>\n",
       "      <th>words</th>\n",
       "      <th>filtered</th>\n",
       "      <th>tf</th>\n",
       "      <th>tfidf</th>\n",
       "    </tr>\n",
       "  </thead>\n",
       "  <tbody>\n",
       "    <tr>\n",
       "      <td>0</td>\n",
       "      <td>IST 553</td>\n",
       "      <td>IM</td>\n",
       "      <td>3</td>\n",
       "      <td>Information Architecture for Internet Services</td>\n",
       "      <td>Building and management of Internet information services, including information organization, information management, and information dissemination. Understanding of the use of Internet technologies within an organizational context. Practice with current technologies.</td>\n",
       "      <td>[building, and, management, of, internet, information, services, including, information, organization, information, management, and, information, dissemination, understanding, of, the, use, of, internet, technologies, within, an, organizational, context, practice, with, current, technologies]</td>\n",
       "      <td>[building, management, internet, information, services, including, information, organization, information, management, information, dissemination, understanding, use, internet, technologies, organizational, context, practice, current, technologies]</td>\n",
       "      <td>(4.0, 2.0, 0.0, 0.0, 0.0, 0.0, 0.0, 0.0, 0.0, 2.0, 0.0, 0.0, 1.0, 1.0, 0.0, 0.0, 1.0, 0.0, 0.0, 0.0, 0.0, 0.0, 0.0, 0.0, 0.0, 0.0, 0.0, 0.0, 0.0, 0.0, 0.0, 0.0, 0.0, 1.0, 0.0, 0.0, 0.0, 0.0, 0.0, 0.0, 0.0, 0.0, 0.0, 0.0, 0.0, 0.0, 0.0, 0.0, 0.0, 1.0, 0.0, 0.0, 0.0, 0.0, 0.0, 0.0, 0.0, 0.0, 0.0, 0.0, 0.0, 1.0, 0.0, 0.0, 0.0, 0.0, 0.0, 0.0, 0.0, 0.0, 0.0, 0.0, 0.0, 0.0, 0.0, 0.0, 0.0, 0.0, 0.0, 0.0, 1.0, 0.0, 0.0, 0.0, 0.0, 1.0, 0.0, 0.0, 0.0, 0.0, 0.0, 0.0, 0.0, 0.0, 0.0, 0.0, 0.0, 0.0, 0.0, 0.0, ...)</td>\n",
       "      <td>(1.8572224325243911, 1.444269434866395, 0.0, 0.0, 0.0, 0.0, 0.0, 0.0, 0.0, 3.2188758248682006, 0.0, 0.0, 1.6094379124341003, 1.7635885922613586, 0.0, 0.0, 1.7635885922613586, 0.0, 0.0, 0.0, 0.0, 0.0, 0.0, 0.0, 0.0, 0.0, 0.0, 0.0, 0.0, 0.0, 0.0, 0.0, 0.0, 2.169053700369523, 0.0, 0.0, 0.0, 0.0, 0.0, 0.0, 0.0, 0.0, 0.0, 0.0, 0.0, 0.0, 0.0, 0.0, 0.0, 2.169053700369523, 0.0, 0.0, 0.0, 0.0, 0.0, 0.0, 0.0, 0.0, 0.0, 0.0, 0.0, 2.169053700369523, 0.0, 0.0, 0.0, 0.0, 0.0, 0.0, 0.0, 0.0, 0.0, 0.0, 0.0, 0.0, 0.0, 0.0, 0.0, 0.0, 0.0, 0.0, 2.456735772821304, 0.0, 0.0, 0.0, 0.0, 2.456735772821304, 0.0, 0.0, 0.0, 0.0, 0.0, 0.0, 0.0, 0.0, 0.0, 0.0, 0.0, 0.0, 0.0, 0.0, ...)</td>\n",
       "    </tr>\n",
       "    <tr>\n",
       "      <td>1</td>\n",
       "      <td>IST 558</td>\n",
       "      <td>CAS</td>\n",
       "      <td>3</td>\n",
       "      <td>Technologies in Web Content Management</td>\n",
       "      <td>Concepts and techniques in web content representation, organization, presentation, development, and management with the eXtensible Markup Language (XML), including basic XML syntax, vocabulary specification, data modeling, transformation, and Document Object Model (DOM).</td>\n",
       "      <td>[concepts, and, techniques, in, web, content, representation, organization, presentation, development, and, management, with, the, extensible, markup, language, xml, including, basic, xml, syntax, vocabulary, specification, data, modeling, transformation, and, document, object, model, dom]</td>\n",
       "      <td>[concepts, techniques, web, content, representation, organization, presentation, development, management, extensible, markup, language, xml, including, basic, xml, syntax, vocabulary, specification, data, modeling, transformation, document, object, model, dom]</td>\n",
       "      <td>(0.0, 1.0, 1.0, 1.0, 1.0, 0.0, 0.0, 0.0, 0.0, 0.0, 0.0, 0.0, 0.0, 0.0, 0.0, 0.0, 1.0, 0.0, 0.0, 0.0, 1.0, 0.0, 0.0, 0.0, 1.0, 1.0, 0.0, 0.0, 0.0, 0.0, 0.0, 0.0, 0.0, 0.0, 0.0, 0.0, 0.0, 0.0, 0.0, 0.0, 0.0, 0.0, 0.0, 1.0, 0.0, 0.0, 0.0, 0.0, 0.0, 1.0, 0.0, 0.0, 0.0, 0.0, 0.0, 0.0, 0.0, 0.0, 0.0, 0.0, 0.0, 0.0, 0.0, 0.0, 0.0, 0.0, 0.0, 0.0, 1.0, 0.0, 0.0, 0.0, 0.0, 0.0, 0.0, 0.0, 0.0, 0.0, 0.0, 0.0, 0.0, 0.0, 0.0, 0.0, 0.0, 0.0, 0.0, 0.0, 0.0, 0.0, 1.0, 0.0, 0.0, 0.0, 0.0, 0.0, 0.0, 0.0, 0.0, 0.0, ...)</td>\n",
       "      <td>(0.0, 0.7221347174331975, 1.252762968495368, 1.0704414117014134, 1.252762968495368, 0.0, 0.0, 0.0, 0.0, 0.0, 0.0, 0.0, 0.0, 0.0, 0.0, 0.0, 1.7635885922613586, 0.0, 0.0, 0.0, 1.9459101490553132, 0.0, 0.0, 0.0, 1.9459101490553132, 2.169053700369523, 0.0, 0.0, 0.0, 0.0, 0.0, 0.0, 0.0, 0.0, 0.0, 0.0, 0.0, 0.0, 0.0, 0.0, 0.0, 0.0, 0.0, 2.456735772821304, 0.0, 0.0, 0.0, 0.0, 0.0, 2.169053700369523, 0.0, 0.0, 0.0, 0.0, 0.0, 0.0, 0.0, 0.0, 0.0, 0.0, 0.0, 0.0, 0.0, 0.0, 0.0, 0.0, 0.0, 0.0, 2.456735772821304, 0.0, 0.0, 0.0, 0.0, 0.0, 0.0, 0.0, 0.0, 0.0, 0.0, 0.0, 0.0, 0.0, 0.0, 0.0, 0.0, 0.0, 0.0, 0.0, 0.0, 0.0, 2.456735772821304, 0.0, 0.0, 0.0, 0.0, 0.0, 0.0, 0.0, 0.0, 0.0, ...)</td>\n",
       "    </tr>\n",
       "    <tr>\n",
       "      <td>2</td>\n",
       "      <td>IST 565</td>\n",
       "      <td>CAS</td>\n",
       "      <td>3</td>\n",
       "      <td>Data Mining</td>\n",
       "      <td>Introduction to data mining techniques, familiarity with particular real-world applications, challenges involved in these applications, and future directions of the field. Optional hands-on experience with commercially available software packages.</td>\n",
       "      <td>[introduction, to, data, mining, techniques, familiarity, with, particular, real, world, applications, challenges, involved, in, these, applications, and, future, directions, of, the, field, optional, hands, on, experience, with, commercially, available, software, packages]</td>\n",
       "      <td>[introduction, data, mining, techniques, familiarity, particular, real, world, applications, challenges, involved, applications, future, directions, field, optional, hands, experience, commercially, available, software, packages]</td>\n",
       "      <td>(0.0, 0.0, 1.0, 1.0, 0.0, 0.0, 0.0, 0.0, 1.0, 0.0, 0.0, 0.0, 0.0, 0.0, 0.0, 0.0, 0.0, 0.0, 0.0, 0.0, 0.0, 1.0, 0.0, 0.0, 0.0, 0.0, 0.0, 0.0, 1.0, 2.0, 0.0, 0.0, 0.0, 0.0, 0.0, 0.0, 0.0, 0.0, 0.0, 0.0, 0.0, 0.0, 0.0, 0.0, 0.0, 0.0, 0.0, 0.0, 0.0, 0.0, 0.0, 0.0, 0.0, 0.0, 0.0, 0.0, 0.0, 0.0, 0.0, 0.0, 0.0, 0.0, 0.0, 0.0, 0.0, 0.0, 0.0, 0.0, 0.0, 0.0, 1.0, 0.0, 0.0, 0.0, 0.0, 0.0, 0.0, 0.0, 0.0, 0.0, 0.0, 0.0, 0.0, 0.0, 0.0, 0.0, 0.0, 0.0, 0.0, 0.0, 0.0, 0.0, 0.0, 1.0, 0.0, 0.0, 0.0, 1.0, 0.0, 0.0, ...)</td>\n",
       "      <td>(0.0, 0.0, 1.252762968495368, 1.0704414117014134, 0.0, 0.0, 0.0, 0.0, 1.4759065198095778, 0.0, 0.0, 0.0, 0.0, 0.0, 0.0, 0.0, 0.0, 0.0, 0.0, 0.0, 0.0, 1.9459101490553132, 0.0, 0.0, 0.0, 0.0, 0.0, 0.0, 1.9459101490553132, 4.338107400739046, 0.0, 0.0, 0.0, 0.0, 0.0, 0.0, 0.0, 0.0, 0.0, 0.0, 0.0, 0.0, 0.0, 0.0, 0.0, 0.0, 0.0, 0.0, 0.0, 0.0, 0.0, 0.0, 0.0, 0.0, 0.0, 0.0, 0.0, 0.0, 0.0, 0.0, 0.0, 0.0, 0.0, 0.0, 0.0, 0.0, 0.0, 0.0, 0.0, 0.0, 2.456735772821304, 0.0, 0.0, 0.0, 0.0, 0.0, 0.0, 0.0, 0.0, 0.0, 0.0, 0.0, 0.0, 0.0, 0.0, 0.0, 0.0, 0.0, 0.0, 0.0, 0.0, 0.0, 0.0, 2.456735772821304, 0.0, 0.0, 0.0, 2.456735772821304, 0.0, 0.0, ...)</td>\n",
       "    </tr>\n",
       "    <tr>\n",
       "      <td>3</td>\n",
       "      <td>IST 601</td>\n",
       "      <td>IM</td>\n",
       "      <td>3</td>\n",
       "      <td>Information and Information Environments</td>\n",
       "      <td>A broad overview of the field and an orientation to the School of Information Studies. Describes the past, present, and future of information studies.</td>\n",
       "      <td>[broad, overview, of, the, field, and, an, orientation, to, the, school, of, information, studies, describes, the, past, present, and, future, of, information, studies]</td>\n",
       "      <td>[broad, overview, field, orientation, school, information, studies, describes, past, present, future, information, studies]</td>\n",
       "      <td>(2.0, 0.0, 0.0, 0.0, 0.0, 0.0, 0.0, 0.0, 0.0, 0.0, 0.0, 0.0, 0.0, 0.0, 0.0, 0.0, 0.0, 0.0, 0.0, 0.0, 0.0, 0.0, 0.0, 0.0, 0.0, 0.0, 0.0, 0.0, 0.0, 0.0, 2.0, 0.0, 0.0, 0.0, 0.0, 0.0, 0.0, 1.0, 0.0, 0.0, 0.0, 0.0, 1.0, 0.0, 0.0, 0.0, 0.0, 0.0, 0.0, 0.0, 0.0, 0.0, 0.0, 0.0, 0.0, 0.0, 0.0, 0.0, 0.0, 0.0, 0.0, 0.0, 0.0, 0.0, 0.0, 0.0, 0.0, 0.0, 0.0, 0.0, 0.0, 0.0, 0.0, 0.0, 0.0, 0.0, 0.0, 0.0, 0.0, 0.0, 0.0, 0.0, 0.0, 0.0, 0.0, 0.0, 0.0, 0.0, 0.0, 0.0, 0.0, 0.0, 0.0, 0.0, 0.0, 0.0, 0.0, 1.0, 0.0, 0.0, ...)</td>\n",
       "      <td>(0.9286112162621956, 0.0, 0.0, 0.0, 0.0, 0.0, 0.0, 0.0, 0.0, 0.0, 0.0, 0.0, 0.0, 0.0, 0.0, 0.0, 0.0, 0.0, 0.0, 0.0, 0.0, 0.0, 0.0, 0.0, 0.0, 0.0, 0.0, 0.0, 0.0, 0.0, 4.338107400739046, 0.0, 0.0, 0.0, 0.0, 0.0, 0.0, 2.169053700369523, 0.0, 0.0, 0.0, 0.0, 2.169053700369523, 0.0, 0.0, 0.0, 0.0, 0.0, 0.0, 0.0, 0.0, 0.0, 0.0, 0.0, 0.0, 0.0, 0.0, 0.0, 0.0, 0.0, 0.0, 0.0, 0.0, 0.0, 0.0, 0.0, 0.0, 0.0, 0.0, 0.0, 0.0, 0.0, 0.0, 0.0, 0.0, 0.0, 0.0, 0.0, 0.0, 0.0, 0.0, 0.0, 0.0, 0.0, 0.0, 0.0, 0.0, 0.0, 0.0, 0.0, 0.0, 0.0, 0.0, 0.0, 0.0, 0.0, 0.0, 2.456735772821304, 0.0, 0.0, ...)</td>\n",
       "    </tr>\n",
       "    <tr>\n",
       "      <td>4</td>\n",
       "      <td>IST 614</td>\n",
       "      <td>IM</td>\n",
       "      <td>3</td>\n",
       "      <td>Management Principles for Information Professionals</td>\n",
       "      <td>Basic ideas, concepts and perspectives of management as they apply to the information professions. Students learn to understand and apply basic principles of organization theory and behavior and managerial techniques needed to improve organizational effectiveness.</td>\n",
       "      <td>[basic, ideas, concepts, and, perspectives, of, management, as, they, apply, to, the, information, professions, students, learn, to, understand, and, apply, basic, principles, of, organization, theory, and, behavior, and, managerial, techniques, needed, to, improve, organizational, effectiveness]</td>\n",
       "      <td>[basic, ideas, concepts, perspectives, management, apply, information, professions, students, learn, understand, apply, basic, principles, organization, theory, behavior, managerial, techniques, needed, improve, organizational, effectiveness]</td>\n",
       "      <td>(1.0, 1.0, 0.0, 1.0, 1.0, 0.0, 1.0, 0.0, 0.0, 0.0, 0.0, 0.0, 0.0, 1.0, 0.0, 0.0, 1.0, 0.0, 0.0, 0.0, 0.0, 0.0, 0.0, 0.0, 0.0, 0.0, 0.0, 1.0, 0.0, 0.0, 0.0, 0.0, 0.0, 0.0, 2.0, 0.0, 0.0, 0.0, 0.0, 0.0, 0.0, 0.0, 0.0, 2.0, 0.0, 0.0, 0.0, 0.0, 0.0, 0.0, 0.0, 0.0, 0.0, 0.0, 0.0, 0.0, 0.0, 0.0, 0.0, 1.0, 0.0, 0.0, 0.0, 0.0, 0.0, 0.0, 0.0, 0.0, 0.0, 0.0, 0.0, 0.0, 0.0, 1.0, 0.0, 0.0, 0.0, 0.0, 0.0, 0.0, 0.0, 0.0, 0.0, 0.0, 0.0, 0.0, 0.0, 0.0, 0.0, 0.0, 0.0, 0.0, 0.0, 0.0, 0.0, 0.0, 0.0, 0.0, 0.0, 0.0, ...)</td>\n",
       "      <td>(0.4643056081310978, 0.7221347174331975, 0.0, 1.0704414117014134, 1.252762968495368, 0.0, 1.3581234841531944, 0.0, 0.0, 0.0, 0.0, 0.0, 0.0, 1.7635885922613586, 0.0, 0.0, 1.7635885922613586, 0.0, 0.0, 0.0, 0.0, 0.0, 0.0, 0.0, 0.0, 0.0, 0.0, 1.9459101490553132, 0.0, 0.0, 0.0, 0.0, 0.0, 0.0, 4.913471545642608, 0.0, 0.0, 0.0, 0.0, 0.0, 0.0, 0.0, 0.0, 4.913471545642608, 0.0, 0.0, 0.0, 0.0, 0.0, 0.0, 0.0, 0.0, 0.0, 0.0, 0.0, 0.0, 0.0, 0.0, 0.0, 2.169053700369523, 0.0, 0.0, 0.0, 0.0, 0.0, 0.0, 0.0, 0.0, 0.0, 0.0, 0.0, 0.0, 0.0, 2.456735772821304, 0.0, 0.0, 0.0, 0.0, 0.0, 0.0, 0.0, 0.0, 0.0, 0.0, 0.0, 0.0, 0.0, 0.0, 0.0, 0.0, 0.0, 0.0, 0.0, 0.0, 0.0, 0.0, 0.0, 0.0, 0.0, 0.0, ...)</td>\n",
       "    </tr>\n",
       "  </tbody>\n",
       "</table>\n",
       "</div>"
      ],
      "text/plain": [
       "    course core  credits                                                title  \\\n",
       "0  IST 553  IM   3        Information Architecture for Internet Services        \n",
       "1  IST 558  CAS  3        Technologies in Web Content Management                \n",
       "2  IST 565  CAS  3        Data Mining                                           \n",
       "3  IST 601  IM   3        Information and Information Environments              \n",
       "4  IST 614  IM   3        Management Principles for Information Professionals   \n",
       "\n",
       "                                                                                                                                                                                                                                                                       description  \\\n",
       "0  Building and management of Internet information services, including information organization, information management, and information dissemination. Understanding of the use of Internet technologies within an organizational context. Practice with current technologies.      \n",
       "1  Concepts and techniques in web content representation, organization, presentation, development, and management with the eXtensible Markup Language (XML), including basic XML syntax, vocabulary specification, data modeling, transformation, and Document Object Model (DOM).   \n",
       "2  Introduction to data mining techniques, familiarity with particular real-world applications, challenges involved in these applications, and future directions of the field. Optional hands-on experience with commercially available software packages.                           \n",
       "3  A broad overview of the field and an orientation to the School of Information Studies. Describes the past, present, and future of information studies.                                                                                                                            \n",
       "4  Basic ideas, concepts and perspectives of management as they apply to the information professions. Students learn to understand and apply basic principles of organization theory and behavior and managerial techniques needed to improve organizational effectiveness.          \n",
       "\n",
       "                                                                                                                                                                                                                                                                                                       words  \\\n",
       "0  [building, and, management, of, internet, information, services, including, information, organization, information, management, and, information, dissemination, understanding, of, the, use, of, internet, technologies, within, an, organizational, context, practice, with, current, technologies]       \n",
       "1  [concepts, and, techniques, in, web, content, representation, organization, presentation, development, and, management, with, the, extensible, markup, language, xml, including, basic, xml, syntax, vocabulary, specification, data, modeling, transformation, and, document, object, model, dom]          \n",
       "2  [introduction, to, data, mining, techniques, familiarity, with, particular, real, world, applications, challenges, involved, in, these, applications, and, future, directions, of, the, field, optional, hands, on, experience, with, commercially, available, software, packages]                          \n",
       "3  [broad, overview, of, the, field, and, an, orientation, to, the, school, of, information, studies, describes, the, past, present, and, future, of, information, studies]                                                                                                                                    \n",
       "4  [basic, ideas, concepts, and, perspectives, of, management, as, they, apply, to, the, information, professions, students, learn, to, understand, and, apply, basic, principles, of, organization, theory, and, behavior, and, managerial, techniques, needed, to, improve, organizational, effectiveness]   \n",
       "\n",
       "                                                                                                                                                                                                                                                               filtered  \\\n",
       "0  [building, management, internet, information, services, including, information, organization, information, management, information, dissemination, understanding, use, internet, technologies, organizational, context, practice, current, technologies]               \n",
       "1  [concepts, techniques, web, content, representation, organization, presentation, development, management, extensible, markup, language, xml, including, basic, xml, syntax, vocabulary, specification, data, modeling, transformation, document, object, model, dom]   \n",
       "2  [introduction, data, mining, techniques, familiarity, particular, real, world, applications, challenges, involved, applications, future, directions, field, optional, hands, experience, commercially, available, software, packages]                                  \n",
       "3  [broad, overview, field, orientation, school, information, studies, describes, past, present, future, information, studies]                                                                                                                                            \n",
       "4  [basic, ideas, concepts, perspectives, management, apply, information, professions, students, learn, understand, apply, basic, principles, organization, theory, behavior, managerial, techniques, needed, improve, organizational, effectiveness]                     \n",
       "\n",
       "                                                                                                                                                                                                                                                                                                                                                                                                                                                                                                                          tf  \\\n",
       "0  (4.0, 2.0, 0.0, 0.0, 0.0, 0.0, 0.0, 0.0, 0.0, 2.0, 0.0, 0.0, 1.0, 1.0, 0.0, 0.0, 1.0, 0.0, 0.0, 0.0, 0.0, 0.0, 0.0, 0.0, 0.0, 0.0, 0.0, 0.0, 0.0, 0.0, 0.0, 0.0, 0.0, 1.0, 0.0, 0.0, 0.0, 0.0, 0.0, 0.0, 0.0, 0.0, 0.0, 0.0, 0.0, 0.0, 0.0, 0.0, 0.0, 1.0, 0.0, 0.0, 0.0, 0.0, 0.0, 0.0, 0.0, 0.0, 0.0, 0.0, 0.0, 1.0, 0.0, 0.0, 0.0, 0.0, 0.0, 0.0, 0.0, 0.0, 0.0, 0.0, 0.0, 0.0, 0.0, 0.0, 0.0, 0.0, 0.0, 0.0, 1.0, 0.0, 0.0, 0.0, 0.0, 1.0, 0.0, 0.0, 0.0, 0.0, 0.0, 0.0, 0.0, 0.0, 0.0, 0.0, 0.0, 0.0, 0.0, 0.0, ...)   \n",
       "1  (0.0, 1.0, 1.0, 1.0, 1.0, 0.0, 0.0, 0.0, 0.0, 0.0, 0.0, 0.0, 0.0, 0.0, 0.0, 0.0, 1.0, 0.0, 0.0, 0.0, 1.0, 0.0, 0.0, 0.0, 1.0, 1.0, 0.0, 0.0, 0.0, 0.0, 0.0, 0.0, 0.0, 0.0, 0.0, 0.0, 0.0, 0.0, 0.0, 0.0, 0.0, 0.0, 0.0, 1.0, 0.0, 0.0, 0.0, 0.0, 0.0, 1.0, 0.0, 0.0, 0.0, 0.0, 0.0, 0.0, 0.0, 0.0, 0.0, 0.0, 0.0, 0.0, 0.0, 0.0, 0.0, 0.0, 0.0, 0.0, 1.0, 0.0, 0.0, 0.0, 0.0, 0.0, 0.0, 0.0, 0.0, 0.0, 0.0, 0.0, 0.0, 0.0, 0.0, 0.0, 0.0, 0.0, 0.0, 0.0, 0.0, 0.0, 1.0, 0.0, 0.0, 0.0, 0.0, 0.0, 0.0, 0.0, 0.0, 0.0, ...)   \n",
       "2  (0.0, 0.0, 1.0, 1.0, 0.0, 0.0, 0.0, 0.0, 1.0, 0.0, 0.0, 0.0, 0.0, 0.0, 0.0, 0.0, 0.0, 0.0, 0.0, 0.0, 0.0, 1.0, 0.0, 0.0, 0.0, 0.0, 0.0, 0.0, 1.0, 2.0, 0.0, 0.0, 0.0, 0.0, 0.0, 0.0, 0.0, 0.0, 0.0, 0.0, 0.0, 0.0, 0.0, 0.0, 0.0, 0.0, 0.0, 0.0, 0.0, 0.0, 0.0, 0.0, 0.0, 0.0, 0.0, 0.0, 0.0, 0.0, 0.0, 0.0, 0.0, 0.0, 0.0, 0.0, 0.0, 0.0, 0.0, 0.0, 0.0, 0.0, 1.0, 0.0, 0.0, 0.0, 0.0, 0.0, 0.0, 0.0, 0.0, 0.0, 0.0, 0.0, 0.0, 0.0, 0.0, 0.0, 0.0, 0.0, 0.0, 0.0, 0.0, 0.0, 0.0, 1.0, 0.0, 0.0, 0.0, 1.0, 0.0, 0.0, ...)   \n",
       "3  (2.0, 0.0, 0.0, 0.0, 0.0, 0.0, 0.0, 0.0, 0.0, 0.0, 0.0, 0.0, 0.0, 0.0, 0.0, 0.0, 0.0, 0.0, 0.0, 0.0, 0.0, 0.0, 0.0, 0.0, 0.0, 0.0, 0.0, 0.0, 0.0, 0.0, 2.0, 0.0, 0.0, 0.0, 0.0, 0.0, 0.0, 1.0, 0.0, 0.0, 0.0, 0.0, 1.0, 0.0, 0.0, 0.0, 0.0, 0.0, 0.0, 0.0, 0.0, 0.0, 0.0, 0.0, 0.0, 0.0, 0.0, 0.0, 0.0, 0.0, 0.0, 0.0, 0.0, 0.0, 0.0, 0.0, 0.0, 0.0, 0.0, 0.0, 0.0, 0.0, 0.0, 0.0, 0.0, 0.0, 0.0, 0.0, 0.0, 0.0, 0.0, 0.0, 0.0, 0.0, 0.0, 0.0, 0.0, 0.0, 0.0, 0.0, 0.0, 0.0, 0.0, 0.0, 0.0, 0.0, 0.0, 1.0, 0.0, 0.0, ...)   \n",
       "4  (1.0, 1.0, 0.0, 1.0, 1.0, 0.0, 1.0, 0.0, 0.0, 0.0, 0.0, 0.0, 0.0, 1.0, 0.0, 0.0, 1.0, 0.0, 0.0, 0.0, 0.0, 0.0, 0.0, 0.0, 0.0, 0.0, 0.0, 1.0, 0.0, 0.0, 0.0, 0.0, 0.0, 0.0, 2.0, 0.0, 0.0, 0.0, 0.0, 0.0, 0.0, 0.0, 0.0, 2.0, 0.0, 0.0, 0.0, 0.0, 0.0, 0.0, 0.0, 0.0, 0.0, 0.0, 0.0, 0.0, 0.0, 0.0, 0.0, 1.0, 0.0, 0.0, 0.0, 0.0, 0.0, 0.0, 0.0, 0.0, 0.0, 0.0, 0.0, 0.0, 0.0, 1.0, 0.0, 0.0, 0.0, 0.0, 0.0, 0.0, 0.0, 0.0, 0.0, 0.0, 0.0, 0.0, 0.0, 0.0, 0.0, 0.0, 0.0, 0.0, 0.0, 0.0, 0.0, 0.0, 0.0, 0.0, 0.0, 0.0, ...)   \n",
       "\n",
       "                                                                                                                                                                                                                                                                                                                                                                                                                                                                                                                                                                                                                                                                                                      tfidf  \n",
       "0  (1.8572224325243911, 1.444269434866395, 0.0, 0.0, 0.0, 0.0, 0.0, 0.0, 0.0, 3.2188758248682006, 0.0, 0.0, 1.6094379124341003, 1.7635885922613586, 0.0, 0.0, 1.7635885922613586, 0.0, 0.0, 0.0, 0.0, 0.0, 0.0, 0.0, 0.0, 0.0, 0.0, 0.0, 0.0, 0.0, 0.0, 0.0, 0.0, 2.169053700369523, 0.0, 0.0, 0.0, 0.0, 0.0, 0.0, 0.0, 0.0, 0.0, 0.0, 0.0, 0.0, 0.0, 0.0, 0.0, 2.169053700369523, 0.0, 0.0, 0.0, 0.0, 0.0, 0.0, 0.0, 0.0, 0.0, 0.0, 0.0, 2.169053700369523, 0.0, 0.0, 0.0, 0.0, 0.0, 0.0, 0.0, 0.0, 0.0, 0.0, 0.0, 0.0, 0.0, 0.0, 0.0, 0.0, 0.0, 0.0, 2.456735772821304, 0.0, 0.0, 0.0, 0.0, 2.456735772821304, 0.0, 0.0, 0.0, 0.0, 0.0, 0.0, 0.0, 0.0, 0.0, 0.0, 0.0, 0.0, 0.0, 0.0, ...)                  \n",
       "1  (0.0, 0.7221347174331975, 1.252762968495368, 1.0704414117014134, 1.252762968495368, 0.0, 0.0, 0.0, 0.0, 0.0, 0.0, 0.0, 0.0, 0.0, 0.0, 0.0, 1.7635885922613586, 0.0, 0.0, 0.0, 1.9459101490553132, 0.0, 0.0, 0.0, 1.9459101490553132, 2.169053700369523, 0.0, 0.0, 0.0, 0.0, 0.0, 0.0, 0.0, 0.0, 0.0, 0.0, 0.0, 0.0, 0.0, 0.0, 0.0, 0.0, 0.0, 2.456735772821304, 0.0, 0.0, 0.0, 0.0, 0.0, 2.169053700369523, 0.0, 0.0, 0.0, 0.0, 0.0, 0.0, 0.0, 0.0, 0.0, 0.0, 0.0, 0.0, 0.0, 0.0, 0.0, 0.0, 0.0, 0.0, 2.456735772821304, 0.0, 0.0, 0.0, 0.0, 0.0, 0.0, 0.0, 0.0, 0.0, 0.0, 0.0, 0.0, 0.0, 0.0, 0.0, 0.0, 0.0, 0.0, 0.0, 0.0, 0.0, 2.456735772821304, 0.0, 0.0, 0.0, 0.0, 0.0, 0.0, 0.0, 0.0, 0.0, ...)    \n",
       "2  (0.0, 0.0, 1.252762968495368, 1.0704414117014134, 0.0, 0.0, 0.0, 0.0, 1.4759065198095778, 0.0, 0.0, 0.0, 0.0, 0.0, 0.0, 0.0, 0.0, 0.0, 0.0, 0.0, 0.0, 1.9459101490553132, 0.0, 0.0, 0.0, 0.0, 0.0, 0.0, 1.9459101490553132, 4.338107400739046, 0.0, 0.0, 0.0, 0.0, 0.0, 0.0, 0.0, 0.0, 0.0, 0.0, 0.0, 0.0, 0.0, 0.0, 0.0, 0.0, 0.0, 0.0, 0.0, 0.0, 0.0, 0.0, 0.0, 0.0, 0.0, 0.0, 0.0, 0.0, 0.0, 0.0, 0.0, 0.0, 0.0, 0.0, 0.0, 0.0, 0.0, 0.0, 0.0, 0.0, 2.456735772821304, 0.0, 0.0, 0.0, 0.0, 0.0, 0.0, 0.0, 0.0, 0.0, 0.0, 0.0, 0.0, 0.0, 0.0, 0.0, 0.0, 0.0, 0.0, 0.0, 0.0, 0.0, 0.0, 2.456735772821304, 0.0, 0.0, 0.0, 2.456735772821304, 0.0, 0.0, ...)                                               \n",
       "3  (0.9286112162621956, 0.0, 0.0, 0.0, 0.0, 0.0, 0.0, 0.0, 0.0, 0.0, 0.0, 0.0, 0.0, 0.0, 0.0, 0.0, 0.0, 0.0, 0.0, 0.0, 0.0, 0.0, 0.0, 0.0, 0.0, 0.0, 0.0, 0.0, 0.0, 0.0, 4.338107400739046, 0.0, 0.0, 0.0, 0.0, 0.0, 0.0, 2.169053700369523, 0.0, 0.0, 0.0, 0.0, 2.169053700369523, 0.0, 0.0, 0.0, 0.0, 0.0, 0.0, 0.0, 0.0, 0.0, 0.0, 0.0, 0.0, 0.0, 0.0, 0.0, 0.0, 0.0, 0.0, 0.0, 0.0, 0.0, 0.0, 0.0, 0.0, 0.0, 0.0, 0.0, 0.0, 0.0, 0.0, 0.0, 0.0, 0.0, 0.0, 0.0, 0.0, 0.0, 0.0, 0.0, 0.0, 0.0, 0.0, 0.0, 0.0, 0.0, 0.0, 0.0, 0.0, 0.0, 0.0, 0.0, 0.0, 0.0, 0.0, 2.456735772821304, 0.0, 0.0, ...)                                                                                                          \n",
       "4  (0.4643056081310978, 0.7221347174331975, 0.0, 1.0704414117014134, 1.252762968495368, 0.0, 1.3581234841531944, 0.0, 0.0, 0.0, 0.0, 0.0, 0.0, 1.7635885922613586, 0.0, 0.0, 1.7635885922613586, 0.0, 0.0, 0.0, 0.0, 0.0, 0.0, 0.0, 0.0, 0.0, 0.0, 1.9459101490553132, 0.0, 0.0, 0.0, 0.0, 0.0, 0.0, 4.913471545642608, 0.0, 0.0, 0.0, 0.0, 0.0, 0.0, 0.0, 0.0, 4.913471545642608, 0.0, 0.0, 0.0, 0.0, 0.0, 0.0, 0.0, 0.0, 0.0, 0.0, 0.0, 0.0, 0.0, 0.0, 0.0, 2.169053700369523, 0.0, 0.0, 0.0, 0.0, 0.0, 0.0, 0.0, 0.0, 0.0, 0.0, 0.0, 0.0, 0.0, 2.456735772821304, 0.0, 0.0, 0.0, 0.0, 0.0, 0.0, 0.0, 0.0, 0.0, 0.0, 0.0, 0.0, 0.0, 0.0, 0.0, 0.0, 0.0, 0.0, 0.0, 0.0, 0.0, 0.0, 0.0, 0.0, 0.0, 0.0, ...)  "
      ]
     },
     "execution_count": 213,
     "metadata": {},
     "output_type": "execute_result"
    }
   ],
   "source": [
    "tfidf.transform(im_courses).toPandas().head()"
   ]
  },
  {
   "cell_type": "markdown",
   "metadata": {},
   "source": [
    "The PCA spark functions do not work with Sparse vectors. We need to create a UDF that performs a sparse to dense transformation  We need to define a *Python* function that takes as input a `tfidf` column and then returns the dense version of it.  If we get the first row of the transformation, we can examine the type of `tfidf`"
   ]
  },
  {
   "cell_type": "code",
   "execution_count": 214,
   "metadata": {},
   "outputs": [
    {
     "data": {
      "text/plain": [
       "SparseVector(357, {0: 1.8572, 1: 1.4443, 9: 3.2189, 12: 1.6094, 13: 1.7636, 16: 1.7636, 33: 2.1691, 49: 2.1691, 61: 2.1691, 80: 2.4567, 85: 2.4567, 101: 5.7244, 209: 2.8622, 216: 2.8622, 330: 2.8622})"
      ]
     },
     "execution_count": 214,
     "metadata": {},
     "output_type": "execute_result"
    }
   ],
   "source": [
    "tfidf_sample = tfidf.transform(im_courses).first().tfidf\n",
    "tfidf_sample"
   ]
  },
  {
   "cell_type": "code",
   "execution_count": 215,
   "metadata": {},
   "outputs": [
    {
     "data": {
      "text/plain": [
       "pyspark.ml.linalg.SparseVector"
      ]
     },
     "execution_count": 215,
     "metadata": {},
     "output_type": "execute_result"
    }
   ],
   "source": [
    "type(tfidf_sample)"
   ]
  },
  {
   "cell_type": "markdown",
   "metadata": {},
   "source": [
    "We need to define a function that returns a dense version. For that, we will make use of the Vectors class"
   ]
  },
  {
   "cell_type": "code",
   "execution_count": 216,
   "metadata": {},
   "outputs": [],
   "source": [
    "from pyspark.ml.linalg import Vectors"
   ]
  },
  {
   "cell_type": "code",
   "execution_count": 217,
   "metadata": {},
   "outputs": [
    {
     "data": {
      "text/plain": [
       "DenseVector([1.8572, 1.4443, 0.0, 0.0, 0.0, 0.0, 0.0, 0.0, 0.0, 3.2189, 0.0, 0.0, 1.6094, 1.7636, 0.0, 0.0, 1.7636, 0.0, 0.0, 0.0, 0.0, 0.0, 0.0, 0.0, 0.0, 0.0, 0.0, 0.0, 0.0, 0.0, 0.0, 0.0, 0.0, 2.1691, 0.0, 0.0, 0.0, 0.0, 0.0, 0.0, 0.0, 0.0, 0.0, 0.0, 0.0, 0.0, 0.0, 0.0, 0.0, 2.1691, 0.0, 0.0, 0.0, 0.0, 0.0, 0.0, 0.0, 0.0, 0.0, 0.0, 0.0, 2.1691, 0.0, 0.0, 0.0, 0.0, 0.0, 0.0, 0.0, 0.0, 0.0, 0.0, 0.0, 0.0, 0.0, 0.0, 0.0, 0.0, 0.0, 0.0, 2.4567, 0.0, 0.0, 0.0, 0.0, 2.4567, 0.0, 0.0, 0.0, 0.0, 0.0, 0.0, 0.0, 0.0, 0.0, 0.0, 0.0, 0.0, 0.0, 0.0, 0.0, 5.7244, 0.0, 0.0, 0.0, 0.0, 0.0, 0.0, 0.0, 0.0, 0.0, 0.0, 0.0, 0.0, 0.0, 0.0, 0.0, 0.0, 0.0, 0.0, 0.0, 0.0, 0.0, 0.0, 0.0, 0.0, 0.0, 0.0, 0.0, 0.0, 0.0, 0.0, 0.0, 0.0, 0.0, 0.0, 0.0, 0.0, 0.0, 0.0, 0.0, 0.0, 0.0, 0.0, 0.0, 0.0, 0.0, 0.0, 0.0, 0.0, 0.0, 0.0, 0.0, 0.0, 0.0, 0.0, 0.0, 0.0, 0.0, 0.0, 0.0, 0.0, 0.0, 0.0, 0.0, 0.0, 0.0, 0.0, 0.0, 0.0, 0.0, 0.0, 0.0, 0.0, 0.0, 0.0, 0.0, 0.0, 0.0, 0.0, 0.0, 0.0, 0.0, 0.0, 0.0, 0.0, 0.0, 0.0, 0.0, 0.0, 0.0, 0.0, 0.0, 0.0, 0.0, 0.0, 0.0, 0.0, 0.0, 0.0, 0.0, 0.0, 0.0, 0.0, 0.0, 0.0, 0.0, 0.0, 0.0, 2.8622, 0.0, 0.0, 0.0, 0.0, 0.0, 0.0, 2.8622, 0.0, 0.0, 0.0, 0.0, 0.0, 0.0, 0.0, 0.0, 0.0, 0.0, 0.0, 0.0, 0.0, 0.0, 0.0, 0.0, 0.0, 0.0, 0.0, 0.0, 0.0, 0.0, 0.0, 0.0, 0.0, 0.0, 0.0, 0.0, 0.0, 0.0, 0.0, 0.0, 0.0, 0.0, 0.0, 0.0, 0.0, 0.0, 0.0, 0.0, 0.0, 0.0, 0.0, 0.0, 0.0, 0.0, 0.0, 0.0, 0.0, 0.0, 0.0, 0.0, 0.0, 0.0, 0.0, 0.0, 0.0, 0.0, 0.0, 0.0, 0.0, 0.0, 0.0, 0.0, 0.0, 0.0, 0.0, 0.0, 0.0, 0.0, 0.0, 0.0, 0.0, 0.0, 0.0, 0.0, 0.0, 0.0, 0.0, 0.0, 0.0, 0.0, 0.0, 0.0, 0.0, 0.0, 0.0, 0.0, 0.0, 0.0, 0.0, 0.0, 0.0, 0.0, 0.0, 0.0, 0.0, 0.0, 0.0, 0.0, 0.0, 0.0, 0.0, 0.0, 0.0, 0.0, 0.0, 0.0, 0.0, 0.0, 0.0, 0.0, 0.0, 2.8622, 0.0, 0.0, 0.0, 0.0, 0.0, 0.0, 0.0, 0.0, 0.0, 0.0, 0.0, 0.0, 0.0, 0.0, 0.0, 0.0, 0.0, 0.0, 0.0, 0.0, 0.0, 0.0, 0.0, 0.0, 0.0, 0.0])"
      ]
     },
     "execution_count": 217,
     "metadata": {},
     "output_type": "execute_result"
    }
   ],
   "source": [
    "Vectors.dense(tfidf_sample)"
   ]
  },
  {
   "cell_type": "code",
   "execution_count": 218,
   "metadata": {},
   "outputs": [
    {
     "data": {
      "text/plain": [
       "pyspark.ml.linalg.DenseVector"
      ]
     },
     "execution_count": 218,
     "metadata": {},
     "output_type": "execute_result"
    }
   ],
   "source": [
    "type(Vectors.dense(tfidf_sample))"
   ]
  },
  {
   "cell_type": "markdown",
   "metadata": {},
   "source": [
    "We need to work with `pyspark.ml.linalg.DenseVector` because that's what Spark ML expects (as opposed to a Numpy array or a pyspark sparse vector)"
   ]
  },
  {
   "cell_type": "markdown",
   "metadata": {},
   "source": [
    "So, let's define the function:"
   ]
  },
  {
   "cell_type": "code",
   "execution_count": 219,
   "metadata": {},
   "outputs": [],
   "source": [
    "def to_dense(sparse_vector):\n",
    "    return Vectors.dense(sparse_vector)"
   ]
  },
  {
   "cell_type": "code",
   "execution_count": 220,
   "metadata": {},
   "outputs": [
    {
     "data": {
      "text/plain": [
       "DenseVector([1.8572, 1.4443, 0.0, 0.0, 0.0, 0.0, 0.0, 0.0, 0.0, 3.2189, 0.0, 0.0, 1.6094, 1.7636, 0.0, 0.0, 1.7636, 0.0, 0.0, 0.0, 0.0, 0.0, 0.0, 0.0, 0.0, 0.0, 0.0, 0.0, 0.0, 0.0, 0.0, 0.0, 0.0, 2.1691, 0.0, 0.0, 0.0, 0.0, 0.0, 0.0, 0.0, 0.0, 0.0, 0.0, 0.0, 0.0, 0.0, 0.0, 0.0, 2.1691, 0.0, 0.0, 0.0, 0.0, 0.0, 0.0, 0.0, 0.0, 0.0, 0.0, 0.0, 2.1691, 0.0, 0.0, 0.0, 0.0, 0.0, 0.0, 0.0, 0.0, 0.0, 0.0, 0.0, 0.0, 0.0, 0.0, 0.0, 0.0, 0.0, 0.0, 2.4567, 0.0, 0.0, 0.0, 0.0, 2.4567, 0.0, 0.0, 0.0, 0.0, 0.0, 0.0, 0.0, 0.0, 0.0, 0.0, 0.0, 0.0, 0.0, 0.0, 0.0, 5.7244, 0.0, 0.0, 0.0, 0.0, 0.0, 0.0, 0.0, 0.0, 0.0, 0.0, 0.0, 0.0, 0.0, 0.0, 0.0, 0.0, 0.0, 0.0, 0.0, 0.0, 0.0, 0.0, 0.0, 0.0, 0.0, 0.0, 0.0, 0.0, 0.0, 0.0, 0.0, 0.0, 0.0, 0.0, 0.0, 0.0, 0.0, 0.0, 0.0, 0.0, 0.0, 0.0, 0.0, 0.0, 0.0, 0.0, 0.0, 0.0, 0.0, 0.0, 0.0, 0.0, 0.0, 0.0, 0.0, 0.0, 0.0, 0.0, 0.0, 0.0, 0.0, 0.0, 0.0, 0.0, 0.0, 0.0, 0.0, 0.0, 0.0, 0.0, 0.0, 0.0, 0.0, 0.0, 0.0, 0.0, 0.0, 0.0, 0.0, 0.0, 0.0, 0.0, 0.0, 0.0, 0.0, 0.0, 0.0, 0.0, 0.0, 0.0, 0.0, 0.0, 0.0, 0.0, 0.0, 0.0, 0.0, 0.0, 0.0, 0.0, 0.0, 0.0, 0.0, 0.0, 0.0, 0.0, 0.0, 2.8622, 0.0, 0.0, 0.0, 0.0, 0.0, 0.0, 2.8622, 0.0, 0.0, 0.0, 0.0, 0.0, 0.0, 0.0, 0.0, 0.0, 0.0, 0.0, 0.0, 0.0, 0.0, 0.0, 0.0, 0.0, 0.0, 0.0, 0.0, 0.0, 0.0, 0.0, 0.0, 0.0, 0.0, 0.0, 0.0, 0.0, 0.0, 0.0, 0.0, 0.0, 0.0, 0.0, 0.0, 0.0, 0.0, 0.0, 0.0, 0.0, 0.0, 0.0, 0.0, 0.0, 0.0, 0.0, 0.0, 0.0, 0.0, 0.0, 0.0, 0.0, 0.0, 0.0, 0.0, 0.0, 0.0, 0.0, 0.0, 0.0, 0.0, 0.0, 0.0, 0.0, 0.0, 0.0, 0.0, 0.0, 0.0, 0.0, 0.0, 0.0, 0.0, 0.0, 0.0, 0.0, 0.0, 0.0, 0.0, 0.0, 0.0, 0.0, 0.0, 0.0, 0.0, 0.0, 0.0, 0.0, 0.0, 0.0, 0.0, 0.0, 0.0, 0.0, 0.0, 0.0, 0.0, 0.0, 0.0, 0.0, 0.0, 0.0, 0.0, 0.0, 0.0, 0.0, 0.0, 0.0, 0.0, 0.0, 0.0, 0.0, 2.8622, 0.0, 0.0, 0.0, 0.0, 0.0, 0.0, 0.0, 0.0, 0.0, 0.0, 0.0, 0.0, 0.0, 0.0, 0.0, 0.0, 0.0, 0.0, 0.0, 0.0, 0.0, 0.0, 0.0, 0.0, 0.0, 0.0])"
      ]
     },
     "execution_count": 220,
     "metadata": {},
     "output_type": "execute_result"
    }
   ],
   "source": [
    "to_dense(tfidf_sample)"
   ]
  },
  {
   "cell_type": "markdown",
   "metadata": {},
   "source": [
    "Now, to define a user defined custom function (UDF) for Spark SQL, we need to provide the **return** type of the function to the constructor in `functions.udf`. The return type of `to_dense` is `VectorUDT` defined in `pyspark.ml.linalg.VectorUDT`"
   ]
  },
  {
   "cell_type": "code",
   "execution_count": 221,
   "metadata": {},
   "outputs": [],
   "source": [
    "from pyspark.ml.linalg import VectorUDT"
   ]
  },
  {
   "cell_type": "code",
   "execution_count": 222,
   "metadata": {},
   "outputs": [],
   "source": [
    "to_dense_udf = fn.udf(to_dense, VectorUDT())"
   ]
  },
  {
   "cell_type": "markdown",
   "metadata": {},
   "source": [
    "Now we can use this function as part of our transformations"
   ]
  },
  {
   "cell_type": "code",
   "execution_count": 223,
   "metadata": {},
   "outputs": [
    {
     "name": "stdout",
     "output_type": "stream",
     "text": [
      "+------------------------------------------------------------+------------------------------------------------------------+\n",
      "|                                                       tfidf|                                                 dense_tfidf|\n",
      "+------------------------------------------------------------+------------------------------------------------------------+\n",
      "|(357,[0,1,9,12,13,16,33,49,61,80,85,101,209,216,330],[1.8...|[1.8572224325243911,1.444269434866395,0.0,0.0,0.0,0.0,0.0...|\n",
      "|(357,[1,2,3,4,16,20,24,25,43,49,68,90,103,130,160,190,210...|[0.0,0.7221347174331975,1.252762968495368,1.0704414117014...|\n",
      "|(357,[2,3,8,21,28,29,70,93,97,127,134,177,223,248,252,258...|[0.0,0.0,1.252762968495368,1.0704414117014134,0.0,0.0,0.0...|\n",
      "|(357,[0,30,37,42,97,127,171,187,215,233,307],[0.928611216...|[0.9286112162621956,0.0,0.0,0.0,0.0,0.0,0.0,0.0,0.0,0.0,0...|\n",
      "|(357,[0,1,3,4,6,13,16,27,34,43,59,73,135,170,174,225,270,...|[0.4643056081310978,0.7221347174331975,0.0,1.070441411701...|\n",
      "+------------------------------------------------------------+------------------------------------------------------------+\n",
      "only showing top 5 rows\n",
      "\n"
     ]
    }
   ],
   "source": [
    "tfidf.transform(im_courses).select('tfidf', to_dense_udf('tfidf').alias('dense_tfidf')).show(5, 60)"
   ]
  },
  {
   "cell_type": "markdown",
   "metadata": {},
   "source": [
    "Moreover, we want to make this as part of a Pipeline. This is somewhat obscure and undocumented Spark functionality. We will now define a simple `Transformer` object that will apply the `to_dense_udf` to an input column as part of a Transformer object."
   ]
  },
  {
   "cell_type": "code",
   "execution_count": 224,
   "metadata": {},
   "outputs": [],
   "source": [
    "from pyspark import keyword_only\n",
    "from pyspark.ml import Transformer\n",
    "from pyspark.ml.param.shared import HasInputCol, HasOutputCol, Param\n",
    "\n",
    "class Densify(Transformer, HasInputCol, HasOutputCol):\n",
    "    @keyword_only\n",
    "    def __init__(self, inputCol=None, outputCol=None, stopwords=None):\n",
    "        super(Densify, self).__init__()\n",
    "        self._setDefault()\n",
    "#         print(self._input_kwargs)\n",
    "        kwargs = self._input_kwargs\n",
    "        self.setParams(**kwargs)\n",
    "\n",
    "    @keyword_only\n",
    "    def setParams(self, inputCol=None, outputCol=None):\n",
    "        kwargs = self._input_kwargs\n",
    "        return self._set(**kwargs)\n",
    "\n",
    "    def _transform(self, dataset):\n",
    "        out_col = self.getOutputCol()\n",
    "        in_col = dataset[self.getInputCol()]\n",
    "        return dataset.withColumn(out_col, to_dense_udf(in_col))"
   ]
  },
  {
   "cell_type": "markdown",
   "metadata": {},
   "source": [
    "The cell below creates a `Densify` transformer object that can be used in a Spark pipeline."
   ]
  },
  {
   "cell_type": "code",
   "execution_count": 225,
   "metadata": {},
   "outputs": [],
   "source": [
    "dense_tfidf = Densify(inputCol='tfidf', outputCol='dense_tfidf')"
   ]
  },
  {
   "cell_type": "markdown",
   "metadata": {},
   "source": [
    "The cell below uses the `dense_tfidf` transformer in a pipeline."
   ]
  },
  {
   "cell_type": "code",
   "execution_count": 259,
   "metadata": {
    "scrolled": false
   },
   "outputs": [
    {
     "name": "stdout",
     "output_type": "stream",
     "text": [
      "+--------------------------------------------------------------------------------+--------------------------------------------------------------------------------+\n",
      "|                                                                           tfidf|                                                                     dense_tfidf|\n",
      "+--------------------------------------------------------------------------------+--------------------------------------------------------------------------------+\n",
      "|(357,[0,1,9,11,15,16,35,55,61,103,108,116,151,285,324],[1.8572224325243911,1....|[1.8572224325243911,1.444269434866395,0.0,0.0,0.0,0.0,0.0,0.0,0.0,3.218875824...|\n",
      "|(357,[1,2,3,5,16,23,25,30,46,55,63,67,82,119,145,160,190,194,195,230,287,289,...|[0.0,0.7221347174331975,1.252762968495368,1.0704414117014134,0.0,1.2527629684...|\n",
      "|(357,[2,3,8,22,27,28,62,65,84,122,130,150,169,177,180,187,234,250,268,316,322...|[0.0,0.0,1.252762968495368,1.0704414117014134,0.0,0.0,0.0,0.0,1.4759065198095...|\n",
      "|(357,[0,19,37,43,65,130,171,179,291,306,311],[0.9286112162621956,4.3381074007...|[0.9286112162621956,0.0,0.0,0.0,0.0,0.0,0.0,0.0,0.0,0.0,0.0,0.0,0.0,0.0,0.0,0...|\n",
      "|(357,[0,1,3,5,6,15,16,24,45,46,50,78,134,141,205,208,219,222,224,345,346],[0....|[0.4643056081310978,0.7221347174331975,0.0,1.0704414117014134,0.0,1.252762968...|\n",
      "|(357,[0,1,7,11,24,26,47,79,85,87,97,112,135,216,255,257,273,327,344,348],[1.3...|[1.3929168243932932,0.7221347174331975,0.0,0.0,0.0,0.0,0.0,1.6094379124341003...|\n",
      "|(357,[0,5,10,12,21,48,69,81,91,105,185,209,210,217,235,246,264,275,276,294,29...|[0.9286112162621956,0.0,0.0,0.0,0.0,1.252762968495368,0.0,0.0,0.0,0.0,1.76358...|\n",
      "|(357,[0,1,4,5,15,18,48,50,52,74,110,116,125,172,214,220,226,233,325,353,354],...|[1.3929168243932932,0.7221347174331975,0.0,0.0,1.4759065198095778,1.252762968...|\n",
      "|(357,[0,1,5,37,39,66,174,188,247,305,337,339,350],[0.4643056081310978,1.44426...|[0.4643056081310978,1.444269434866395,0.0,0.0,0.0,1.252762968495368,0.0,0.0,0...|\n",
      "|(357,[0,25,49,89,118,131,156,173,196,198,200,229,271,274,278],[0.464305608131...|[0.4643056081310978,0.0,0.0,0.0,0.0,0.0,0.0,0.0,0.0,0.0,0.0,0.0,0.0,0.0,0.0,0...|\n",
      "|(357,[1,4,12,22,30,33,38,51,59,75,86,87,99,129,154,167,189,202,223,228,293,30...|[0.0,0.7221347174331975,0.0,0.0,2.9518130396191555,0.0,0.0,0.0,0.0,0.0,0.0,0....|\n",
      "|(357,[0,6,7,11,16,36,39,40,58,67,72,128,136,165,175,191,259,267,338,352],[0.9...|[0.9286112162621956,0.0,0.0,0.0,0.0,0.0,1.3581234841531944,4.828313737302301,...|\n",
      "|(357,[0,1,6,8,14,18,21,36,40,41,44,49,50,73,92,101,111,115,178,201,231],[0.46...|[0.4643056081310978,0.7221347174331975,0.0,0.0,0.0,0.0,1.3581234841531944,0.0...|\n",
      "|(357,[0,7,14,15,17,24,57,93,115,131,263,309,331],[0.4643056081310978,1.609437...|[0.4643056081310978,0.0,0.0,0.0,0.0,0.0,0.0,1.6094379124341003,0.0,0.0,0.0,0....|\n",
      "|(357,[1,4,12,28,52,70,124,134,192,197,212,308,336],[0.7221347174331975,1.4759...|[0.0,0.7221347174331975,0.0,0.0,1.4759065198095778,0.0,0.0,0.0,0.0,0.0,0.0,0....|\n",
      "|(357,[1,3,4,5,8,9,10,14,18,23,41,45,61,127,137,176,254,258,307,326],[0.722134...|[0.0,0.7221347174331975,0.0,1.0704414117014134,2.9518130396191555,1.252762968...|\n",
      "|(357,[0,1,7,9,52,62,81,152,193,241,282,288],[0.4643056081310978,0.72213471743...|[0.4643056081310978,0.7221347174331975,0.0,0.0,0.0,0.0,0.0,1.6094379124341003...|\n",
      "|(357,[0,4,7,22,27,30,54,74,78,83,89,95,107,164,211,225,245,251,253,260,334],[...|[0.9286112162621956,0.0,0.0,0.0,1.4759065198095778,0.0,0.0,1.6094379124341003...|\n",
      "|(357,[0,1,2,3,4,5,7,10,16,20,23,30,37,42,83,120,127,133,215,238,252,292,295,3...|[0.4643056081310978,0.7221347174331975,3.758288905486104,1.0704414117014134,1...|\n",
      "|(357,[0,3,8,21,39,40,71,79,86,112,122,147,221,227,265,283,300,343],[1.3929168...|[1.3929168243932932,0.0,0.0,1.0704414117014134,0.0,0.0,0.0,0.0,1.475906519809...|\n",
      "+--------------------------------------------------------------------------------+--------------------------------------------------------------------------------+\n",
      "only showing top 20 rows\n",
      "\n"
     ]
    }
   ],
   "source": [
    "pipeline2_model = Pipeline(stages=[tokenizer, sw_filter, cv, idf, dense_tfidf]).fit(im_courses)\n",
    "pipeline2_model.transform(im_courses).select('tfidf', 'dense_tfidf').show(20, 80)"
   ]
  },
  {
   "cell_type": "markdown",
   "metadata": {},
   "source": [
    "The cell below defines a standard scaler object which will be used to standardize data before applying unsupervised learning algorithms."
   ]
  },
  {
   "cell_type": "code",
   "execution_count": 227,
   "metadata": {},
   "outputs": [],
   "source": [
    "# standardize features - it doesn't work in Spark 2.1\n",
    "center = feature.StandardScaler(withMean=True, withStd=False, inputCol='dense_tfidf', outputCol='centered_tfidf')"
   ]
  },
  {
   "cell_type": "markdown",
   "metadata": {},
   "source": [
    "In the cell below we define a PCA transformer.  PCA needs the number of principal components to be learned `k`:"
   ]
  },
  {
   "cell_type": "code",
   "execution_count": 228,
   "metadata": {},
   "outputs": [],
   "source": [
    "pca = feature.PCA(k=10, inputCol='centered_tfidf', outputCol='pca_feat')"
   ]
  },
  {
   "cell_type": "markdown",
   "metadata": {},
   "source": [
    "For KMeans, we need to provide the number of clusters, but we will normalize the vectors so that they have unit length.  The cell below defines a `Normalizer` transformer which will normalize vectors to unit length."
   ]
  },
  {
   "cell_type": "code",
   "execution_count": 229,
   "metadata": {},
   "outputs": [],
   "source": [
    "norm = feature.Normalizer(inputCol=\"centered_tfidf\", outputCol=\"norm_tfidf\", p=2.0)"
   ]
  },
  {
   "cell_type": "markdown",
   "metadata": {},
   "source": [
    "The cell below defines a Spark KMeans clustering object."
   ]
  },
  {
   "cell_type": "code",
   "execution_count": 230,
   "metadata": {},
   "outputs": [],
   "source": [
    "kmeans = clustering.KMeans(k=5, featuresCol='norm_tfidf', predictionCol='kmeans_feat')"
   ]
  },
  {
   "cell_type": "code",
   "execution_count": 231,
   "metadata": {},
   "outputs": [],
   "source": [
    "pipeline = Pipeline(stages=[tokenizer, sw_filter, cv, idf, dense_tfidf, center, norm, kmeans, pca])"
   ]
  },
  {
   "cell_type": "code",
   "execution_count": 232,
   "metadata": {},
   "outputs": [],
   "source": [
    "pipeline_model = pipeline.fit(im_courses)"
   ]
  },
  {
   "cell_type": "code",
   "execution_count": 233,
   "metadata": {
    "scrolled": false
   },
   "outputs": [],
   "source": [
    "if is_databricks():\n",
    "  pipeline_model.transform(im_courses).show(5, 10)\n",
    "else:\n",
    "  pipeline_model.transform(im_courses).toPandas().head()"
   ]
  },
  {
   "cell_type": "code",
   "execution_count": 234,
   "metadata": {
    "scrolled": false
   },
   "outputs": [
    {
     "name": "stdout",
     "output_type": "stream",
     "text": [
      "+-------+------------------------------------------------------------+-----------+\n",
      "| course|                                                    pca_feat|kmeans_feat|\n",
      "+-------+------------------------------------------------------------+-----------+\n",
      "|IST 553|[-0.6752213340342716,0.5785435268413691,-0.07339130587452...|          3|\n",
      "|IST 558|[-1.0560092197231885,0.16173650604119563,1.76742656265282...|          3|\n",
      "|IST 565|[0.19618219422529945,0.3954758666709369,0.745455205235986...|          4|\n",
      "|IST 601|[-0.6823791849888864,0.0777981633234236,0.242940814663267...|          4|\n",
      "|IST 614|[-1.3508184757797232,0.2786365081125673,0.042220706401105...|          2|\n",
      "+-------+------------------------------------------------------------+-----------+\n",
      "only showing top 5 rows\n",
      "\n"
     ]
    }
   ],
   "source": [
    "# note: pca_feat col is the PCA loadings\n",
    "pipeline_model.transform(im_courses).select('course', 'pca_feat', 'kmeans_feat').show(5, 60)"
   ]
  },
  {
   "cell_type": "markdown",
   "metadata": {},
   "source": [
    "# Interpreation\n",
    "\n",
    "We can examine the PCA loadings:"
   ]
  },
  {
   "cell_type": "code",
   "execution_count": 235,
   "metadata": {},
   "outputs": [],
   "source": [
    "import pandas as pd"
   ]
  },
  {
   "cell_type": "code",
   "execution_count": 236,
   "metadata": {},
   "outputs": [
    {
     "data": {
      "text/plain": [
       "[RegexTokenizer_4c03e5d89fc4,\n",
       " StopWordsRemover_b9560a5cda7f,\n",
       " CountVectorizer_c6fdfa323aee,\n",
       " IDF_80bd10a65d1f,\n",
       " Densify_96a1bfa9e2ef,\n",
       " StandardScaler_8202678db3ba,\n",
       " Normalizer_671d5cc775a1,\n",
       " KMeans_8e4263ca2803,\n",
       " PCA_329377757165]"
      ]
     },
     "execution_count": 236,
     "metadata": {},
     "output_type": "execute_result"
    }
   ],
   "source": [
    "pipeline_model.stages"
   ]
  },
  {
   "cell_type": "code",
   "execution_count": 237,
   "metadata": {},
   "outputs": [],
   "source": [
    "pca_model = pipeline_model.stages[-1]"
   ]
  },
  {
   "cell_type": "code",
   "execution_count": 238,
   "metadata": {},
   "outputs": [],
   "source": [
    "pc1 = pca_model.pc.toArray()[:, 0].tolist()\n",
    "pc2 = pca_model.pc.toArray()[:, 1].tolist()\n",
    "pc3 = pca_model.pc.toArray()[:, 2].tolist()"
   ]
  },
  {
   "cell_type": "code",
   "execution_count": 239,
   "metadata": {},
   "outputs": [],
   "source": [
    "vocabulary = pipeline_model.stages[2].vocabulary"
   ]
  },
  {
   "cell_type": "code",
   "execution_count": 240,
   "metadata": {
    "scrolled": true
   },
   "outputs": [
    {
     "name": "stdout",
     "output_type": "stream",
     "text": [
      "(357, 4)\n"
     ]
    }
   ],
   "source": [
    "pc_loadings = pd.DataFrame([vocabulary, pc1, pc2, pc3]).T.rename(columns={0: 'word', \n",
    "                                                                          1: 'load_pc1',\n",
    "                                                                          2: 'load_pc2',\n",
    "                                                                          3: 'load_pc3',})\n",
    "print(pc_loadings.shape)"
   ]
  },
  {
   "cell_type": "markdown",
   "metadata": {},
   "source": [
    "Show the smallest and largest loadings"
   ]
  },
  {
   "cell_type": "code",
   "execution_count": 241,
   "metadata": {},
   "outputs": [
    {
     "data": {
      "text/html": [
       "<div>\n",
       "<style scoped>\n",
       "    .dataframe tbody tr th:only-of-type {\n",
       "        vertical-align: middle;\n",
       "    }\n",
       "\n",
       "    .dataframe tbody tr th {\n",
       "        vertical-align: top;\n",
       "    }\n",
       "\n",
       "    .dataframe thead th {\n",
       "        text-align: right;\n",
       "    }\n",
       "</style>\n",
       "<table border=\"1\" class=\"dataframe\">\n",
       "  <thead>\n",
       "    <tr style=\"text-align: right;\">\n",
       "      <th></th>\n",
       "      <th>word</th>\n",
       "      <th>load_pc1</th>\n",
       "      <th>load_pc2</th>\n",
       "      <th>load_pc3</th>\n",
       "    </tr>\n",
       "  </thead>\n",
       "  <tbody>\n",
       "    <tr>\n",
       "      <td>38</td>\n",
       "      <td>required</td>\n",
       "      <td>-0.067063</td>\n",
       "      <td>0.0054385</td>\n",
       "      <td>0.0715218</td>\n",
       "    </tr>\n",
       "    <tr>\n",
       "      <td>32</td>\n",
       "      <td>processing</td>\n",
       "      <td>-0.0654304</td>\n",
       "      <td>0.00737648</td>\n",
       "      <td>0.0743025</td>\n",
       "    </tr>\n",
       "    <tr>\n",
       "      <td>74</td>\n",
       "      <td>computational</td>\n",
       "      <td>-0.0613542</td>\n",
       "      <td>0.00504601</td>\n",
       "      <td>0.0764562</td>\n",
       "    </tr>\n",
       "    <tr>\n",
       "      <td>70</td>\n",
       "      <td>linguistic</td>\n",
       "      <td>-0.0613542</td>\n",
       "      <td>0.00504601</td>\n",
       "      <td>0.0764562</td>\n",
       "    </tr>\n",
       "    <tr>\n",
       "      <td>7</td>\n",
       "      <td>students</td>\n",
       "      <td>-0.0579638</td>\n",
       "      <td>0.00405441</td>\n",
       "      <td>0.0680286</td>\n",
       "    </tr>\n",
       "    <tr>\n",
       "      <td>72</td>\n",
       "      <td>architecture</td>\n",
       "      <td>0.188491</td>\n",
       "      <td>-0.051103</td>\n",
       "      <td>0.00445523</td>\n",
       "    </tr>\n",
       "    <tr>\n",
       "      <td>97</td>\n",
       "      <td>complex</td>\n",
       "      <td>0.188491</td>\n",
       "      <td>-0.051103</td>\n",
       "      <td>0.00445523</td>\n",
       "    </tr>\n",
       "    <tr>\n",
       "      <td>37</td>\n",
       "      <td>enterprise</td>\n",
       "      <td>0.254813</td>\n",
       "      <td>-0.453853</td>\n",
       "      <td>-0.0290984</td>\n",
       "    </tr>\n",
       "    <tr>\n",
       "      <td>26</td>\n",
       "      <td>databases</td>\n",
       "      <td>0.275076</td>\n",
       "      <td>0.199085</td>\n",
       "      <td>0.0735311</td>\n",
       "    </tr>\n",
       "    <tr>\n",
       "      <td>21</td>\n",
       "      <td>database</td>\n",
       "      <td>0.538651</td>\n",
       "      <td>0.366988</td>\n",
       "      <td>0.0595601</td>\n",
       "    </tr>\n",
       "  </tbody>\n",
       "</table>\n",
       "</div>"
      ],
      "text/plain": [
       "             word   load_pc1    load_pc2    load_pc3\n",
       "38  required      -0.067063   0.0054385   0.0715218 \n",
       "32  processing    -0.0654304  0.00737648  0.0743025 \n",
       "74  computational -0.0613542  0.00504601  0.0764562 \n",
       "70  linguistic    -0.0613542  0.00504601  0.0764562 \n",
       "7   students      -0.0579638  0.00405441  0.0680286 \n",
       "72  architecture   0.188491  -0.051103    0.00445523\n",
       "97  complex        0.188491  -0.051103    0.00445523\n",
       "37  enterprise     0.254813  -0.453853   -0.0290984 \n",
       "26  databases      0.275076   0.199085    0.0735311 \n",
       "21  database       0.538651   0.366988    0.0595601 "
      ]
     },
     "execution_count": 241,
     "metadata": {},
     "output_type": "execute_result"
    }
   ],
   "source": [
    "# smallest and biggest loadings of pc1\n",
    "pd.concat((pc_loadings.sort_values('load_pc1').head(), \n",
    "           pc_loadings.sort_values('load_pc1').tail()))"
   ]
  },
  {
   "cell_type": "code",
   "execution_count": 242,
   "metadata": {},
   "outputs": [
    {
     "data": {
      "text/html": [
       "<div>\n",
       "<style scoped>\n",
       "    .dataframe tbody tr th:only-of-type {\n",
       "        vertical-align: middle;\n",
       "    }\n",
       "\n",
       "    .dataframe tbody tr th {\n",
       "        vertical-align: top;\n",
       "    }\n",
       "\n",
       "    .dataframe thead th {\n",
       "        text-align: right;\n",
       "    }\n",
       "</style>\n",
       "<table border=\"1\" class=\"dataframe\">\n",
       "  <thead>\n",
       "    <tr style=\"text-align: right;\">\n",
       "      <th></th>\n",
       "      <th>word</th>\n",
       "      <th>load_pc1</th>\n",
       "      <th>load_pc2</th>\n",
       "      <th>load_pc3</th>\n",
       "    </tr>\n",
       "  </thead>\n",
       "  <tbody>\n",
       "    <tr>\n",
       "      <td>37</td>\n",
       "      <td>enterprise</td>\n",
       "      <td>0.254813</td>\n",
       "      <td>-0.453853</td>\n",
       "      <td>-0.0290984</td>\n",
       "    </tr>\n",
       "    <tr>\n",
       "      <td>110</td>\n",
       "      <td>computing</td>\n",
       "      <td>0.169875</td>\n",
       "      <td>-0.302568</td>\n",
       "      <td>-0.019399</td>\n",
       "    </tr>\n",
       "    <tr>\n",
       "      <td>56</td>\n",
       "      <td>large</td>\n",
       "      <td>0.144783</td>\n",
       "      <td>-0.263025</td>\n",
       "      <td>-0.0181318</td>\n",
       "    </tr>\n",
       "    <tr>\n",
       "      <td>5</td>\n",
       "      <td>systems</td>\n",
       "      <td>0.0903704</td>\n",
       "      <td>-0.160692</td>\n",
       "      <td>0.0276732</td>\n",
       "    </tr>\n",
       "    <tr>\n",
       "      <td>260</td>\n",
       "      <td>comprise</td>\n",
       "      <td>0.0849375</td>\n",
       "      <td>-0.151284</td>\n",
       "      <td>-0.00969948</td>\n",
       "    </tr>\n",
       "    <tr>\n",
       "      <td>241</td>\n",
       "      <td>implementing</td>\n",
       "      <td>0.134663</td>\n",
       "      <td>0.091747</td>\n",
       "      <td>0.01489</td>\n",
       "    </tr>\n",
       "    <tr>\n",
       "      <td>120</td>\n",
       "      <td>security</td>\n",
       "      <td>0.116207</td>\n",
       "      <td>0.094556</td>\n",
       "      <td>-0.129068</td>\n",
       "    </tr>\n",
       "    <tr>\n",
       "      <td>105</td>\n",
       "      <td>warehouses</td>\n",
       "      <td>0.116554</td>\n",
       "      <td>0.097372</td>\n",
       "      <td>0.0149755</td>\n",
       "    </tr>\n",
       "    <tr>\n",
       "      <td>26</td>\n",
       "      <td>databases</td>\n",
       "      <td>0.275076</td>\n",
       "      <td>0.199085</td>\n",
       "      <td>0.0735311</td>\n",
       "    </tr>\n",
       "    <tr>\n",
       "      <td>21</td>\n",
       "      <td>database</td>\n",
       "      <td>0.538651</td>\n",
       "      <td>0.366988</td>\n",
       "      <td>0.0595601</td>\n",
       "    </tr>\n",
       "  </tbody>\n",
       "</table>\n",
       "</div>"
      ],
      "text/plain": [
       "             word   load_pc1  load_pc2    load_pc3\n",
       "37   enterprise    0.254813  -0.453853 -0.0290984 \n",
       "110  computing     0.169875  -0.302568 -0.019399  \n",
       "56   large         0.144783  -0.263025 -0.0181318 \n",
       "5    systems       0.0903704 -0.160692  0.0276732 \n",
       "260  comprise      0.0849375 -0.151284 -0.00969948\n",
       "241  implementing  0.134663   0.091747  0.01489   \n",
       "120  security      0.116207   0.094556 -0.129068  \n",
       "105  warehouses    0.116554   0.097372  0.0149755 \n",
       "26   databases     0.275076   0.199085  0.0735311 \n",
       "21   database      0.538651   0.366988  0.0595601 "
      ]
     },
     "execution_count": 242,
     "metadata": {},
     "output_type": "execute_result"
    }
   ],
   "source": [
    "# smallest and biggest loadings of pc2\n",
    "pd.concat((pc_loadings.sort_values('load_pc2').head(), \n",
    "           pc_loadings.sort_values('load_pc2').tail()))"
   ]
  },
  {
   "cell_type": "code",
   "execution_count": 243,
   "metadata": {
    "scrolled": false
   },
   "outputs": [
    {
     "data": {
      "text/html": [
       "<div>\n",
       "<style scoped>\n",
       "    .dataframe tbody tr th:only-of-type {\n",
       "        vertical-align: middle;\n",
       "    }\n",
       "\n",
       "    .dataframe tbody tr th {\n",
       "        vertical-align: top;\n",
       "    }\n",
       "\n",
       "    .dataframe thead th {\n",
       "        text-align: right;\n",
       "    }\n",
       "</style>\n",
       "<table border=\"1\" class=\"dataframe\">\n",
       "  <thead>\n",
       "    <tr style=\"text-align: right;\">\n",
       "      <th></th>\n",
       "      <th>word</th>\n",
       "      <th>load_pc1</th>\n",
       "      <th>load_pc2</th>\n",
       "      <th>load_pc3</th>\n",
       "    </tr>\n",
       "  </thead>\n",
       "  <tbody>\n",
       "    <tr>\n",
       "      <td>71</td>\n",
       "      <td>public</td>\n",
       "      <td>0.00144676</td>\n",
       "      <td>0.0368293</td>\n",
       "      <td>-0.330519</td>\n",
       "    </tr>\n",
       "    <tr>\n",
       "      <td>92</td>\n",
       "      <td>policy</td>\n",
       "      <td>0.00144676</td>\n",
       "      <td>0.0368293</td>\n",
       "      <td>-0.330519</td>\n",
       "    </tr>\n",
       "    <tr>\n",
       "      <td>57</td>\n",
       "      <td>economic</td>\n",
       "      <td>-0.0149275</td>\n",
       "      <td>0.0125956</td>\n",
       "      <td>-0.184823</td>\n",
       "    </tr>\n",
       "    <tr>\n",
       "      <td>137</td>\n",
       "      <td>legal</td>\n",
       "      <td>0.000723382</td>\n",
       "      <td>0.0184146</td>\n",
       "      <td>-0.165259</td>\n",
       "    </tr>\n",
       "    <tr>\n",
       "      <td>252</td>\n",
       "      <td>expression</td>\n",
       "      <td>0.000723382</td>\n",
       "      <td>0.0184146</td>\n",
       "      <td>-0.165259</td>\n",
       "    </tr>\n",
       "    <tr>\n",
       "      <td>94</td>\n",
       "      <td>administration</td>\n",
       "      <td>0.0155463</td>\n",
       "      <td>0.00854415</td>\n",
       "      <td>0.079552</td>\n",
       "    </tr>\n",
       "    <tr>\n",
       "      <td>24</td>\n",
       "      <td>modeling</td>\n",
       "      <td>0.00457799</td>\n",
       "      <td>0.00875369</td>\n",
       "      <td>0.0798089</td>\n",
       "    </tr>\n",
       "    <tr>\n",
       "      <td>49</td>\n",
       "      <td>projects</td>\n",
       "      <td>-0.0324584</td>\n",
       "      <td>-0.0187311</td>\n",
       "      <td>0.0871006</td>\n",
       "    </tr>\n",
       "    <tr>\n",
       "      <td>2</td>\n",
       "      <td>data</td>\n",
       "      <td>0.0864014</td>\n",
       "      <td>0.0851734</td>\n",
       "      <td>0.133236</td>\n",
       "    </tr>\n",
       "    <tr>\n",
       "      <td>33</td>\n",
       "      <td>metadata</td>\n",
       "      <td>-0.0223883</td>\n",
       "      <td>-0.0428104</td>\n",
       "      <td>0.194214</td>\n",
       "    </tr>\n",
       "  </tbody>\n",
       "</table>\n",
       "</div>"
      ],
      "text/plain": [
       "               word     load_pc1    load_pc2   load_pc3\n",
       "71   public          0.00144676   0.0368293  -0.330519 \n",
       "92   policy          0.00144676   0.0368293  -0.330519 \n",
       "57   economic       -0.0149275    0.0125956  -0.184823 \n",
       "137  legal           0.000723382  0.0184146  -0.165259 \n",
       "252  expression      0.000723382  0.0184146  -0.165259 \n",
       "94   administration  0.0155463    0.00854415  0.079552 \n",
       "24   modeling        0.00457799   0.00875369  0.0798089\n",
       "49   projects       -0.0324584   -0.0187311   0.0871006\n",
       "2    data            0.0864014    0.0851734   0.133236 \n",
       "33   metadata       -0.0223883   -0.0428104   0.194214 "
      ]
     },
     "execution_count": 243,
     "metadata": {},
     "output_type": "execute_result"
    }
   ],
   "source": [
    "# smallest and biggest loadings of pc3\n",
    "pd.concat((pc_loadings.sort_values('load_pc3').head(), \n",
    "           pc_loadings.sort_values('load_pc3').tail()))"
   ]
  },
  {
   "cell_type": "markdown",
   "metadata": {},
   "source": [
    "# Visualize fit with 2 dimensional PCA"
   ]
  },
  {
   "cell_type": "markdown",
   "metadata": {},
   "source": [
    "The cell below creates a new pipeline to compute PCA scores on the course descriptions."
   ]
  },
  {
   "cell_type": "code",
   "execution_count": 244,
   "metadata": {},
   "outputs": [],
   "source": [
    "pipeline2_model = Pipeline(stages=[tokenizer, sw_filter, cv, idf, dense_tfidf, \n",
    "                                   feature.Normalizer(inputCol='dense_tfidf', outputCol='norm_tfidf'), \n",
    "                                   feature.StandardScaler(withMean=True, withStd=False, \n",
    "                                                          inputCol='norm_tfidf',\n",
    "                                                          outputCol='centered_tfidf'),\n",
    "                                   feature.PCA(k=2, inputCol='centered_tfidf', outputCol='pca_feat2')])\\\n",
    "    .fit(im_courses)"
   ]
  },
  {
   "cell_type": "markdown",
   "metadata": {},
   "source": [
    "The cell below extracts the PCA scores from the transformed pipeline2_model."
   ]
  },
  {
   "cell_type": "code",
   "execution_count": 245,
   "metadata": {},
   "outputs": [
    {
     "name": "stdout",
     "output_type": "stream",
     "text": [
      "X.shape: (34, 2)\n"
     ]
    }
   ],
   "source": [
    "course_names = np.array(im_courses.select('course').rdd.map(lambda x: x['course']).collect())\n",
    "X = np.array(pipeline2_model.transform(im_courses).select('pca_feat2').rdd.map(lambda x: x['pca_feat2']).collect())\n",
    "print(\"X.shape:\", X.shape)"
   ]
  },
  {
   "cell_type": "markdown",
   "metadata": {},
   "source": [
    "Filter out scores that are lower than .2 to limit the amount of data we are plotting so the plot isn't too \"busy\""
   ]
  },
  {
   "cell_type": "code",
   "execution_count": 254,
   "metadata": {
    "scrolled": false
   },
   "outputs": [
    {
     "data": {
      "image/png": "[encoded data removed]",
      "text/plain": [
       "<Figure size 504x504 with 1 Axes>"
      ]
     },
     "metadata": {
      "needs_background": "light"
     },
     "output_type": "display_data"
    },
    {
     "data": {
      "text/plain": [
       "None"
      ]
     },
     "metadata": {},
     "output_type": "display_data"
    }
   ],
   "source": [
    "# now plot the data\n",
    "fig, ax = plt.subplots()\n",
    "fig.set_figheight(7)\n",
    "fig.set_figwidth(7)\n",
    "ax.scatter(X[:,0], X[:,1])\n",
    "fig.suptitle(\"Diabetes Data PC2 vs. PC1\", y=.92)\n",
    "ax.set_xlabel(\"PC1\")\n",
    "ax.set_ylabel(\"PC2\")\n",
    "\n",
    "for i, txt in enumerate(course_names):\n",
    "    ax.annotate(txt, (X[i,0], X[i,1]))\n",
    "    \n",
    "display(plt.show())"
   ]
  },
  {
   "cell_type": "markdown",
   "metadata": {},
   "source": [
    "The cell below sets up to print a zoomed in plot by filtering by data less than 0.2"
   ]
  },
  {
   "cell_type": "code",
   "execution_count": 255,
   "metadata": {},
   "outputs": [],
   "source": [
    "idx = np.abs(X[:, 0]) < 0.2\n",
    "X = X[idx]\n",
    "course_names = course_names[idx]"
   ]
  },
  {
   "cell_type": "code",
   "execution_count": 256,
   "metadata": {},
   "outputs": [
    {
     "data": {
      "image/png": "[encoded data removed]",
      "text/plain": [
       "<Figure size 504x504 with 1 Axes>"
      ]
     },
     "metadata": {
      "needs_background": "light"
     },
     "output_type": "display_data"
    },
    {
     "data": {
      "text/plain": [
       "None"
      ]
     },
     "metadata": {},
     "output_type": "display_data"
    }
   ],
   "source": [
    "# now plot the zoomed data\n",
    "fig, ax = plt.subplots()\n",
    "fig.set_figheight(7)\n",
    "fig.set_figwidth(7)\n",
    "ax.scatter(X[:,0], X[:,1])\n",
    "fig.suptitle(\"Zoomed In Diabetes Data PC2 vs. PC1\", y=.92)\n",
    "ax.set_xlabel(\"PC1\")\n",
    "ax.set_ylabel(\"PC2\")\n",
    "\n",
    "for i, txt in enumerate(course_names):\n",
    "    ax.annotate(txt, (X[i,0], X[i,1]))\n",
    "    \n",
    "display(plt.show())"
   ]
  },
  {
   "cell_type": "code",
   "execution_count": 154,
   "metadata": {},
   "outputs": [],
   "source": [
    "pca_model = pipeline2_model.stages[-1]"
   ]
  },
  {
   "cell_type": "code",
   "execution_count": 155,
   "metadata": {},
   "outputs": [],
   "source": [
    "pc1 = pca_model.pc.toArray()[:, 0].tolist()\n",
    "pc2 = pca_model.pc.toArray()[:, 1].tolist()"
   ]
  },
  {
   "cell_type": "code",
   "execution_count": 156,
   "metadata": {},
   "outputs": [],
   "source": [
    "vocabulary = pipeline2_model.stages[2].vocabulary"
   ]
  },
  {
   "cell_type": "code",
   "execution_count": 157,
   "metadata": {},
   "outputs": [],
   "source": [
    "pc_loadings = pd.DataFrame([vocabulary, pc1, pc2]).T.rename(columns={0: 'word', \n",
    "                                                                     1: 'load_pc1',\n",
    "                                                                     2: 'load_pc2'})"
   ]
  },
  {
   "cell_type": "code",
   "execution_count": 158,
   "metadata": {},
   "outputs": [
    {
     "data": {
      "text/html": [
       "<div>\n",
       "<style scoped>\n",
       "    .dataframe tbody tr th:only-of-type {\n",
       "        vertical-align: middle;\n",
       "    }\n",
       "\n",
       "    .dataframe tbody tr th {\n",
       "        vertical-align: top;\n",
       "    }\n",
       "\n",
       "    .dataframe thead th {\n",
       "        text-align: right;\n",
       "    }\n",
       "</style>\n",
       "<table border=\"1\" class=\"dataframe\">\n",
       "  <thead>\n",
       "    <tr style=\"text-align: right;\">\n",
       "      <th></th>\n",
       "      <th>word</th>\n",
       "      <th>load_pc1</th>\n",
       "    </tr>\n",
       "  </thead>\n",
       "  <tbody>\n",
       "    <tr>\n",
       "      <td>14</td>\n",
       "      <td>research</td>\n",
       "      <td>0.11137</td>\n",
       "    </tr>\n",
       "    <tr>\n",
       "      <td>17</td>\n",
       "      <td>digital</td>\n",
       "      <td>0.0683895</td>\n",
       "    </tr>\n",
       "    <tr>\n",
       "      <td>7</td>\n",
       "      <td>design</td>\n",
       "      <td>0.0668912</td>\n",
       "    </tr>\n",
       "    <tr>\n",
       "      <td>10</td>\n",
       "      <td>issues</td>\n",
       "      <td>0.0572029</td>\n",
       "    </tr>\n",
       "    <tr>\n",
       "      <td>41</td>\n",
       "      <td>networks</td>\n",
       "      <td>0.0537774</td>\n",
       "    </tr>\n",
       "  </tbody>\n",
       "</table>\n",
       "</div>"
      ],
      "text/plain": [
       "        word   load_pc1\n",
       "14  research  0.11137  \n",
       "17  digital   0.0683895\n",
       "7   design    0.0668912\n",
       "10  issues    0.0572029\n",
       "41  networks  0.0537774"
      ]
     },
     "execution_count": 158,
     "metadata": {},
     "output_type": "execute_result"
    }
   ],
   "source": [
    "pc_loadings.sort_values('load_pc1').\\\n",
    "    apply({'word': lambda x: x, 'load_pc1': np.abs}, axis=0).head(5)"
   ]
  },
  {
   "cell_type": "code",
   "execution_count": 159,
   "metadata": {
    "scrolled": true
   },
   "outputs": [
    {
     "data": {
      "text/html": [
       "<div>\n",
       "<style scoped>\n",
       "    .dataframe tbody tr th:only-of-type {\n",
       "        vertical-align: middle;\n",
       "    }\n",
       "\n",
       "    .dataframe tbody tr th {\n",
       "        vertical-align: top;\n",
       "    }\n",
       "\n",
       "    .dataframe thead th {\n",
       "        text-align: right;\n",
       "    }\n",
       "</style>\n",
       "<table border=\"1\" class=\"dataframe\">\n",
       "  <thead>\n",
       "    <tr style=\"text-align: right;\">\n",
       "      <th></th>\n",
       "      <th>word</th>\n",
       "      <th>load_pc2</th>\n",
       "    </tr>\n",
       "  </thead>\n",
       "  <tbody>\n",
       "    <tr>\n",
       "      <td>2</td>\n",
       "      <td>data</td>\n",
       "      <td>0.243194</td>\n",
       "    </tr>\n",
       "    <tr>\n",
       "      <td>5</td>\n",
       "      <td>systems</td>\n",
       "      <td>0.1452</td>\n",
       "    </tr>\n",
       "    <tr>\n",
       "      <td>24</td>\n",
       "      <td>databases</td>\n",
       "      <td>0.139927</td>\n",
       "    </tr>\n",
       "    <tr>\n",
       "      <td>11</td>\n",
       "      <td>analysis</td>\n",
       "      <td>0.133891</td>\n",
       "    </tr>\n",
       "    <tr>\n",
       "      <td>56</td>\n",
       "      <td>metadata</td>\n",
       "      <td>0.128186</td>\n",
       "    </tr>\n",
       "  </tbody>\n",
       "</table>\n",
       "</div>"
      ],
      "text/plain": [
       "         word  load_pc2\n",
       "2   data       0.243194\n",
       "5   systems    0.1452  \n",
       "24  databases  0.139927\n",
       "11  analysis   0.133891\n",
       "56  metadata   0.128186"
      ]
     },
     "execution_count": 159,
     "metadata": {},
     "output_type": "execute_result"
    }
   ],
   "source": [
    "pc_loadings.sort_values('load_pc2').\\\n",
    "    apply({'word': lambda x: x, 'load_pc2': np.abs}, axis=0).head(5)"
   ]
  },
  {
   "cell_type": "markdown",
   "metadata": {},
   "source": [
    "# Examine K-means"
   ]
  },
  {
   "cell_type": "markdown",
   "metadata": {},
   "source": [
    "The cell below displays the im_courses dataframe, followed by a print out of the course"
   ]
  },
  {
   "cell_type": "code",
   "execution_count": 160,
   "metadata": {},
   "outputs": [
    {
     "data": {
      "text/plain": [
       "'im_courses head:'"
      ]
     },
     "metadata": {},
     "output_type": "display_data"
    },
    {
     "data": {
      "text/html": [
       "<div>\n",
       "<style scoped>\n",
       "    .dataframe tbody tr th:only-of-type {\n",
       "        vertical-align: middle;\n",
       "    }\n",
       "\n",
       "    .dataframe tbody tr th {\n",
       "        vertical-align: top;\n",
       "    }\n",
       "\n",
       "    .dataframe thead th {\n",
       "        text-align: right;\n",
       "    }\n",
       "</style>\n",
       "<table border=\"1\" class=\"dataframe\">\n",
       "  <thead>\n",
       "    <tr style=\"text-align: right;\">\n",
       "      <th></th>\n",
       "      <th>course</th>\n",
       "      <th>core</th>\n",
       "      <th>credits</th>\n",
       "      <th>title</th>\n",
       "      <th>description</th>\n",
       "    </tr>\n",
       "  </thead>\n",
       "  <tbody>\n",
       "    <tr>\n",
       "      <td>0</td>\n",
       "      <td>IST 553</td>\n",
       "      <td>IM</td>\n",
       "      <td>3</td>\n",
       "      <td>Information Architecture for Internet Services</td>\n",
       "      <td>Building and management of Internet information services, including information organization, information management, and information dissemination. Understanding of the use of Internet technologies within an organizational context. Practice with current technologies.</td>\n",
       "    </tr>\n",
       "    <tr>\n",
       "      <td>1</td>\n",
       "      <td>IST 558</td>\n",
       "      <td>CAS</td>\n",
       "      <td>3</td>\n",
       "      <td>Technologies in Web Content Management</td>\n",
       "      <td>Concepts and techniques in web content representation, organization, presentation, development, and management with the eXtensible Markup Language (XML), including basic XML syntax, vocabulary specification, data modeling, transformation, and Document Object Model (DOM).</td>\n",
       "    </tr>\n",
       "    <tr>\n",
       "      <td>2</td>\n",
       "      <td>IST 565</td>\n",
       "      <td>CAS</td>\n",
       "      <td>3</td>\n",
       "      <td>Data Mining</td>\n",
       "      <td>Introduction to data mining techniques, familiarity with particular real-world applications, challenges involved in these applications, and future directions of the field. Optional hands-on experience with commercially available software packages.</td>\n",
       "    </tr>\n",
       "    <tr>\n",
       "      <td>3</td>\n",
       "      <td>IST 601</td>\n",
       "      <td>IM</td>\n",
       "      <td>3</td>\n",
       "      <td>Information and Information Environments</td>\n",
       "      <td>A broad overview of the field and an orientation to the School of Information Studies. Describes the past, present, and future of information studies.</td>\n",
       "    </tr>\n",
       "    <tr>\n",
       "      <td>4</td>\n",
       "      <td>IST 614</td>\n",
       "      <td>IM</td>\n",
       "      <td>3</td>\n",
       "      <td>Management Principles for Information Professionals</td>\n",
       "      <td>Basic ideas, concepts and perspectives of management as they apply to the information professions. Students learn to understand and apply basic principles of organization theory and behavior and managerial techniques needed to improve organizational effectiveness.</td>\n",
       "    </tr>\n",
       "  </tbody>\n",
       "</table>\n",
       "</div>"
      ],
      "text/plain": [
       "    course core  credits                                                title  \\\n",
       "0  IST 553  IM   3        Information Architecture for Internet Services        \n",
       "1  IST 558  CAS  3        Technologies in Web Content Management                \n",
       "2  IST 565  CAS  3        Data Mining                                           \n",
       "3  IST 601  IM   3        Information and Information Environments              \n",
       "4  IST 614  IM   3        Management Principles for Information Professionals   \n",
       "\n",
       "                                                                                                                                                                                                                                                                       description  \n",
       "0  Building and management of Internet information services, including information organization, information management, and information dissemination. Understanding of the use of Internet technologies within an organizational context. Practice with current technologies.     \n",
       "1  Concepts and techniques in web content representation, organization, presentation, development, and management with the eXtensible Markup Language (XML), including basic XML syntax, vocabulary specification, data modeling, transformation, and Document Object Model (DOM).  \n",
       "2  Introduction to data mining techniques, familiarity with particular real-world applications, challenges involved in these applications, and future directions of the field. Optional hands-on experience with commercially available software packages.                          \n",
       "3  A broad overview of the field and an orientation to the School of Information Studies. Describes the past, present, and future of information studies.                                                                                                                           \n",
       "4  Basic ideas, concepts and perspectives of management as they apply to the information professions. Students learn to understand and apply basic principles of organization theory and behavior and managerial techniques needed to improve organizational effectiveness.         "
      ]
     },
     "metadata": {},
     "output_type": "display_data"
    },
    {
     "data": {
      "text/plain": [
       "'courses grouped by k-means group:'"
      ]
     },
     "metadata": {},
     "output_type": "display_data"
    },
    {
     "data": {
      "text/html": [
       "<div>\n",
       "<style scoped>\n",
       "    .dataframe tbody tr th:only-of-type {\n",
       "        vertical-align: middle;\n",
       "    }\n",
       "\n",
       "    .dataframe tbody tr th {\n",
       "        vertical-align: top;\n",
       "    }\n",
       "\n",
       "    .dataframe thead th {\n",
       "        text-align: right;\n",
       "    }\n",
       "</style>\n",
       "<table border=\"1\" class=\"dataframe\">\n",
       "  <thead>\n",
       "    <tr style=\"text-align: right;\">\n",
       "      <th></th>\n",
       "      <th>kmeans_feat</th>\n",
       "      <th>courses</th>\n",
       "    </tr>\n",
       "  </thead>\n",
       "  <tbody>\n",
       "    <tr>\n",
       "      <td>0</td>\n",
       "      <td>1</td>\n",
       "      <td>[IST 645-Managing Information Systems Projects, IST 656-Telecommunications and Enterprise Network Management II, IST 664-Natural Language Processing, IST 676-Foundations of Digital Data]</td>\n",
       "    </tr>\n",
       "    <tr>\n",
       "      <td>1</td>\n",
       "      <td>3</td>\n",
       "      <td>[IST 553-Information Architecture for Internet Services, IST 558-Technologies in Web Content Management, IST 618-Information Policy, IST 641-User-Based Design, IST 653-Telecommunications and Enterprise Network Management I, IST 654-Information Systems Analysis, IST 677-Creating, Managing, and Preserving Digital Assets, IST 681-Metadata, IST 687-Applied Data Science, IST 722-Data Warehouse]</td>\n",
       "    </tr>\n",
       "    <tr>\n",
       "      <td>2</td>\n",
       "      <td>4</td>\n",
       "      <td>[IST 565-Data Mining, IST 601-Information and Information Environments, IST 617-Motivational Aspects of Information Use, IST 621-Introduction to Information Management, IST 639-Enterprise Technologies, IST 659-Data Administration Concepts and Database Management, IST 662-Instructional Strategies and Techniques for Information Professionals, IST 718-Advanced Information Analytics, IST 719-Information Visualization, IST 755-Strategic Management of Information Resources, IST 769-Advanced Database Administration Concepts and Database Management, IST 971-Internship in Information Studies]</td>\n",
       "    </tr>\n",
       "    <tr>\n",
       "      <td>3</td>\n",
       "      <td>2</td>\n",
       "      <td>[IST 614-Management Principles for Information Professionals, IST 619-Applied Economics for Information Managers, IST 657-Basics of Information Retrieval Systems]</td>\n",
       "    </tr>\n",
       "    <tr>\n",
       "      <td>4</td>\n",
       "      <td>0</td>\n",
       "      <td>[IST 631-Theory of Classification and Subject Representation, IST 649-Human Interaction with Computers, IST 736-Text Mining, IST 776-Research Methods in Information Science and Technology, IST 777-Statistical Methods in Information Science and Technology]</td>\n",
       "    </tr>\n",
       "  </tbody>\n",
       "</table>\n",
       "</div>"
      ],
      "text/plain": [
       "   kmeans_feat  \\\n",
       "0  1             \n",
       "1  3             \n",
       "2  4             \n",
       "3  2             \n",
       "4  0             \n",
       "\n",
       "                                                                                                                                                                                                                                                                                                                                                                                                                                                                                                                                                                                                          courses  \n",
       "0  [IST 645-Managing Information Systems Projects, IST 656-Telecommunications and Enterprise Network Management II, IST 664-Natural Language Processing, IST 676-Foundations of Digital Data]                                                                                                                                                                                                                                                                                                                                                                                                                      \n",
       "1  [IST 553-Information Architecture for Internet Services, IST 558-Technologies in Web Content Management, IST 618-Information Policy, IST 641-User-Based Design, IST 653-Telecommunications and Enterprise Network Management I, IST 654-Information Systems Analysis, IST 677-Creating, Managing, and Preserving Digital Assets, IST 681-Metadata, IST 687-Applied Data Science, IST 722-Data Warehouse]                                                                                                                                                                                                        \n",
       "2  [IST 565-Data Mining, IST 601-Information and Information Environments, IST 617-Motivational Aspects of Information Use, IST 621-Introduction to Information Management, IST 639-Enterprise Technologies, IST 659-Data Administration Concepts and Database Management, IST 662-Instructional Strategies and Techniques for Information Professionals, IST 718-Advanced Information Analytics, IST 719-Information Visualization, IST 755-Strategic Management of Information Resources, IST 769-Advanced Database Administration Concepts and Database Management, IST 971-Internship in Information Studies]  \n",
       "3  [IST 614-Management Principles for Information Professionals, IST 619-Applied Economics for Information Managers, IST 657-Basics of Information Retrieval Systems]                                                                                                                                                                                                                                                                                                                                                                                                                                              \n",
       "4  [IST 631-Theory of Classification and Subject Representation, IST 649-Human Interaction with Computers, IST 736-Text Mining, IST 776-Research Methods in Information Science and Technology, IST 777-Statistical Methods in Information Science and Technology]                                                                                                                                                                                                                                                                                                                                                 "
      ]
     },
     "metadata": {},
     "output_type": "display_data"
    }
   ],
   "source": [
    "pd.set_option('display.max_colwidth', -1)\n",
    "if is_databricks(): \n",
    "  print(\"original im_courses:\")\n",
    "  im_courses.show(5, 80)\n",
    "  print(\"courses grouped by k-means group:\")\n",
    "  pipeline_model.transform(im_courses).\\\n",
    "           groupBy('kmeans_feat').agg(fn.collect_list(\n",
    "           fn.concat_ws('-', fn.col('course'), fn.col('title'))).alias('courses')).show(5, 80)\n",
    "else:\n",
    "  display(\"im_courses head:\", im_courses.toPandas().head())\n",
    "  display(\"courses grouped by k-means group:\", pipeline_model.transform(im_courses).\\\n",
    "          groupBy('kmeans_feat').agg(fn.collect_list(\n",
    "          fn.concat_ws('-', fn.col('course'), fn.col('title'))).alias('courses')).toPandas().head())"
   ]
  },
  {
   "cell_type": "markdown",
   "metadata": {},
   "source": [
    "# Make recommendations"
   ]
  },
  {
   "cell_type": "markdown",
   "metadata": {},
   "source": [
    "To make recommendations, we need compute the distance between a vector and all the other courses in our dataset. To do this, we need to define a User Defined Function (UDF) that takes as input two column vectors and returns the distance between them."
   ]
  },
  {
   "cell_type": "code",
   "execution_count": 161,
   "metadata": {},
   "outputs": [],
   "source": [
    "from pyspark.sql import types"
   ]
  },
  {
   "cell_type": "code",
   "execution_count": 162,
   "metadata": {},
   "outputs": [],
   "source": [
    "import numpy as np\n",
    "def l2_dist(c1, c2):    \n",
    "    return float(np.sqrt((c1 - c2).T.dot((c1 - c2))))"
   ]
  },
  {
   "cell_type": "markdown",
   "metadata": {},
   "source": [
    "Let's take the PCA features of IST 718."
   ]
  },
  {
   "cell_type": "code",
   "execution_count": 163,
   "metadata": {},
   "outputs": [],
   "source": [
    "l2_dist_udf = fn.udf(l2_dist, types.FloatType())"
   ]
  },
  {
   "cell_type": "markdown",
   "metadata": {},
   "source": [
    "Spark doesn't allow a cross join without a condition because it could be too computationally expensive. The command in the cell below triggers a cross join using the regular inner join syntax.  A cross join is used when you wish to create combination of every row from two tables. All row combinations are included in the result; this is commonly called cross product join. A common use for a cross join is to create obtain all combinations of items, such as colors and sizes."
   ]
  },
  {
   "cell_type": "code",
   "execution_count": 164,
   "metadata": {},
   "outputs": [
    {
     "name": "stdout",
     "output_type": "stream",
     "text": [
      "+--------------------+-----+\n",
      "|                 key|value|\n",
      "+--------------------+-----+\n",
      "|spark.sql.crossJo...| TRUE|\n",
      "+--------------------+-----+\n",
      "\n"
     ]
    }
   ],
   "source": [
    "spark.sql(\"SET spark.sql.crossJoin.enabled=TRUE\").show()"
   ]
  },
  {
   "cell_type": "code",
   "execution_count": 165,
   "metadata": {
    "scrolled": true
   },
   "outputs": [
    {
     "data": {
      "text/html": [
       "<div>\n",
       "<style scoped>\n",
       "    .dataframe tbody tr th:only-of-type {\n",
       "        vertical-align: middle;\n",
       "    }\n",
       "\n",
       "    .dataframe tbody tr th {\n",
       "        vertical-align: top;\n",
       "    }\n",
       "\n",
       "    .dataframe thead th {\n",
       "        text-align: right;\n",
       "    }\n",
       "</style>\n",
       "<table border=\"1\" class=\"dataframe\">\n",
       "  <thead>\n",
       "    <tr style=\"text-align: right;\">\n",
       "      <th></th>\n",
       "      <th>course</th>\n",
       "      <th>description</th>\n",
       "      <th>dist</th>\n",
       "    </tr>\n",
       "  </thead>\n",
       "  <tbody>\n",
       "    <tr>\n",
       "      <td>0</td>\n",
       "      <td>IST 718</td>\n",
       "      <td>A broad introduction to analytical processing tools and techniques for information professionals. Students will develop a portfolio of resources, demonstrations, recipes, and examples of various analytical techniques.</td>\n",
       "      <td>0.000000</td>\n",
       "    </tr>\n",
       "    <tr>\n",
       "      <td>1</td>\n",
       "      <td>IST 719</td>\n",
       "      <td>A broad introduction to data visualization for information professionals. Students will develop a portfolio of resources, demonstrations, recipes, and examples of various data visualization techniques.</td>\n",
       "      <td>1.466475</td>\n",
       "    </tr>\n",
       "    <tr>\n",
       "      <td>2</td>\n",
       "      <td>IST 565</td>\n",
       "      <td>Introduction to data mining techniques, familiarity with particular real-world applications, challenges involved in these applications, and future directions of the field. Optional hands-on experience with commercially available software packages.</td>\n",
       "      <td>4.206517</td>\n",
       "    </tr>\n",
       "    <tr>\n",
       "      <td>3</td>\n",
       "      <td>IST 662</td>\n",
       "      <td>Introduction to information literacy models for application to instruction in information organizations. Focus on strategies and techniques for designing, presenting, and evaluating information technology training and training materials for real clients.</td>\n",
       "      <td>4.281012</td>\n",
       "    </tr>\n",
       "    <tr>\n",
       "      <td>4</td>\n",
       "      <td>IST 601</td>\n",
       "      <td>A broad overview of the field and an orientation to the School of Information Studies. Describes the past, present, and future of information studies.</td>\n",
       "      <td>4.523474</td>\n",
       "    </tr>\n",
       "    <tr>\n",
       "      <td>5</td>\n",
       "      <td>IST 971</td>\n",
       "      <td>Fully supervised internship experience. Prereq: IST masters students only. Must meet GPA requirements and complete a learning agreement with site supervisor.</td>\n",
       "      <td>4.798213</td>\n",
       "    </tr>\n",
       "    <tr>\n",
       "      <td>6</td>\n",
       "      <td>IST 736</td>\n",
       "      <td>Introduces concepts and methods for knowledge discovery from large amount of text data, and the application of text mining techniques for business intelligence, digital humanities, and social behavior analysis.</td>\n",
       "      <td>5.518248</td>\n",
       "    </tr>\n",
       "    <tr>\n",
       "      <td>7</td>\n",
       "      <td>IST 755</td>\n",
       "      <td>Seminar. Integration of previous learning on the various components of management, user needs, and technologies. In-depth review and use of case studies on a range of critical information resources management areas.</td>\n",
       "      <td>5.552835</td>\n",
       "    </tr>\n",
       "    <tr>\n",
       "      <td>8</td>\n",
       "      <td>IST 621</td>\n",
       "      <td>Overview of general management concepts, IM implementation concerns and strategies, information life cycle management, and preparation for an IM career.</td>\n",
       "      <td>5.588045</td>\n",
       "    </tr>\n",
       "    <tr>\n",
       "      <td>9</td>\n",
       "      <td>IST 656</td>\n",
       "      <td>Hardware and software technologies in telecommunication and information networks. TCP/IP protocols. Design, maintenance and management.</td>\n",
       "      <td>5.759579</td>\n",
       "    </tr>\n",
       "  </tbody>\n",
       "</table>\n",
       "</div>"
      ],
      "text/plain": [
       "    course  \\\n",
       "0  IST 718   \n",
       "1  IST 719   \n",
       "2  IST 565   \n",
       "3  IST 662   \n",
       "4  IST 601   \n",
       "5  IST 971   \n",
       "6  IST 736   \n",
       "7  IST 755   \n",
       "8  IST 621   \n",
       "9  IST 656   \n",
       "\n",
       "                                                                                                                                                                                                                                                      description  \\\n",
       "0  A broad introduction to analytical processing tools and techniques for information professionals. Students will develop a portfolio of resources, demonstrations, recipes, and examples of various analytical techniques.                                        \n",
       "1  A broad introduction to data visualization for information professionals. Students will develop a portfolio of resources, demonstrations, recipes, and examples of various data visualization techniques.                                                        \n",
       "2  Introduction to data mining techniques, familiarity with particular real-world applications, challenges involved in these applications, and future directions of the field. Optional hands-on experience with commercially available software packages.          \n",
       "3  Introduction to information literacy models for application to instruction in information organizations. Focus on strategies and techniques for designing, presenting, and evaluating information technology training and training materials for real clients.   \n",
       "4  A broad overview of the field and an orientation to the School of Information Studies. Describes the past, present, and future of information studies.                                                                                                           \n",
       "5  Fully supervised internship experience. Prereq: IST masters students only. Must meet GPA requirements and complete a learning agreement with site supervisor.                                                                                                    \n",
       "6  Introduces concepts and methods for knowledge discovery from large amount of text data, and the application of text mining techniques for business intelligence, digital humanities, and social behavior analysis.                                               \n",
       "7  Seminar. Integration of previous learning on the various components of management, user needs, and technologies. In-depth review and use of case studies on a range of critical information resources management areas.                                          \n",
       "8  Overview of general management concepts, IM implementation concerns and strategies, information life cycle management, and preparation for an IM career.                                                                                                         \n",
       "9  Hardware and software technologies in telecommunication and information networks. TCP/IP protocols. Design, maintenance and management.                                                                                                                          \n",
       "\n",
       "       dist  \n",
       "0  0.000000  \n",
       "1  1.466475  \n",
       "2  4.206517  \n",
       "3  4.281012  \n",
       "4  4.523474  \n",
       "5  4.798213  \n",
       "6  5.518248  \n",
       "7  5.552835  \n",
       "8  5.588045  \n",
       "9  5.759579  "
      ]
     },
     "metadata": {},
     "output_type": "display_data"
    }
   ],
   "source": [
    "if is_databricks():\n",
    "  pipeline_model.transform(im_courses).\\\n",
    "        where('course == \"IST 718\"').\\\n",
    "        select(fn.col(\"pca_feat\").alias('ist718_feat')).\\\n",
    "        join(pipeline_model.transform(im_courses)).\\\n",
    "        withColumn('dist', l2_dist_udf('pca_feat', 'ist718_feat')).\\\n",
    "        select(\"course\", \"description\", \"dist\").\\\n",
    "        orderBy(fn.asc(\"dist\")).\\\n",
    "        show(5, 80)  \n",
    "else:\n",
    "  display(pipeline_model.transform(im_courses).\\\n",
    "          where('course == \"IST 718\"').\\\n",
    "          select(fn.col(\"pca_feat\").alias('ist718_feat')).\\\n",
    "          join(pipeline_model.transform(im_courses)).\\\n",
    "          withColumn('dist', l2_dist_udf('pca_feat', 'ist718_feat')).\\\n",
    "          select(\"course\", \"description\", \"dist\").\\\n",
    "          orderBy(fn.asc(\"dist\")).\\\n",
    "          limit(10).\\\n",
    "          toPandas())"
   ]
  },
  {
   "cell_type": "markdown",
   "metadata": {},
   "source": [
    "To Do:  Create a biplot as part of this notebook"
   ]
  },
  {
   "cell_type": "code",
   "execution_count": 166,
   "metadata": {},
   "outputs": [],
   "source": [
    "def biplot(score, coeff, score_labels=None, col_labels=None):\n",
    "    xs = score[:,0]\n",
    "    ys = score[:,1]\n",
    "    n = coeff.shape[0]\n",
    "    scalex = 1.0/(xs.max() - xs.min())\n",
    "    scaley = 1.0/(ys.max() - ys.min())\n",
    "    \n",
    "    plt.scatter(xs * scalex, ys * scaley, c = score_labels)\n",
    "    for i in range(n):\n",
    "        plt.arrow(0, 0, coeff[i,0], coeff[i,1],color = 'r',alpha = 0.5)\n",
    "        if col_labels is None:\n",
    "            plt.text(coeff[i,0]* 1.15, coeff[i,1] * 1.15, \"Var\"+str(i+1), color = 'g', ha = 'center', va = 'center')\n",
    "        else:\n",
    "            plt.text(coeff[i,0]* 1.15, coeff[i,1] * 1.15, col_labels[i], color = 'g', ha = 'center', va = 'center')\n",
    "    plt.xlim(-1,1)\n",
    "    plt.ylim(-1,1)\n",
    "    plt.xlabel(\"PC{}\".format(1))\n",
    "    plt.ylabel(\"PC{}\".format(2))\n",
    "    plt.grid()"
   ]
  }
 ],
 "metadata": {
  "anaconda-cloud": {},
  "kernelspec": {
   "display_name": "Python 3",
   "language": "python",
   "name": "python3"
  },
  "language_info": {
   "codemirror_mode": {
    "name": "ipython",
    "version": 3
   },
   "file_extension": ".py",
   "mimetype": "text/x-python",
   "name": "python",
   "nbconvert_exporter": "python",
   "pygments_lexer": "ipython3",
   "version": "3.7.4"
  },
  "name": "unit+08-unsupervised+learning",
  "notebookId": 1880941953554025
 },
 "nbformat": 4,
 "nbformat_minor": 1
}
