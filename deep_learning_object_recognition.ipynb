{
 "cells": [
  {
   "cell_type": "markdown",
   "metadata": {},
   "source": [
    "# Object recognition with deep learning"
   ]
  },
  {
   "cell_type": "markdown",
   "metadata": {},
   "source": [
    "Load preliminary packages and launch a Spark connection"
   ]
  },
  {
   "cell_type": "code",
   "execution_count": 1,
   "metadata": {},
   "outputs": [],
   "source": [
    "from pyspark.sql import SparkSession\n",
    "from pyspark.ml import feature\n",
    "from pyspark.ml import classification\n",
    "from pyspark.sql import functions as fn\n",
    "from pyspark.ml import Pipeline\n",
    "from pyspark.ml.evaluation import BinaryClassificationEvaluator, \\\n",
    "    MulticlassClassificationEvaluator, \\\n",
    "    RegressionEvaluator\n",
    "from pyspark.ml.tuning import CrossValidator, ParamGridBuilder\n",
    "import matplotlib.pyplot as plt\n",
    "import seaborn as sns\n",
    "import pandas as pd\n",
    "import numpy as np\n",
    "import os\n",
    "import subprocess\n",
    "from pyspark.sql import SparkSession\n",
    "import glob\n",
    "\n",
    "spark = SparkSession.builder.master(\"local\").appName(\"MLP Demo\").config(\"spark.master\", \"local[*]\").getOrCreate()\n",
    "sc = spark.sparkContext\n",
    "\n",
    "%matplotlib inline"
   ]
  },
  {
   "cell_type": "markdown",
   "metadata": {},
   "source": [
    "# Utility Functions\n",
    "Define some utility functions needed to display images and uzip the parquet data file (don't forget to upload it to data bricks)."
   ]
  },
  {
   "cell_type": "code",
   "execution_count": 2,
   "metadata": {},
   "outputs": [],
   "source": [
    "# utility function to display the first element of a Spark dataframe as an image\n",
    "def display_first_as_img(df):\n",
    "    plt.imshow(df.first().raw_pixels.toArray().reshape([60,40]), 'gray', aspect=0.5);\n",
    "    display()"
   ]
  },
  {
   "cell_type": "code",
   "execution_count": 3,
   "metadata": {},
   "outputs": [],
   "source": [
    "# Define a function to check if we are running on data bricks\n",
    "# Returns True if running on data brciks, False otherwise\n",
    "def is_databricks():\n",
    "    # get the databricks runtime version\n",
    "    env = os.getenv(\"DATABRICKS_RUNTIME_VERSION\")\n",
    "    \n",
    "    # if the runtime version env var exists\n",
    "    if env != None:\n",
    "        # return true - this is a databricks env\n",
    "        return True\n",
    "    else:\n",
    "        # return false - this is not a databricks env\n",
    "        return False"
   ]
  },
  {
   "cell_type": "code",
   "execution_count": 4,
   "metadata": {},
   "outputs": [],
   "source": [
    "# Define a function to explode zip files on data bricks\n",
    "# Args:\n",
    "#   zip_base_file_list: A list of base file names to match in /dbfs/FileStore/tables.  Note that \n",
    "#                       data bricks appends a short string to the uploaded zip file names so the base\n",
    "#                       file name is used as a match string to retrieve the full file name.\n",
    "#   zip_dir_list: A list of exploded zip file directory names in which to explode the zip files in the \n",
    "#                 zip_base_file_list.\n",
    "def unzip_zip_files(zip_base_file_list, zip_dir_list):\n",
    "    # if we are running on databricks\n",
    "    if is_databricks():\n",
    "        # define the zip data file path\n",
    "        zip_path = \"/dbfs/FileStore/tables\"\n",
    "        \n",
    "        # create an empty list to hold the full path matched zip file names\n",
    "        zip_file_list = []\n",
    "        \n",
    "        # for each base zip file name\n",
    "        for base_zip_file_name in zip_base_file_list:\n",
    "            # get the full path zip file name that matches the match string\n",
    "            zip_full_path_name_list = glob.glob(\"%s/%s%s.zip\" % (zip_path, base_zip_file_name, '*'))\n",
    "            \n",
    "            # if there is no match\n",
    "            if len(zip_full_path_name_list) == 0:\n",
    "                print(\"Error - No matching zip file found for the base name %s\" % (base_zip_file_name))\n",
    "                return\n",
    "            \n",
    "            # if there is more than 1 match\n",
    "            if len(zip_full_path_name_list) > 1:\n",
    "                print(\"Error - Multiple matching zip files found for the base name %s\" % (base_zip_file_name))\n",
    "                return\n",
    "            \n",
    "            # append the matching file to the zip file list\n",
    "            zip_file_list.append(zip_full_path_name_list[0])\n",
    "\n",
    "        # for each zip file / unzipped directory pair\n",
    "        for zip_file, zip_dir in zip(zip_file_list, zip_dir_list):\n",
    "          # create full path unzip dir name\n",
    "          full_path_zip_dir = \"%s/%s\" % (zip_path, zip_dir)\n",
    "          \n",
    "          # if the zip file has not been unzipped yet\n",
    "          if not os.path.isdir(full_path_zip_dir):\n",
    "            # unzip the zip file\n",
    "            proc_status = subprocess.run(['unzip', zip_file, \"-d\", zip_path], capture_output=True)\n",
    "\n",
    "            # if the return code from unzip indicates the command failed\n",
    "            if proc_status.returncode != 0:\n",
    "              print(\"Unzip failed for %s\" % zip_file)\n",
    "              print(proc_status.stderr)\n",
    "              print()"
   ]
  },
  {
   "cell_type": "code",
   "execution_count": 5,
   "metadata": {},
   "outputs": [],
   "source": [
    "# if we are running on databricks\n",
    "if is_databricks():\n",
    "    # unzip the zip files needed for this notebook to run\n",
    "    zip_base_file_list = [\"caltech101_60_40_ubyte\"]\n",
    "    zip_dir_list = [\"caltech101_60_40_ubyte.parquet\"]\n",
    "    unzip_zip_files(zip_base_file_list, zip_dir_list) "
   ]
  },
  {
   "cell_type": "code",
   "execution_count": 6,
   "metadata": {},
   "outputs": [],
   "source": [
    "# Define a function which reads a parquet file and returns a spark data frame.\n",
    "def read_parquet(parquet_file_name):\n",
    "    if is_databricks():\n",
    "        full_path_name = \"/FileStore/tables/%s\" % (parquet_file_name) \n",
    "        return spark.read.parquet(full_path_name)\n",
    "    else:\n",
    "        return spark.read.parquet(parquet_file_name)"
   ]
  },
  {
   "cell_type": "code",
   "execution_count": 7,
   "metadata": {},
   "outputs": [],
   "source": [
    "# %sh\n",
    "# ls /dbfs/FileStore/tables/caltech101_60_40_ubyte.parquet\n",
    "# rm -rf /dbfs/FileStore/tables/caltech101_60_40_ubyte.parquet"
   ]
  },
  {
   "cell_type": "markdown",
   "metadata": {},
   "source": [
    "# Read the data"
   ]
  },
  {
   "cell_type": "code",
   "execution_count": 8,
   "metadata": {
    "scrolled": true
   },
   "outputs": [],
   "source": [
    "caltech101_df = read_parquet('caltech101_60_40_ubyte.parquet')"
   ]
  },
  {
   "cell_type": "markdown",
   "metadata": {},
   "source": [
    "The dataframe contains images from the [Caltech 101 dataset](https://www.vision.caltech.edu/Image_Datasets/Caltech101/). These images have been downsized and transformed to gray scale by the professor. Let's look at the content of the dataset:"
   ]
  },
  {
   "cell_type": "code",
   "execution_count": 9,
   "metadata": {
    "scrolled": true
   },
   "outputs": [
    {
     "name": "stdout",
     "output_type": "stream",
     "text": [
      "root\n",
      " |-- category: string (nullable = true)\n",
      " |-- filename: string (nullable = true)\n",
      " |-- raw_pixels: vector (nullable = true)\n",
      "\n"
     ]
    }
   ],
   "source": [
    "caltech101_df.printSchema()"
   ]
  },
  {
   "cell_type": "markdown",
   "metadata": {},
   "source": [
    "The column `raw_pixels` contains a flattened version of the 60 by 40 images. The dataset has 101 categories plus 1  distracting category:"
   ]
  },
  {
   "cell_type": "code",
   "execution_count": 10,
   "metadata": {},
   "outputs": [
    {
     "name": "stdout",
     "output_type": "stream",
     "text": [
      "+------------------------+\n",
      "|count(DISTINCT category)|\n",
      "+------------------------+\n",
      "|                     102|\n",
      "+------------------------+\n",
      "\n"
     ]
    }
   ],
   "source": [
    "caltech101_df.select(fn.countDistinct('category')).show()"
   ]
  },
  {
   "cell_type": "markdown",
   "metadata": {},
   "source": [
    "The number of examples for each category is not balanced. For example the _airplanes_ and _motorbikes_ categories have nearly 10 times more examples than kangaroo and starfish:"
   ]
  },
  {
   "cell_type": "code",
   "execution_count": 11,
   "metadata": {},
   "outputs": [
    {
     "name": "stdout",
     "output_type": "stream",
     "text": [
      "+-----------------+--------+\n",
      "|         category|n_images|\n",
      "+-----------------+--------+\n",
      "|        airplanes|     800|\n",
      "|       Motorbikes|     798|\n",
      "|BACKGROUND_Google|     468|\n",
      "|            Faces|     435|\n",
      "|       Faces_easy|     435|\n",
      "|            watch|     239|\n",
      "|         Leopards|     200|\n",
      "|           bonsai|     128|\n",
      "|         car_side|     123|\n",
      "|            ketch|     114|\n",
      "|       chandelier|     107|\n",
      "|        hawksbill|     100|\n",
      "|      grand_piano|      99|\n",
      "|            brain|      98|\n",
      "|        butterfly|      91|\n",
      "|       helicopter|      88|\n",
      "|          menorah|      87|\n",
      "|         kangaroo|      86|\n",
      "|        trilobite|      86|\n",
      "|         starfish|      86|\n",
      "+-----------------+--------+\n",
      "only showing top 20 rows\n",
      "\n"
     ]
    }
   ],
   "source": [
    "caltech101_df.groupby('category').agg(fn.count('*').alias('n_images')).orderBy(fn.desc('n_images')).show()"
   ]
  },
  {
   "cell_type": "markdown",
   "metadata": {},
   "source": [
    "We will use the helper function `display_first_as_img` to display some images on the notebook. This function takes the first row of the dataframe and displays the `raw_pixels` as an image."
   ]
  },
  {
   "cell_type": "code",
   "execution_count": 12,
   "metadata": {},
   "outputs": [
    {
     "data": {
      "image/png": "[encoded data removed]",
      "text/plain": [
       "<Figure size 432x288 with 1 Axes>"
      ]
     },
     "metadata": {
      "needs_background": "light"
     },
     "output_type": "display_data"
    }
   ],
   "source": [
    "display_first_as_img(caltech101_df.where(fn.col('category') == \"Motorbikes\").sample(True, 0.1))"
   ]
  },
  {
   "cell_type": "code",
   "execution_count": 13,
   "metadata": {},
   "outputs": [
    {
     "data": {
      "image/png": "[encoded data removed]",
      "text/plain": [
       "<Figure size 432x288 with 1 Axes>"
      ]
     },
     "metadata": {
      "needs_background": "light"
     },
     "output_type": "display_data"
    }
   ],
   "source": [
    "display_first_as_img(caltech101_df.where(fn.col('category') == \"Faces_easy\").sample(True, 0.5))"
   ]
  },
  {
   "cell_type": "code",
   "execution_count": 14,
   "metadata": {},
   "outputs": [
    {
     "data": {
      "image/png": "[encoded data removed]",
      "text/plain": [
       "<Figure size 432x288 with 1 Axes>"
      ]
     },
     "metadata": {
      "needs_background": "light"
     },
     "output_type": "display_data"
    }
   ],
   "source": [
    "display_first_as_img(caltech101_df.where(fn.col('category') == \"airplanes\").sample(True, 1.))"
   ]
  },
  {
   "cell_type": "markdown",
   "metadata": {
    "collapsed": true
   },
   "source": [
    "## Multilayer perceptron in SparkML"
   ]
  },
  {
   "cell_type": "markdown",
   "metadata": {},
   "source": [
    "In this notebook, we will use the multilayer perceptron as a learning model. Our idea is to take the raw pixels of an image and predict the category of such an image. This is therefore a classification problem. A multilayer perceptron for classification is [available in Spark ML](http://spark.apache.org/docs/latest/ml-classification-regression.html#multilayer-perceptron-classifier)."
   ]
  },
  {
   "cell_type": "markdown",
   "metadata": {},
   "source": [
    "We will focus on only three categories: airplanes, faces (easy), and motorbikes. We will split the dataset into training, validation, and testing as usual:"
   ]
  },
  {
   "cell_type": "code",
   "execution_count": 15,
   "metadata": {},
   "outputs": [],
   "source": [
    "training_df, validation_df, testing_df = caltech101_df.\\\n",
    "    where(fn.col('category').isin(['airplanes', 'Faces_easy', 'Motorbikes'])).\\\n",
    "    randomSplit([0.6, 0.2, 0.2], seed=0)"
   ]
  },
  {
   "cell_type": "code",
   "execution_count": 16,
   "metadata": {},
   "outputs": [
    {
     "data": {
      "text/plain": [
       "[1231, 405, 397]"
      ]
     },
     "execution_count": 16,
     "metadata": {},
     "output_type": "execute_result"
    }
   ],
   "source": [
    "[training_df.count(), validation_df.count(), testing_df.count()]"
   ]
  },
  {
   "cell_type": "markdown",
   "metadata": {},
   "source": [
    "It is important to check the distribution of cateogires in the validation and testing dataframes to see if they have a similar distribution as the training dataset:"
   ]
  },
  {
   "cell_type": "code",
   "execution_count": 17,
   "metadata": {},
   "outputs": [
    {
     "name": "stdout",
     "output_type": "stream",
     "text": [
      "+----------+--------+\n",
      "|  category|count(1)|\n",
      "+----------+--------+\n",
      "|Motorbikes|     152|\n",
      "|Faces_easy|      87|\n",
      "| airplanes|     166|\n",
      "+----------+--------+\n",
      "\n",
      "+----------+--------+\n",
      "|  category|count(1)|\n",
      "+----------+--------+\n",
      "|Motorbikes|     151|\n",
      "|Faces_easy|      83|\n",
      "| airplanes|     163|\n",
      "+----------+--------+\n",
      "\n"
     ]
    }
   ],
   "source": [
    "validation_df.groupBy('category').agg(fn.count('*')).show()\n",
    "testing_df.groupBy('category').agg(fn.count('*')).show()"
   ]
  },
  {
   "cell_type": "markdown",
   "metadata": {},
   "source": [
    "They are similar."
   ]
  },
  {
   "cell_type": "markdown",
   "metadata": {},
   "source": [
    "## Transforming string labels into numerical labels"
   ]
  },
  {
   "cell_type": "markdown",
   "metadata": {},
   "source": [
    "To use a multilayer perceptron, we first need to transform the input data to be fitted by Spark ML. One of the things that Spark ML needs is a numerical representation of the category (`label` as they call it). In our case, we only have a string representation of such category. Luckily, the [`StringIndexer`](http://spark.apache.org/docs/latest/ml-features.html#stringindexer) estimator allows us to do that.\n",
    "\n",
    "We first need to fit the estimator to the data so that it learns the distribution of labels:"
   ]
  },
  {
   "cell_type": "code",
   "execution_count": 18,
   "metadata": {},
   "outputs": [],
   "source": [
    "from pyspark.ml import feature"
   ]
  },
  {
   "cell_type": "code",
   "execution_count": 19,
   "metadata": {},
   "outputs": [],
   "source": [
    "category_to_number_model = feature.StringIndexer(inputCol='category', outputCol='label').\\\n",
    "    fit(training_df)"
   ]
  },
  {
   "cell_type": "markdown",
   "metadata": {},
   "source": [
    "Now, we can see how it transforms the category into a `label`:"
   ]
  },
  {
   "cell_type": "code",
   "execution_count": 20,
   "metadata": {},
   "outputs": [
    {
     "name": "stdout",
     "output_type": "stream",
     "text": [
      "+----------+--------------+--------------------+-----+\n",
      "|  category|      filename|          raw_pixels|label|\n",
      "+----------+--------------+--------------------+-----+\n",
      "|Faces_easy|image_0013.jpg|[254.0,221.0,110....|  2.0|\n",
      "|Faces_easy|image_0034.jpg|[82.0,79.0,80.0,7...|  2.0|\n",
      "|Faces_easy|image_0091.jpg|[125.0,125.0,125....|  2.0|\n",
      "|Faces_easy|image_0112.jpg|[155.0,141.0,142....|  2.0|\n",
      "|Faces_easy|image_0121.jpg|[33.0,20.0,31.0,3...|  2.0|\n",
      "|Faces_easy|image_0132.jpg|[53.0,11.0,32.0,8...|  2.0|\n",
      "|Faces_easy|image_0138.jpg|[200.0,201.0,203....|  2.0|\n",
      "|Faces_easy|image_0158.jpg|[113.0,113.0,114....|  2.0|\n",
      "|Faces_easy|image_0198.jpg|[74.0,31.0,44.0,8...|  2.0|\n",
      "|Faces_easy|image_0199.jpg|[154.0,182.0,194....|  2.0|\n",
      "|Faces_easy|image_0211.jpg|[117.0,117.0,121....|  2.0|\n",
      "|Faces_easy|image_0213.jpg|[77.0,121.0,117.0...|  2.0|\n",
      "|Faces_easy|image_0226.jpg|[150.0,161.0,156....|  2.0|\n",
      "|Faces_easy|image_0250.jpg|[167.0,167.0,168....|  2.0|\n",
      "|Faces_easy|image_0279.jpg|[111.0,111.0,115....|  2.0|\n",
      "|Faces_easy|image_0306.jpg|[167.0,147.0,170....|  2.0|\n",
      "|Faces_easy|image_0407.jpg|[198.0,195.0,123....|  2.0|\n",
      "|Motorbikes|image_0009.jpg|[255.0,255.0,255....|  0.0|\n",
      "|Motorbikes|image_0012.jpg|[255.0,255.0,255....|  0.0|\n",
      "|Motorbikes|image_0014.jpg|[255.0,255.0,255....|  0.0|\n",
      "+----------+--------------+--------------------+-----+\n",
      "only showing top 20 rows\n",
      "\n"
     ]
    }
   ],
   "source": [
    "category_to_number_model.transform(training_df).show()"
   ]
  },
  {
   "cell_type": "markdown",
   "metadata": {},
   "source": [
    "There are the categories found the estimator:"
   ]
  },
  {
   "cell_type": "code",
   "execution_count": 21,
   "metadata": {},
   "outputs": [
    {
     "data": {
      "text/plain": [
       "[(0, 'Motorbikes'), (1, 'airplanes'), (2, 'Faces_easy')]"
      ]
     },
     "execution_count": 21,
     "metadata": {},
     "output_type": "execute_result"
    }
   ],
   "source": [
    "list(enumerate(category_to_number_model.labels))"
   ]
  },
  {
   "cell_type": "markdown",
   "metadata": {},
   "source": [
    "## Multi-layer perceptron"
   ]
  },
  {
   "cell_type": "markdown",
   "metadata": {},
   "source": [
    "The multi-layer perceptron will take the inputs as a flattened list of pixels and it will have three output neurons, each representing a label:"
   ]
  },
  {
   "cell_type": "code",
   "execution_count": 22,
   "metadata": {},
   "outputs": [],
   "source": [
    "from pyspark.ml import classification"
   ]
  },
  {
   "cell_type": "code",
   "execution_count": 23,
   "metadata": {},
   "outputs": [],
   "source": [
    "mlp = classification.MultilayerPerceptronClassifier(seed=0).\\\n",
    "    setStepSize(0.2).\\\n",
    "    setMaxIter(200).\\\n",
    "    setFeaturesCol('raw_pixels')"
   ]
  },
  {
   "cell_type": "markdown",
   "metadata": {},
   "source": [
    "The parameter `stepSize` is the learning rate for stochastic gradient descent and we set the maximum number of stochastic gradient descent epochs to 200."
   ]
  },
  {
   "cell_type": "markdown",
   "metadata": {},
   "source": [
    "Now, to define the layers, the multilayer perceptron needs to receive the number of neurons of each intermediate layer (hidden layers).\n",
    "\n",
    "As we saw in class, however, if we don't have hidden layers, then the model is simply logistic regression. In this case, it will be logistic regression for multiple outputs."
   ]
  },
  {
   "cell_type": "markdown",
   "metadata": {},
   "source": [
    "For this case, the number of input neurons will be equal to the number of pixels (60*40) and the output will be equal to the categories in the dataset:"
   ]
  },
  {
   "cell_type": "code",
   "execution_count": 24,
   "metadata": {},
   "outputs": [],
   "source": [
    "mlp = mlp.setLayers([60*40, 3])"
   ]
  },
  {
   "cell_type": "markdown",
   "metadata": {},
   "source": [
    "Now, we are ready to fit this simple multi-class logistic regression to the data. We need to create a pipeline that will take the training data, transform the category column, and apply the perceptron."
   ]
  },
  {
   "cell_type": "code",
   "execution_count": 25,
   "metadata": {},
   "outputs": [],
   "source": [
    "from pyspark.ml import Pipeline"
   ]
  },
  {
   "cell_type": "code",
   "execution_count": 26,
   "metadata": {},
   "outputs": [],
   "source": [
    "mlp_simple_model = Pipeline(stages=[category_to_number_model, mlp]).fit(training_df)"
   ]
  },
  {
   "cell_type": "markdown",
   "metadata": {},
   "source": [
    "Now we can apply the model to the validation data to do some simple tests:"
   ]
  },
  {
   "cell_type": "code",
   "execution_count": 27,
   "metadata": {},
   "outputs": [
    {
     "name": "stdout",
     "output_type": "stream",
     "text": [
      "+----------+--------------+--------------------+-----+--------------------+--------------------+----------+\n",
      "|  category|      filename|          raw_pixels|label|       rawPrediction|         probability|prediction|\n",
      "+----------+--------------+--------------------+-----+--------------------+--------------------+----------+\n",
      "|Faces_easy|image_0068.jpg|[158.0,139.0,90.0...|  2.0|[-267.14463869778...|[1.22171606014870...|       2.0|\n",
      "|Faces_easy|image_0099.jpg|[169.0,172.0,172....|  2.0|[79.4862586535628...|[1.0,1.2098074256...|       0.0|\n",
      "|Faces_easy|image_0246.jpg|[83.0,85.0,89.0,8...|  2.0|[-148.31663213448...|[3.34716951535113...|       2.0|\n",
      "|Faces_easy|image_0426.jpg|[155.0,141.0,151....|  2.0|[-229.73840332275...|[8.67088070085318...|       2.0|\n",
      "|Motorbikes|image_0018.jpg|[255.0,255.0,255....|  0.0|[142.100086340399...|[0.99999999999999...|       0.0|\n",
      "|Motorbikes|image_0036.jpg|[255.0,255.0,255....|  0.0|[186.130385324797...|[1.0,1.4695150567...|       0.0|\n",
      "|Motorbikes|image_0041.jpg|[255.0,255.0,255....|  0.0|[163.246963734832...|[1.0,1.4472064883...|       0.0|\n",
      "|Motorbikes|image_0042.jpg|[255.0,253.0,228....|  0.0|[174.399348568706...|[1.0,5.9486642145...|       0.0|\n",
      "|Motorbikes|image_0044.jpg|[255.0,246.0,243....|  0.0|[96.8114868427504...|[5.05752744984478...|       1.0|\n",
      "|Motorbikes|image_0049.jpg|[255.0,255.0,255....|  0.0|[151.204268771771...|[1.0,5.6309107960...|       0.0|\n",
      "+----------+--------------+--------------------+-----+--------------------+--------------------+----------+\n",
      "only showing top 10 rows\n",
      "\n"
     ]
    }
   ],
   "source": [
    "mlp_simple_model.transform(validation_df).show(10)"
   ]
  },
  {
   "cell_type": "markdown",
   "metadata": {},
   "source": [
    "As we can see, the label and prediction mostly coincides."
   ]
  },
  {
   "cell_type": "markdown",
   "metadata": {},
   "source": [
    "We can be more systematic by computing the accuracy of the prediction:"
   ]
  },
  {
   "cell_type": "code",
   "execution_count": 28,
   "metadata": {},
   "outputs": [
    {
     "name": "stdout",
     "output_type": "stream",
     "text": [
      "+------------------+\n",
      "|          accuracy|\n",
      "+------------------+\n",
      "|0.7728395061728395|\n",
      "+------------------+\n",
      "\n"
     ]
    }
   ],
   "source": [
    "mlp_simple_model.transform(validation_df).select(fn.expr('avg(float(label=prediction))').alias('accuracy')).show()"
   ]
  },
  {
   "cell_type": "markdown",
   "metadata": {},
   "source": [
    "Alternatively, we can take advantage of the [evaluators shipped with Spark ML](https://spark.apache.org/docs/latest/mllib-evaluation-metrics.html) as follows:"
   ]
  },
  {
   "cell_type": "code",
   "execution_count": 29,
   "metadata": {},
   "outputs": [],
   "source": [
    "from pyspark.ml import evaluation\n",
    "evaluator = evaluation.MulticlassClassificationEvaluator(metricName=\"accuracy\")"
   ]
  },
  {
   "cell_type": "code",
   "execution_count": 30,
   "metadata": {},
   "outputs": [
    {
     "data": {
      "text/plain": [
       "0.7728395061728395"
      ]
     },
     "execution_count": 30,
     "metadata": {},
     "output_type": "execute_result"
    }
   ],
   "source": [
    "evaluator.evaluate(mlp_simple_model.transform(validation_df))"
   ]
  },
  {
   "cell_type": "markdown",
   "metadata": {},
   "source": [
    "Which gives us the same number as before."
   ]
  },
  {
   "cell_type": "markdown",
   "metadata": {},
   "source": [
    "## More layers (warning: this will take a long time)"
   ]
  },
  {
   "cell_type": "markdown",
   "metadata": {},
   "source": [
    "Now, let's see if we add one hidden layer, which adds non-linearity and interactions to the input. The definition will be similar, but we need to define how many hidden layers and how many neurons per hiden layer. This is a field of its own and we can use cross validation to see which direction is better. However, for now, we will only add one hidden layer, and play with the number of neurons."
   ]
  },
  {
   "cell_type": "markdown",
   "metadata": {},
   "source": [
    "Let's define a Multilayer Perceptron (MLP) with 1 hidden layer with 100 neurons:"
   ]
  },
  {
   "cell_type": "code",
   "execution_count": 31,
   "metadata": {},
   "outputs": [],
   "source": [
    "mlp2 = classification.MultilayerPerceptronClassifier(seed=0).\\\n",
    "    setStepSize(0.2).\\\n",
    "    setMaxIter(200).\\\n",
    "    setFeaturesCol('raw_pixels').\\\n",
    "    setLayers([60*40, 100, 3])"
   ]
  },
  {
   "cell_type": "markdown",
   "metadata": {},
   "source": [
    "Now, __fitting this model will take significantly more time because we are adding 2 orders of magnitude more parameters than the previous model__:"
   ]
  },
  {
   "cell_type": "code",
   "execution_count": 32,
   "metadata": {},
   "outputs": [],
   "source": [
    "mlp2_model = Pipeline(stages=[category_to_number_model, mlp2]).fit(training_df)"
   ]
  },
  {
   "cell_type": "markdown",
   "metadata": {},
   "source": [
    "But the model is significantly more powerful and fits the data better:"
   ]
  },
  {
   "cell_type": "code",
   "execution_count": 33,
   "metadata": {},
   "outputs": [
    {
     "data": {
      "text/plain": [
       "0.945679012345679"
      ]
     },
     "execution_count": 33,
     "metadata": {},
     "output_type": "execute_result"
    }
   ],
   "source": [
    "evaluator.evaluate(mlp2_model.transform(validation_df))"
   ]
  },
  {
   "cell_type": "markdown",
   "metadata": {},
   "source": [
    "# Complexity of the model with more data (warning: this will take a long time)"
   ]
  },
  {
   "cell_type": "markdown",
   "metadata": {},
   "source": [
    "We will evaluate how the multilayer percetron learns"
   ]
  },
  {
   "cell_type": "markdown",
   "metadata": {},
   "source": [
    "Let's evaluate how the performance changes with 1) the amount of training data and 2) the number of neurons in the hidden layer"
   ]
  },
  {
   "cell_type": "code",
   "execution_count": 34,
   "metadata": {
    "scrolled": true
   },
   "outputs": [
    {
     "name": "stdout",
     "output_type": "stream",
     "text": [
      "Training size:  0.1 ; # Neurons:  1\n",
      "Training size:  0.1 ; # Neurons:  3\n",
      "Training size:  0.1 ; # Neurons:  10\n",
      "Training size:  0.1 ; # Neurons:  20\n",
      "Training size:  0.5 ; # Neurons:  1\n",
      "Training size:  0.5 ; # Neurons:  3\n",
      "Training size:  0.5 ; # Neurons:  10\n",
      "Training size:  0.5 ; # Neurons:  20\n",
      "Training size:  1.0 ; # Neurons:  1\n",
      "Training size:  1.0 ; # Neurons:  3\n",
      "Training size:  1.0 ; # Neurons:  10\n",
      "Training size:  1.0 ; # Neurons:  20\n"
     ]
    }
   ],
   "source": [
    "evaluation_info = []\n",
    "\n",
    "for training_size in [0.1, 0.5, 1.]:\n",
    "    for n_neurons in [1, 3, 10, 20]:\n",
    "        print(\"Training size: \", training_size, \"; # Neurons: \", n_neurons)\n",
    "        training_sample_df = training_df.sample(False, training_size, seed=0)\n",
    "        mlp_template = classification.MultilayerPerceptronClassifier(seed=0).\\\n",
    "            setStepSize(0.2).\\\n",
    "            setMaxIter(200).\\\n",
    "            setFeaturesCol('raw_pixels').\\\n",
    "            setLayers([60*40, n_neurons, 3])\n",
    "        mlp_template_model = Pipeline(stages=[category_to_number_model, mlp_template]).fit(training_sample_df)\n",
    "        # append training performance\n",
    "        evaluation_info.append({'dataset': 'training', \n",
    "                                'training_size': training_size,\n",
    "                                'n_neurons': n_neurons,\n",
    "                                'accuracy': evaluator.evaluate(mlp_template_model.transform(training_sample_df))})\n",
    "        evaluation_info.append({'dataset': 'validation', \n",
    "                                'training_size': training_size,\n",
    "                                'n_neurons': n_neurons,\n",
    "                                'accuracy': evaluator.evaluate(mlp_template_model.transform(validation_df))})"
   ]
  },
  {
   "cell_type": "markdown",
   "metadata": {},
   "source": [
    "You will try to understand some trends based on these numbers and plots:"
   ]
  },
  {
   "cell_type": "code",
   "execution_count": 35,
   "metadata": {},
   "outputs": [],
   "source": [
    "import pandas as pd"
   ]
  },
  {
   "cell_type": "code",
   "execution_count": 36,
   "metadata": {},
   "outputs": [
    {
     "data": {
      "text/html": [
       "<div>\n",
       "<style scoped>\n",
       "    .dataframe tbody tr th:only-of-type {\n",
       "        vertical-align: middle;\n",
       "    }\n",
       "\n",
       "    .dataframe tbody tr th {\n",
       "        vertical-align: top;\n",
       "    }\n",
       "\n",
       "    .dataframe thead th {\n",
       "        text-align: right;\n",
       "    }\n",
       "</style>\n",
       "<table border=\"1\" class=\"dataframe\">\n",
       "  <thead>\n",
       "    <tr style=\"text-align: right;\">\n",
       "      <th></th>\n",
       "      <th>dataset</th>\n",
       "      <th>training_size</th>\n",
       "      <th>n_neurons</th>\n",
       "      <th>accuracy</th>\n",
       "    </tr>\n",
       "  </thead>\n",
       "  <tbody>\n",
       "    <tr>\n",
       "      <td>0</td>\n",
       "      <td>training</td>\n",
       "      <td>0.1</td>\n",
       "      <td>1</td>\n",
       "      <td>0.206107</td>\n",
       "    </tr>\n",
       "    <tr>\n",
       "      <td>1</td>\n",
       "      <td>validation</td>\n",
       "      <td>0.1</td>\n",
       "      <td>1</td>\n",
       "      <td>0.214815</td>\n",
       "    </tr>\n",
       "    <tr>\n",
       "      <td>2</td>\n",
       "      <td>training</td>\n",
       "      <td>0.1</td>\n",
       "      <td>3</td>\n",
       "      <td>0.893130</td>\n",
       "    </tr>\n",
       "    <tr>\n",
       "      <td>3</td>\n",
       "      <td>validation</td>\n",
       "      <td>0.1</td>\n",
       "      <td>3</td>\n",
       "      <td>0.800000</td>\n",
       "    </tr>\n",
       "    <tr>\n",
       "      <td>4</td>\n",
       "      <td>training</td>\n",
       "      <td>0.1</td>\n",
       "      <td>10</td>\n",
       "      <td>0.213740</td>\n",
       "    </tr>\n",
       "    <tr>\n",
       "      <td>5</td>\n",
       "      <td>validation</td>\n",
       "      <td>0.1</td>\n",
       "      <td>10</td>\n",
       "      <td>0.219753</td>\n",
       "    </tr>\n",
       "    <tr>\n",
       "      <td>6</td>\n",
       "      <td>training</td>\n",
       "      <td>0.1</td>\n",
       "      <td>20</td>\n",
       "      <td>0.534351</td>\n",
       "    </tr>\n",
       "    <tr>\n",
       "      <td>7</td>\n",
       "      <td>validation</td>\n",
       "      <td>0.1</td>\n",
       "      <td>20</td>\n",
       "      <td>0.459259</td>\n",
       "    </tr>\n",
       "    <tr>\n",
       "      <td>8</td>\n",
       "      <td>training</td>\n",
       "      <td>0.5</td>\n",
       "      <td>1</td>\n",
       "      <td>0.580386</td>\n",
       "    </tr>\n",
       "    <tr>\n",
       "      <td>9</td>\n",
       "      <td>validation</td>\n",
       "      <td>0.5</td>\n",
       "      <td>1</td>\n",
       "      <td>0.548148</td>\n",
       "    </tr>\n",
       "    <tr>\n",
       "      <td>10</td>\n",
       "      <td>training</td>\n",
       "      <td>0.5</td>\n",
       "      <td>3</td>\n",
       "      <td>0.881029</td>\n",
       "    </tr>\n",
       "    <tr>\n",
       "      <td>11</td>\n",
       "      <td>validation</td>\n",
       "      <td>0.5</td>\n",
       "      <td>3</td>\n",
       "      <td>0.807407</td>\n",
       "    </tr>\n",
       "    <tr>\n",
       "      <td>12</td>\n",
       "      <td>training</td>\n",
       "      <td>0.5</td>\n",
       "      <td>10</td>\n",
       "      <td>0.607717</td>\n",
       "    </tr>\n",
       "    <tr>\n",
       "      <td>13</td>\n",
       "      <td>validation</td>\n",
       "      <td>0.5</td>\n",
       "      <td>10</td>\n",
       "      <td>0.575309</td>\n",
       "    </tr>\n",
       "    <tr>\n",
       "      <td>14</td>\n",
       "      <td>training</td>\n",
       "      <td>0.5</td>\n",
       "      <td>20</td>\n",
       "      <td>0.713826</td>\n",
       "    </tr>\n",
       "    <tr>\n",
       "      <td>15</td>\n",
       "      <td>validation</td>\n",
       "      <td>0.5</td>\n",
       "      <td>20</td>\n",
       "      <td>0.693827</td>\n",
       "    </tr>\n",
       "    <tr>\n",
       "      <td>16</td>\n",
       "      <td>training</td>\n",
       "      <td>1.0</td>\n",
       "      <td>1</td>\n",
       "      <td>0.588140</td>\n",
       "    </tr>\n",
       "    <tr>\n",
       "      <td>17</td>\n",
       "      <td>validation</td>\n",
       "      <td>1.0</td>\n",
       "      <td>1</td>\n",
       "      <td>0.560494</td>\n",
       "    </tr>\n",
       "    <tr>\n",
       "      <td>18</td>\n",
       "      <td>training</td>\n",
       "      <td>1.0</td>\n",
       "      <td>3</td>\n",
       "      <td>0.855402</td>\n",
       "    </tr>\n",
       "    <tr>\n",
       "      <td>19</td>\n",
       "      <td>validation</td>\n",
       "      <td>1.0</td>\n",
       "      <td>3</td>\n",
       "      <td>0.839506</td>\n",
       "    </tr>\n",
       "    <tr>\n",
       "      <td>20</td>\n",
       "      <td>training</td>\n",
       "      <td>1.0</td>\n",
       "      <td>10</td>\n",
       "      <td>0.584078</td>\n",
       "    </tr>\n",
       "    <tr>\n",
       "      <td>21</td>\n",
       "      <td>validation</td>\n",
       "      <td>1.0</td>\n",
       "      <td>10</td>\n",
       "      <td>0.548148</td>\n",
       "    </tr>\n",
       "    <tr>\n",
       "      <td>22</td>\n",
       "      <td>training</td>\n",
       "      <td>1.0</td>\n",
       "      <td>20</td>\n",
       "      <td>0.598700</td>\n",
       "    </tr>\n",
       "    <tr>\n",
       "      <td>23</td>\n",
       "      <td>validation</td>\n",
       "      <td>1.0</td>\n",
       "      <td>20</td>\n",
       "      <td>0.570370</td>\n",
       "    </tr>\n",
       "  </tbody>\n",
       "</table>\n",
       "</div>"
      ],
      "text/plain": [
       "       dataset  training_size  n_neurons  accuracy\n",
       "0     training            0.1          1  0.206107\n",
       "1   validation            0.1          1  0.214815\n",
       "2     training            0.1          3  0.893130\n",
       "3   validation            0.1          3  0.800000\n",
       "4     training            0.1         10  0.213740\n",
       "5   validation            0.1         10  0.219753\n",
       "6     training            0.1         20  0.534351\n",
       "7   validation            0.1         20  0.459259\n",
       "8     training            0.5          1  0.580386\n",
       "9   validation            0.5          1  0.548148\n",
       "10    training            0.5          3  0.881029\n",
       "11  validation            0.5          3  0.807407\n",
       "12    training            0.5         10  0.607717\n",
       "13  validation            0.5         10  0.575309\n",
       "14    training            0.5         20  0.713826\n",
       "15  validation            0.5         20  0.693827\n",
       "16    training            1.0          1  0.588140\n",
       "17  validation            1.0          1  0.560494\n",
       "18    training            1.0          3  0.855402\n",
       "19  validation            1.0          3  0.839506\n",
       "20    training            1.0         10  0.584078\n",
       "21  validation            1.0         10  0.548148\n",
       "22    training            1.0         20  0.598700\n",
       "23  validation            1.0         20  0.570370"
      ]
     },
     "execution_count": 36,
     "metadata": {},
     "output_type": "execute_result"
    }
   ],
   "source": [
    "evaluation_df = pd.DataFrame(evaluation_info)\n",
    "evaluation_df"
   ]
  },
  {
   "cell_type": "code",
   "execution_count": 37,
   "metadata": {},
   "outputs": [
    {
     "data": {
      "image/png": "[encoded data removed]",
      "text/plain": [
       "<Figure size 432x288 with 1 Axes>"
      ]
     },
     "metadata": {
      "needs_background": "light"
     },
     "output_type": "display_data"
    },
    {
     "data": {
      "image/png": "[encoded data removed]",
      "text/plain": [
       "<Figure size 432x288 with 1 Axes>"
      ]
     },
     "metadata": {
      "needs_background": "light"
     },
     "output_type": "display_data"
    },
    {
     "data": {
      "image/png": "[encoded data removed]",
      "text/plain": [
       "<Figure size 432x288 with 1 Axes>"
      ]
     },
     "metadata": {
      "needs_background": "light"
     },
     "output_type": "display_data"
    }
   ],
   "source": [
    "for training_size in sorted(evaluation_df.training_size.unique()):\n",
    "    fig, ax = plt.subplots(1, 1);\n",
    "    evaluation_df.query('training_size == ' + str(training_size)).groupby(['dataset']).\\\n",
    "        plot(x='n_neurons', y='accuracy', ax=ax);\n",
    "    plt.legend(['training', 'validation'], loc='upper left');\n",
    "    plt.title('Training size: ' + str(int(training_size*100)) + '%');\n",
    "    plt.ylabel('accuracy');\n",
    "    plt.ylim([0, 1]);\n",
    "    display()"
   ]
  },
  {
   "cell_type": "markdown",
   "metadata": {},
   "source": [
    "Another way to look at it is by varying the training size"
   ]
  },
  {
   "cell_type": "code",
   "execution_count": 38,
   "metadata": {},
   "outputs": [
    {
     "data": {
      "image/png": "[encoded data removed]",
      "text/plain": [
       "<Figure size 432x288 with 1 Axes>"
      ]
     },
     "metadata": {
      "needs_background": "light"
     },
     "output_type": "display_data"
    },
    {
     "data": {
      "image/png": "[encoded data removed]",
      "text/plain": [
       "<Figure size 432x288 with 1 Axes>"
      ]
     },
     "metadata": {
      "needs_background": "light"
     },
     "output_type": "display_data"
    },
    {
     "data": {
      "image/png": "[encoded data removed]",
      "text/plain": [
       "<Figure size 432x288 with 1 Axes>"
      ]
     },
     "metadata": {
      "needs_background": "light"
     },
     "output_type": "display_data"
    },
    {
     "data": {
      "image/png": "[encoded data removed]",
      "text/plain": [
       "<Figure size 432x288 with 1 Axes>"
      ]
     },
     "metadata": {
      "needs_background": "light"
     },
     "output_type": "display_data"
    }
   ],
   "source": [
    "for n_neurons in sorted(evaluation_df.n_neurons.unique()):\n",
    "    fig, ax = plt.subplots(1, 1);\n",
    "    evaluation_df.query('n_neurons == ' + str(n_neurons)).groupby(['dataset']).\\\n",
    "        plot(x='training_size', y='accuracy', ax=ax);\n",
    "    plt.legend(['training', 'validation'], loc='upper left');\n",
    "    plt.title('# Neurons: ' + str(n_neurons));\n",
    "    plt.ylabel('accuracy');\n",
    "    plt.ylim([0, 1]);\n",
    "    display()"
   ]
  },
  {
   "cell_type": "markdown",
   "metadata": {},
   "source": [
    "# Predicting"
   ]
  },
  {
   "cell_type": "markdown",
   "metadata": {},
   "source": [
    "We will load an image from the Internet.  Note that the following cell uses the python \"Pillow\" package.  You can install Pillow in Anaconda with the following command:  conda install pillow <br><br>\n",
    "If you are runnin on databricks, execute the cell below to install Pillow on your databricks instance."
   ]
  },
  {
   "cell_type": "code",
   "execution_count": 40,
   "metadata": {},
   "outputs": [],
   "source": [
    "# only execute this cell on databricks\n",
    "if is_databricks():\n",
    "    dbutils.library.installPyPI\n",
    "    dbutils.library.installPyPI('pillow')\n",
    "    dbutils.library.list()"
   ]
  },
  {
   "cell_type": "code",
   "execution_count": 41,
   "metadata": {},
   "outputs": [],
   "source": [
    "from PIL import Image\n",
    "import requests\n",
    "from io import BytesIO\n",
    "# response = requests.get(\"http://images.all-free-download.com/images/graphicthumb/airplane_311727.jpg\")\n",
    "# response = requests.get(\"https://www.tugraz.at/uploads/pics/Alexander_by_Kanizaj_02.jpg\")\n",
    "\n",
    "# face\n",
    "response = requests.get(\"https://www.sciencenewsforstudents.org/sites/default/files/scald-image/350_.inline2_beauty_w.png\")\n",
    "# motorbujke\n",
    "response = requests.get(\"https://www.cubomoto.co.uk/img-src/_themev2-cubomoto-1613/theme/panel-1.png\")\n",
    "img = Image.open(BytesIO(response.content))"
   ]
  },
  {
   "cell_type": "markdown",
   "metadata": {},
   "source": [
    "We need to transform this image to grayscale and shrink it to the size that the neural network expects. We will use these steps using several packages:"
   ]
  },
  {
   "cell_type": "markdown",
   "metadata": {},
   "source": [
    "Transform to grayscale:"
   ]
  },
  {
   "cell_type": "code",
   "execution_count": 42,
   "metadata": {},
   "outputs": [
    {
     "data": {
      "image/png": "[encoded data removed]",
      "text/plain": [
       "<Figure size 432x288 with 1 Axes>"
      ]
     },
     "metadata": {
      "needs_background": "light"
     },
     "output_type": "display_data"
    }
   ],
   "source": [
    "# convert to grayscale\n",
    "gray_img = np.array(img.convert('P'))\n",
    "plt.imshow(255-gray_img, 'gray');"
   ]
  },
  {
   "cell_type": "markdown",
   "metadata": {},
   "source": [
    "Shrink it to 60 by 40:"
   ]
  },
  {
   "cell_type": "code",
   "execution_count": 43,
   "metadata": {},
   "outputs": [
    {
     "data": {
      "image/png": "[encoded data removed]",
      "text/plain": [
       "<Figure size 432x288 with 1 Axes>"
      ]
     },
     "metadata": {
      "needs_background": "light"
     },
     "output_type": "display_data"
    }
   ],
   "source": [
    "shrinked_img = np.array((img.resize([40, 60]).convert('P')))\n",
    "plt.imshow(shrinked_img, 'gray')\n",
    "display()"
   ]
  },
  {
   "cell_type": "markdown",
   "metadata": {},
   "source": [
    "Flatten it and put it in a Spark dataframe:"
   ]
  },
  {
   "cell_type": "code",
   "execution_count": 44,
   "metadata": {},
   "outputs": [],
   "source": [
    "from pyspark.ml.linalg import Vectors\n",
    "new_image = shrinked_img.flatten()\n",
    "new_img_df = spark.createDataFrame([[Vectors.dense(new_image)]], ['raw_pixels'])"
   ]
  },
  {
   "cell_type": "code",
   "execution_count": 45,
   "metadata": {},
   "outputs": [
    {
     "data": {
      "image/png": "[encoded data removed]",
      "text/plain": [
       "<Figure size 432x288 with 1 Axes>"
      ]
     },
     "metadata": {
      "needs_background": "light"
     },
     "output_type": "display_data"
    }
   ],
   "source": [
    "display_first_as_img(new_img_df)"
   ]
  },
  {
   "cell_type": "markdown",
   "metadata": {},
   "source": [
    "Now `new_img_df` has one image"
   ]
  },
  {
   "cell_type": "code",
   "execution_count": 46,
   "metadata": {
    "scrolled": true
   },
   "outputs": [
    {
     "data": {
      "text/html": [
       "<div>\n",
       "<style scoped>\n",
       "    .dataframe tbody tr th:only-of-type {\n",
       "        vertical-align: middle;\n",
       "    }\n",
       "\n",
       "    .dataframe tbody tr th {\n",
       "        vertical-align: top;\n",
       "    }\n",
       "\n",
       "    .dataframe thead th {\n",
       "        text-align: right;\n",
       "    }\n",
       "</style>\n",
       "<table border=\"1\" class=\"dataframe\">\n",
       "  <thead>\n",
       "    <tr style=\"text-align: right;\">\n",
       "      <th></th>\n",
       "      <th>raw_pixels</th>\n",
       "    </tr>\n",
       "  </thead>\n",
       "  <tbody>\n",
       "    <tr>\n",
       "      <td>0</td>\n",
       "      <td>[0.0, 0.0, 0.0, 0.0, 0.0, 0.0, 0.0, 0.0, 0.0, ...</td>\n",
       "    </tr>\n",
       "  </tbody>\n",
       "</table>\n",
       "</div>"
      ],
      "text/plain": [
       "                                          raw_pixels\n",
       "0  [0.0, 0.0, 0.0, 0.0, 0.0, 0.0, 0.0, 0.0, 0.0, ..."
      ]
     },
     "execution_count": 46,
     "metadata": {},
     "output_type": "execute_result"
    }
   ],
   "source": [
    "new_img_df.toPandas().head()"
   ]
  },
  {
   "cell_type": "markdown",
   "metadata": {},
   "source": [
    "Use the `mlp2_model` and `new_img_df` to predict the category that the new image belongs to."
   ]
  },
  {
   "cell_type": "code",
   "execution_count": 47,
   "metadata": {
    "scrolled": false
   },
   "outputs": [
    {
     "name": "stdout",
     "output_type": "stream",
     "text": [
      "+--------------------+--------------------+--------------------+----------+\n",
      "|          raw_pixels|       rawPrediction|         probability|prediction|\n",
      "+--------------------+--------------------+--------------------+----------+\n",
      "|[0.0,0.0,0.0,0.0,...|[-308.65365268629...|[6.86004075999194...|       2.0|\n",
      "+--------------------+--------------------+--------------------+----------+\n",
      "\n"
     ]
    }
   ],
   "source": [
    "mlp_simple_model.transform(new_img_df).show()"
   ]
  },
  {
   "cell_type": "markdown",
   "metadata": {},
   "source": [
    "# One Hot Encoding"
   ]
  },
  {
   "cell_type": "markdown",
   "metadata": {},
   "source": [
    "The section below shows how to one hot encode a target column that starts with string data representing 3 different outcomes a, b, and c.  A string indexer is first used to assign a real number between 0 and 2 to the string data.  Next, a one hot encoder is used to one hot encode the real numbers 0, 1, and 2 to a one hot binary encoding string.  The 0 is encoded as binary 10, a 1 is encoded as binary 01, and a 2 is encoded as binary 00."
   ]
  },
  {
   "cell_type": "code",
   "execution_count": 48,
   "metadata": {},
   "outputs": [
    {
     "data": {
      "text/plain": [
       "'df:'"
      ]
     },
     "metadata": {},
     "output_type": "display_data"
    },
    {
     "data": {
      "text/html": [
       "<div>\n",
       "<style scoped>\n",
       "    .dataframe tbody tr th:only-of-type {\n",
       "        vertical-align: middle;\n",
       "    }\n",
       "\n",
       "    .dataframe tbody tr th {\n",
       "        vertical-align: top;\n",
       "    }\n",
       "\n",
       "    .dataframe thead th {\n",
       "        text-align: right;\n",
       "    }\n",
       "</style>\n",
       "<table border=\"1\" class=\"dataframe\">\n",
       "  <thead>\n",
       "    <tr style=\"text-align: right;\">\n",
       "      <th></th>\n",
       "      <th>id</th>\n",
       "      <th>category</th>\n",
       "    </tr>\n",
       "  </thead>\n",
       "  <tbody>\n",
       "    <tr>\n",
       "      <td>0</td>\n",
       "      <td>0</td>\n",
       "      <td>a</td>\n",
       "    </tr>\n",
       "    <tr>\n",
       "      <td>1</td>\n",
       "      <td>1</td>\n",
       "      <td>b</td>\n",
       "    </tr>\n",
       "    <tr>\n",
       "      <td>2</td>\n",
       "      <td>2</td>\n",
       "      <td>c</td>\n",
       "    </tr>\n",
       "    <tr>\n",
       "      <td>3</td>\n",
       "      <td>3</td>\n",
       "      <td>a</td>\n",
       "    </tr>\n",
       "    <tr>\n",
       "      <td>4</td>\n",
       "      <td>4</td>\n",
       "      <td>a</td>\n",
       "    </tr>\n",
       "    <tr>\n",
       "      <td>5</td>\n",
       "      <td>5</td>\n",
       "      <td>c</td>\n",
       "    </tr>\n",
       "  </tbody>\n",
       "</table>\n",
       "</div>"
      ],
      "text/plain": [
       "   id category\n",
       "0   0        a\n",
       "1   1        b\n",
       "2   2        c\n",
       "3   3        a\n",
       "4   4        a\n",
       "5   5        c"
      ]
     },
     "metadata": {},
     "output_type": "display_data"
    },
    {
     "data": {
      "text/plain": [
       "'indexed:'"
      ]
     },
     "metadata": {},
     "output_type": "display_data"
    },
    {
     "data": {
      "text/html": [
       "<div>\n",
       "<style scoped>\n",
       "    .dataframe tbody tr th:only-of-type {\n",
       "        vertical-align: middle;\n",
       "    }\n",
       "\n",
       "    .dataframe tbody tr th {\n",
       "        vertical-align: top;\n",
       "    }\n",
       "\n",
       "    .dataframe thead th {\n",
       "        text-align: right;\n",
       "    }\n",
       "</style>\n",
       "<table border=\"1\" class=\"dataframe\">\n",
       "  <thead>\n",
       "    <tr style=\"text-align: right;\">\n",
       "      <th></th>\n",
       "      <th>id</th>\n",
       "      <th>category</th>\n",
       "      <th>categoryIndex</th>\n",
       "    </tr>\n",
       "  </thead>\n",
       "  <tbody>\n",
       "    <tr>\n",
       "      <td>0</td>\n",
       "      <td>0</td>\n",
       "      <td>a</td>\n",
       "      <td>0.0</td>\n",
       "    </tr>\n",
       "    <tr>\n",
       "      <td>1</td>\n",
       "      <td>1</td>\n",
       "      <td>b</td>\n",
       "      <td>2.0</td>\n",
       "    </tr>\n",
       "    <tr>\n",
       "      <td>2</td>\n",
       "      <td>2</td>\n",
       "      <td>c</td>\n",
       "      <td>1.0</td>\n",
       "    </tr>\n",
       "    <tr>\n",
       "      <td>3</td>\n",
       "      <td>3</td>\n",
       "      <td>a</td>\n",
       "      <td>0.0</td>\n",
       "    </tr>\n",
       "    <tr>\n",
       "      <td>4</td>\n",
       "      <td>4</td>\n",
       "      <td>a</td>\n",
       "      <td>0.0</td>\n",
       "    </tr>\n",
       "    <tr>\n",
       "      <td>5</td>\n",
       "      <td>5</td>\n",
       "      <td>c</td>\n",
       "      <td>1.0</td>\n",
       "    </tr>\n",
       "  </tbody>\n",
       "</table>\n",
       "</div>"
      ],
      "text/plain": [
       "   id category  categoryIndex\n",
       "0   0        a            0.0\n",
       "1   1        b            2.0\n",
       "2   2        c            1.0\n",
       "3   3        a            0.0\n",
       "4   4        a            0.0\n",
       "5   5        c            1.0"
      ]
     },
     "metadata": {},
     "output_type": "display_data"
    },
    {
     "data": {
      "text/plain": [
       "'encoded:'"
      ]
     },
     "metadata": {},
     "output_type": "display_data"
    },
    {
     "data": {
      "text/html": [
       "<div>\n",
       "<style scoped>\n",
       "    .dataframe tbody tr th:only-of-type {\n",
       "        vertical-align: middle;\n",
       "    }\n",
       "\n",
       "    .dataframe tbody tr th {\n",
       "        vertical-align: top;\n",
       "    }\n",
       "\n",
       "    .dataframe thead th {\n",
       "        text-align: right;\n",
       "    }\n",
       "</style>\n",
       "<table border=\"1\" class=\"dataframe\">\n",
       "  <thead>\n",
       "    <tr style=\"text-align: right;\">\n",
       "      <th></th>\n",
       "      <th>id</th>\n",
       "      <th>category</th>\n",
       "      <th>categoryIndex</th>\n",
       "      <th>categoryVec</th>\n",
       "    </tr>\n",
       "  </thead>\n",
       "  <tbody>\n",
       "    <tr>\n",
       "      <td>0</td>\n",
       "      <td>0</td>\n",
       "      <td>a</td>\n",
       "      <td>0.0</td>\n",
       "      <td>(1.0, 0.0)</td>\n",
       "    </tr>\n",
       "    <tr>\n",
       "      <td>1</td>\n",
       "      <td>1</td>\n",
       "      <td>b</td>\n",
       "      <td>2.0</td>\n",
       "      <td>(0.0, 0.0)</td>\n",
       "    </tr>\n",
       "    <tr>\n",
       "      <td>2</td>\n",
       "      <td>2</td>\n",
       "      <td>c</td>\n",
       "      <td>1.0</td>\n",
       "      <td>(0.0, 1.0)</td>\n",
       "    </tr>\n",
       "    <tr>\n",
       "      <td>3</td>\n",
       "      <td>3</td>\n",
       "      <td>a</td>\n",
       "      <td>0.0</td>\n",
       "      <td>(1.0, 0.0)</td>\n",
       "    </tr>\n",
       "    <tr>\n",
       "      <td>4</td>\n",
       "      <td>4</td>\n",
       "      <td>a</td>\n",
       "      <td>0.0</td>\n",
       "      <td>(1.0, 0.0)</td>\n",
       "    </tr>\n",
       "    <tr>\n",
       "      <td>5</td>\n",
       "      <td>5</td>\n",
       "      <td>c</td>\n",
       "      <td>1.0</td>\n",
       "      <td>(0.0, 1.0)</td>\n",
       "    </tr>\n",
       "  </tbody>\n",
       "</table>\n",
       "</div>"
      ],
      "text/plain": [
       "   id category  categoryIndex categoryVec\n",
       "0   0        a            0.0  (1.0, 0.0)\n",
       "1   1        b            2.0  (0.0, 0.0)\n",
       "2   2        c            1.0  (0.0, 1.0)\n",
       "3   3        a            0.0  (1.0, 0.0)\n",
       "4   4        a            0.0  (1.0, 0.0)\n",
       "5   5        c            1.0  (0.0, 1.0)"
      ]
     },
     "metadata": {},
     "output_type": "display_data"
    }
   ],
   "source": [
    "from pyspark.ml.feature import OneHotEncoder, StringIndexer, VectorAssembler\n",
    "\n",
    "df = spark.createDataFrame([\n",
    "    (0, \"a\"),\n",
    "    (1, \"b\"),\n",
    "    (2, \"c\"),\n",
    "    (3, \"a\"),\n",
    "    (4, \"a\"),\n",
    "    (5, \"c\")\n",
    "], [\"id\", \"category\"])\n",
    "display(\"df:\", df.toPandas())\n",
    "\n",
    "stringIndexer = StringIndexer(inputCol=\"category\", outputCol=\"categoryIndex\")\n",
    "model = stringIndexer.fit(df)\n",
    "indexed = model.transform(df)\n",
    "display(\"indexed:\", indexed.toPandas())\n",
    "\n",
    "encoder = OneHotEncoder(inputCol=\"categoryIndex\", outputCol=\"categoryVec\")\n",
    "encoded = encoder.transform(indexed)\n",
    "display(\"encoded:\", encoded.toPandas())"
   ]
  }
 ],
 "metadata": {
  "anaconda-cloud": {},
  "kernelspec": {
   "display_name": "Python 3",
   "language": "python",
   "name": "python3"
  },
  "language_info": {
   "codemirror_mode": {
    "name": "ipython",
    "version": 3
   },
   "file_extension": ".py",
   "mimetype": "text/x-python",
   "name": "python",
   "nbconvert_exporter": "python",
   "pygments_lexer": "ipython3",
   "version": "3.7.6"
  },
  "name": "lab_object-recognition-deep-learning",
  "notebookId": 285884546408141
 },
 "nbformat": 4,
 "nbformat_minor": 1
}
