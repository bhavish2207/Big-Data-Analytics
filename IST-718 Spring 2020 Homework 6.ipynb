{
 "cells": [
  {
   "cell_type": "markdown",
   "metadata": {},
   "source": [
    "##### Grading Feedback"
   ]
  },
  {
   "cell_type": "markdown",
   "metadata": {
    "deletable": false,
    "editable": false,
    "nbgrader": {
     "checksum": "c51f80b694da894627ba37be28c86055",
     "grade": false,
     "grade_id": "cell-b038e38b5e3072a9",
     "locked": true,
     "schema_version": 1,
     "solution": false
    }
   },
   "source": [
    "# IST 718: Big Data Analytics\n",
    "\n",
    "- Professor: Willard Williamson <wewillia@syr.edu>\n",
    "- Faculty Assistant: Yash Pasar <yspasar@syr.edu>\n",
    "## General instructions:\n",
    "\n",
    "- You are welcome to discuss the problems with your classmates but __you are not allowed to copy any part of your answers from your classmates.  Short code snippets are allowed from the internet.  Code from the class text books or class provided code can be copied in its entirety.__\n",
    "- There could be tests in some cells (i.e., `assert` and `np.testing.` statements). These tests (if present) are used to grade your answers. **However, the professor and FAs could use __additional__ test for your answer. Think about cases where your code should run even if it passess all the tests you see.**\n",
    "- Before submitting your work, remember to check for run time errors with the following procedure:\n",
    "`Kernel`$\\rightarrow$`Restart and Run All`.  All runtime errors will result in a minimum penalty of half off.\n",
    "- Data Bricks is the official class runtime environment so you should test your code on Data Bricks before submission.  If there is a runtime problem in the grading environment, we will try your code on Data Bricks before making a final grading decision.\n",
    "- All plots shall include a title, and axis labels.\n",
    "- Grading feedback cells are there for graders to provide feedback to students.  Don't change or remove grading feedback cells.\n",
    "- Don't add or remove files from your git repo.\n",
    "- Do not change file names in your repo.  This also means don't change the title of the ipython notebook.\n",
    "- You are free to add additional code cells around the cells marked `your code here`.\n",
    "- Students may use toPandas() to print the head of data frames.\n",
    "- Students are responsible for reading the usage comments and understanding how to properly use the get_training_filename() function.  Runtime errors which result from incorrect usage of get_training_filename() shall result in a  point reduction.  \n",
    "- __Only use spark, spark machine learning, spark data frames, RDD's, and map reduce to solve all problems unless instructed otherwise.  Heavy weight operations that convert data to pandas or spark (like collect()) will result in a point reduction.__"
   ]
  },
  {
   "cell_type": "code",
   "execution_count": 1,
   "metadata": {},
   "outputs": [],
   "source": [
    "# create spark and sparkcontext objects\n",
    "from pyspark.sql import SparkSession\n",
    "from pyspark.sql import Row\n",
    "import numpy as np\n",
    "import pandas as pd\n",
    "from pyspark.sql.functions import isnan, isnull, when, count, col\n",
    "from pyspark.sql import functions as fn\n",
    "import matplotlib.pyplot as plt\n",
    "from pyspark.mllib.stat import Statistics\n",
    "from pyspark.ml import feature\n",
    "from pyspark.ml import clustering\n",
    "# Functionality for regression\n",
    "from pyspark.ml import regression\n",
    "# Funcionality for classification\n",
    "from pyspark.ml import classification\n",
    "# Object for creating sequences of transformations\n",
    "from pyspark.ml import Pipeline\n",
    "import seaborn as sns\n",
    "from pyspark.ml.feature import StandardScaler\n",
    "from math import exp, log10, fabs, atan, log\n",
    "spark = SparkSession.builder.getOrCreate()\n",
    "sc = spark.sparkContext\n",
    "from pyspark.ml.feature import VectorAssembler\n",
    "from pyspark.ml.evaluation import BinaryClassificationEvaluator\n",
    "from pyspark.ml.classification import LogisticRegression, RandomForestClassifier\n",
    "from pyspark.ml.tuning import ParamGridBuilder,CrossValidator\n",
    "import requests\n",
    "from pyspark.ml.feature import StopWordsRemover\n",
    "from pyspark.ml.feature import RegexTokenizer\n",
    "from pyspark.ml.feature import CountVectorizer\n",
    "from pyspark.ml.feature import IDF\n",
    "from pyspark.ml.classification import GBTClassifier"
   ]
  },
  {
   "cell_type": "markdown",
   "metadata": {
    "deletable": false,
    "nbgrader": {
     "checksum": "c51f80b694da894627ba37be28c86055",
     "grade": false,
     "grade_id": "cell-b038e38b5e3072a9",
     "locked": true,
     "schema_version": 1,
     "solution": false
    }
   },
   "source": [
    "### Wine Analysis\n",
    "I'm a big fan of wine and would love to use visualizations, machine learning, and inference to learn more about the characteristics of a good wine and predict good wines.  Unfortunately I'm too busy (and lazy) to do the analysis myself but I do have just under 60 trained data scientests at my disposal to do the research for me.  The data set contains the following columns:<br>\n",
    "\n",
    "Input variables (based on physicochemical tests):\n",
    "\n",
    "1. fixed acidity\n",
    "2. volatile acidity\n",
    "3. citric acid\n",
    "4. residual sugar\n",
    "5. chlorides\n",
    "6. free sulfur dioxide\n",
    "7. total sulfur dioxide\n",
    "8. density\n",
    "9. pH\n",
    "10. sulphates\n",
    "11. alcohol\n",
    "\n",
    "Output variable (based on sensory data):\n",
    "12. quality (score between 0 and 10)"
   ]
  },
  {
   "cell_type": "code",
   "execution_count": 2,
   "metadata": {
    "deletable": false,
    "editable": false,
    "nbgrader": {
     "checksum": "c51f80b694da894627ba37be28c86055",
     "grade": false,
     "grade_id": "cell-b038e38b5e3072a9",
     "locked": true,
     "schema_version": 1,
     "solution": false
    }
   },
   "outputs": [],
   "source": [
    "# Do not delete or change this cell\n",
    "\n",
    "# grading import statements\n",
    "from pyspark.sql import SparkSession\n",
    "from pyspark.sql import SQLContext\n",
    "spark = SparkSession.builder.getOrCreate()\n",
    "sc = spark.sparkContext\n",
    "sqlContext = SQLContext(sc)\n",
    "import os\n",
    "\n",
    "# Define a function to determine if we are running on data bricks\n",
    "# Return true if running in the data bricks environment, false otherwise\n",
    "def is_databricks():\n",
    "    # get the databricks runtime version\n",
    "    db_env = os.getenv(\"DATABRICKS_RUNTIME_VERSION\")\n",
    "    \n",
    "    # if running on data bricks\n",
    "    if db_env != None:\n",
    "        return True\n",
    "    else:\n",
    "        return False\n",
    "\n",
    "# Define a function to read the data file.  The full path data file name is constructed\n",
    "# by checking runtime environment variables to determine if the runtime environment is \n",
    "# databricks, or a student's personal computer.  The full path file name is then\n",
    "# constructed based on the runtime env.\n",
    "# \n",
    "# Params\n",
    "#   data_file_name: The base name of the data file to load\n",
    "# \n",
    "# Returns the full path file name based on the runtime env\n",
    "#\n",
    "# Correct Usage Example (pass ONLY the full file name):\n",
    "#   file_name_to_load = get_training_filename(\"sms_spam.csv\") # correct - pass ONLY the full file name  \n",
    "#   \n",
    "# Incorrect Usage Example\n",
    "#   file_name_to_load = get_training_filename(\"/sms_spam.csv\") # incorrect - pass ONLY the full file name\n",
    "#   file_name_to_load = get_training_filename(\"sms_spam.csv/\") # incorrect - pass ONLY the full file name\n",
    "#   file_name_to_load = get_training_filename(\"c:/users/will/data/sms_spam.csv\") incorrect -pass ONLY the full file name\n",
    "def get_training_filename(data_file_name):    \n",
    "    # if running on data bricks\n",
    "    if is_databricks():\n",
    "        # build the full path file name assuming data brick env\n",
    "        full_path_name = \"/FileStore/tables/%s\" % data_file_name\n",
    "    # else the data is assumed to be in the same dir as this notebook\n",
    "    else:\n",
    "        # Assume the student is running on their own computer and load the data\n",
    "        # file from the same dir as this notebook\n",
    "        full_path_name = data_file_name\n",
    "    \n",
    "    # return the full path file name to the caller\n",
    "    return full_path_name"
   ]
  },
  {
   "cell_type": "markdown",
   "metadata": {},
   "source": [
    "# Question 1 Data Wrangling: (10 pts)\n",
    "Read the winequality-red.csv data set into a spark data frame named wine_df.  Use the get_training_filename function provided above to determine the appropriate file path based on the platform on which you are running. Check the resulting data frame for NA / NAN values and deal with these problems appropriately.  Note that the target variable has 10 classes.  Convert the 10 classes into 2 classes.  If the target variable is greater than or equal to 7, replace the label with a 1 indicating good wine.  If the target varible is less than 7, replace the label with a 0 indicating a lower quality wine."
   ]
  },
  {
   "cell_type": "code",
   "execution_count": 3,
   "metadata": {},
   "outputs": [
    {
     "name": "stdout",
     "output_type": "stream",
     "text": [
      "+--------+--------+--------+--------+--------+--------+--------+--------+--------+---------+---------+---------+\n",
      "|sum_col1|sum_col2|sum_col3|sum_col4|sum_col5|sum_col6|sum_col7|sum_col8|sum_col9|sum_col10|sum_col11|sum_col12|\n",
      "+--------+--------+--------+--------+--------+--------+--------+--------+--------+---------+---------+---------+\n",
      "|       0|       0|       0|       0|       0|       0|       0|       0|       0|        0|        0|        0|\n",
      "+--------+--------+--------+--------+--------+--------+--------+--------+--------+---------+---------+---------+\n",
      "\n",
      "+--------+--------+--------+--------+--------+--------+--------+--------+--------+---------+---------+---------+\n",
      "|sum_col1|sum_col2|sum_col3|sum_col4|sum_col5|sum_col6|sum_col7|sum_col8|sum_col9|sum_col10|sum_col11|sum_col12|\n",
      "+--------+--------+--------+--------+--------+--------+--------+--------+--------+---------+---------+---------+\n",
      "|       0|       0|       0|       0|       0|       0|       0|       0|       0|        0|        0|        0|\n",
      "+--------+--------+--------+--------+--------+--------+--------+--------+--------+---------+---------+---------+\n",
      "\n"
     ]
    }
   ],
   "source": [
    "# students shall create wine_df here\n",
    "wine_df = spark.read.csv(get_training_filename('winequality-red.csv'), header=True, inferSchema=True)\n",
    "wine_df = wine_df.select(fn.col('fixed acidity'),fn.col('volatile acidity'),fn.col('citric acid'),fn.col('residual sugar'),\n",
    "        fn.col('chlorides'),fn.col('free sulfur dioxide'),fn.col('total sulfur dioxide'),fn.col('density'),fn.col('pH'),\n",
    "       fn.col('sulphates'),fn.col('alcohol'),\n",
    "    fn.when(fn.col('quality')>=7,1).otherwise(0).alias('quality'))\n",
    "rolled_up = wine_df.select(fn.sum(fn.isnan('fixed acidity').cast('int')).alias('sum_col1'),fn.sum(fn.isnan('volatile acidity').cast('int')).alias('sum_col2'),\n",
    "fn.sum(fn.isnan('citric acid').cast('int')).alias('sum_col3'),fn.sum(fn.isnan('residual sugar').cast('int')).alias('sum_col4'),\n",
    "fn.sum(fn.isnan('chlorides').cast('int')).alias('sum_col5'),fn.sum(fn.isnan('free sulfur dioxide').cast('int')).alias('sum_col6'),\n",
    "fn.sum(fn.isnan('total sulfur dioxide').cast('int')).alias('sum_col7'),fn.sum(fn.isnan('density').cast('int')).alias('sum_col8'),\n",
    "fn.sum(fn.isnan('pH').cast('int')).alias('sum_col9'),fn.sum(fn.isnan('sulphates').cast('int')).alias('sum_col10'),\n",
    "fn.sum(fn.isnan('alcohol').cast('int')).alias('sum_col11'),fn.sum(fn.isnan('quality').cast('int')).alias('sum_col12'))\n",
    "rolled_up.show()\n",
    "\n",
    "rolled_up2 = wine_df.select(fn.sum(fn.isnull('fixed acidity').cast('int')).alias('sum_col1'),fn.sum(fn.isnull('volatile acidity').cast('int')).alias('sum_col2'),\n",
    "fn.sum(fn.isnull('citric acid').cast('int')).alias('sum_col3'),fn.sum(fn.isnull('residual sugar').cast('int')).alias('sum_col4'),\n",
    "fn.sum(fn.isnull('chlorides').cast('int')).alias('sum_col5'),fn.sum(fn.isnull('free sulfur dioxide').cast('int')).alias('sum_col6'),\n",
    "fn.sum(fn.isnull('total sulfur dioxide').cast('int')).alias('sum_col7'),fn.sum(fn.isnull('density').cast('int')).alias('sum_col8'),\n",
    "fn.sum(fn.isnull('pH').cast('int')).alias('sum_col9'),fn.sum(fn.isnull('sulphates').cast('int')).alias('sum_col10'),\n",
    "fn.sum(fn.isnull('alcohol').cast('int')).alias('sum_col11'),fn.sum(fn.isnull('quality').cast('int')).alias('sum_col12'))\n",
    "rolled_up2.show()\n",
    "\n",
    "### THE DATAFRAME has no NA/NAN/NULL values in any of the 12 columns as shown below"
   ]
  },
  {
   "cell_type": "code",
   "execution_count": 4,
   "metadata": {},
   "outputs": [
    {
     "name": "stdout",
     "output_type": "stream",
     "text": [
      "Shape of wine_df is:  (1599, 12)\n"
     ]
    },
    {
     "data": {
      "text/html": [
       "<div>\n",
       "<style scoped>\n",
       "    .dataframe tbody tr th:only-of-type {\n",
       "        vertical-align: middle;\n",
       "    }\n",
       "\n",
       "    .dataframe tbody tr th {\n",
       "        vertical-align: top;\n",
       "    }\n",
       "\n",
       "    .dataframe thead th {\n",
       "        text-align: right;\n",
       "    }\n",
       "</style>\n",
       "<table border=\"1\" class=\"dataframe\">\n",
       "  <thead>\n",
       "    <tr style=\"text-align: right;\">\n",
       "      <th></th>\n",
       "      <th>fixed acidity</th>\n",
       "      <th>volatile acidity</th>\n",
       "      <th>citric acid</th>\n",
       "      <th>residual sugar</th>\n",
       "      <th>chlorides</th>\n",
       "      <th>free sulfur dioxide</th>\n",
       "      <th>total sulfur dioxide</th>\n",
       "      <th>density</th>\n",
       "      <th>pH</th>\n",
       "      <th>sulphates</th>\n",
       "      <th>alcohol</th>\n",
       "      <th>quality</th>\n",
       "    </tr>\n",
       "  </thead>\n",
       "  <tbody>\n",
       "    <tr>\n",
       "      <td>0</td>\n",
       "      <td>7.4</td>\n",
       "      <td>0.70</td>\n",
       "      <td>0.00</td>\n",
       "      <td>1.9</td>\n",
       "      <td>0.076</td>\n",
       "      <td>11.0</td>\n",
       "      <td>34.0</td>\n",
       "      <td>0.9978</td>\n",
       "      <td>3.51</td>\n",
       "      <td>0.56</td>\n",
       "      <td>9.4</td>\n",
       "      <td>0</td>\n",
       "    </tr>\n",
       "    <tr>\n",
       "      <td>1</td>\n",
       "      <td>7.8</td>\n",
       "      <td>0.88</td>\n",
       "      <td>0.00</td>\n",
       "      <td>2.6</td>\n",
       "      <td>0.098</td>\n",
       "      <td>25.0</td>\n",
       "      <td>67.0</td>\n",
       "      <td>0.9968</td>\n",
       "      <td>3.20</td>\n",
       "      <td>0.68</td>\n",
       "      <td>9.8</td>\n",
       "      <td>0</td>\n",
       "    </tr>\n",
       "    <tr>\n",
       "      <td>2</td>\n",
       "      <td>7.8</td>\n",
       "      <td>0.76</td>\n",
       "      <td>0.04</td>\n",
       "      <td>2.3</td>\n",
       "      <td>0.092</td>\n",
       "      <td>15.0</td>\n",
       "      <td>54.0</td>\n",
       "      <td>0.9970</td>\n",
       "      <td>3.26</td>\n",
       "      <td>0.65</td>\n",
       "      <td>9.8</td>\n",
       "      <td>0</td>\n",
       "    </tr>\n",
       "    <tr>\n",
       "      <td>3</td>\n",
       "      <td>11.2</td>\n",
       "      <td>0.28</td>\n",
       "      <td>0.56</td>\n",
       "      <td>1.9</td>\n",
       "      <td>0.075</td>\n",
       "      <td>17.0</td>\n",
       "      <td>60.0</td>\n",
       "      <td>0.9980</td>\n",
       "      <td>3.16</td>\n",
       "      <td>0.58</td>\n",
       "      <td>9.8</td>\n",
       "      <td>0</td>\n",
       "    </tr>\n",
       "    <tr>\n",
       "      <td>4</td>\n",
       "      <td>7.4</td>\n",
       "      <td>0.70</td>\n",
       "      <td>0.00</td>\n",
       "      <td>1.9</td>\n",
       "      <td>0.076</td>\n",
       "      <td>11.0</td>\n",
       "      <td>34.0</td>\n",
       "      <td>0.9978</td>\n",
       "      <td>3.51</td>\n",
       "      <td>0.56</td>\n",
       "      <td>9.4</td>\n",
       "      <td>0</td>\n",
       "    </tr>\n",
       "  </tbody>\n",
       "</table>\n",
       "</div>"
      ],
      "text/plain": [
       "   fixed acidity  volatile acidity  citric acid  residual sugar  chlorides  \\\n",
       "0            7.4              0.70         0.00             1.9      0.076   \n",
       "1            7.8              0.88         0.00             2.6      0.098   \n",
       "2            7.8              0.76         0.04             2.3      0.092   \n",
       "3           11.2              0.28         0.56             1.9      0.075   \n",
       "4            7.4              0.70         0.00             1.9      0.076   \n",
       "\n",
       "   free sulfur dioxide  total sulfur dioxide  density    pH  sulphates  \\\n",
       "0                 11.0                  34.0   0.9978  3.51       0.56   \n",
       "1                 25.0                  67.0   0.9968  3.20       0.68   \n",
       "2                 15.0                  54.0   0.9970  3.26       0.65   \n",
       "3                 17.0                  60.0   0.9980  3.16       0.58   \n",
       "4                 11.0                  34.0   0.9978  3.51       0.56   \n",
       "\n",
       "   alcohol  quality  \n",
       "0      9.4        0  \n",
       "1      9.8        0  \n",
       "2      9.8        0  \n",
       "3      9.8        0  \n",
       "4      9.4        0  "
      ]
     },
     "execution_count": 4,
     "metadata": {},
     "output_type": "execute_result"
    }
   ],
   "source": [
    "# grading cell: students shall print the head and shape of wine_df here\n",
    "print(\"Shape of wine_df is: \",(wine_df.count(), len(wine_df.columns)))\n",
    "wine_df.toPandas().head()"
   ]
  },
  {
   "cell_type": "code",
   "execution_count": 5,
   "metadata": {},
   "outputs": [
    {
     "name": "stdout",
     "output_type": "stream",
     "text": [
      "0\n"
     ]
    },
    {
     "data": {
      "text/plain": [
       "0"
      ]
     },
     "execution_count": 5,
     "metadata": {},
     "output_type": "execute_result"
    }
   ],
   "source": [
    "# grading cell: students shall prove that there are no NA / NAN values in the wine_df here\n",
    "\n",
    "print(rolled_up.select(fn.col('sum_col1')+fn.col('sum_col2')+fn.col('sum_col3')+fn.col('sum_col4')\n",
    "+fn.col('sum_col5')+fn.col('sum_col6')+fn.col('sum_col7')+fn.col('sum_col8')+fn.col('sum_col9')\n",
    "+fn.col('sum_col10')+fn.col('sum_col11')+fn.col('sum_col12').alias('Total_NANs')).collect()[0][0])\n",
    "     \n",
    "rolled_up2.select(fn.col('sum_col1')+fn.col('sum_col2')+fn.col('sum_col3')+fn.col('sum_col4')\n",
    "+fn.col('sum_col5')+fn.col('sum_col6')+fn.col('sum_col7')+fn.col('sum_col8')+fn.col('sum_col9')\n",
    "+fn.col('sum_col10')+fn.col('sum_col11')+fn.col('sum_col12').alias('Total_NULLs')).collect()[0][0]"
   ]
  },
  {
   "cell_type": "markdown",
   "metadata": {},
   "source": [
    "##### Grading feedback cell"
   ]
  },
  {
   "cell_type": "markdown",
   "metadata": {},
   "source": [
    "# Question 2 Visualizations (10 pts)\n",
    "I am interested to know more about the data set.  Create one or more visualizations that summarize the data.  Write a short description that helps me understand the visualizations.  Tell me something interesting or surprising about the data."
   ]
  },
  {
   "cell_type": "code",
   "execution_count": 6,
   "metadata": {
    "scrolled": true
   },
   "outputs": [
    {
     "data": {
      "image/png": "[encoded data removed]",
      "text/plain": [
       "<Figure size 432x288 with 4 Axes>"
      ]
     },
     "metadata": {
      "needs_background": "light"
     },
     "output_type": "display_data"
    }
   ],
   "source": [
    "# your code here\n",
    "wine_df_agg = (wine_df.groupBy(\"quality\").agg(fn.mean(\"fixed acidity\"),fn.mean(\"volatile acidity\"),fn.mean(\"citric acid\"),\n",
    "                    fn.mean(\"residual sugar\"),fn.mean(\"chlorides\"),fn.mean(\"free sulfur dioxide\"),fn.mean(\"total sulfur dioxide\"),\n",
    "                    fn.mean(\"density\"),fn.mean(\"pH\"),fn.mean(\"sulphates\"),fn.mean(\"alcohol\"))).toPandas()\n",
    "x_ax = list(wine_df_agg['quality'])\n",
    "x_ax = [str(i) for i in x_ax]\n",
    "y1 = list(wine_df_agg['avg(alcohol)'])\n",
    "y2 = list(wine_df_agg['avg(residual sugar)'])\n",
    "y3 = list(wine_df_agg['avg(total sulfur dioxide)'])\n",
    "y4 = list(wine_df_agg['avg(free sulfur dioxide)'])\n",
    "y = [y1,y2,y3,y4]\n",
    "figure, axes = plt.subplots(nrows=2, ncols=2)\n",
    "#plt.subplots_adjust(left=0.1, bottom=0.1, right=0.9, top=0.9, wspace=0.9, hspace=0.9)\n",
    "axes[0, 0].bar(x_ax, y[0])\n",
    "axes[0, 0].set_title('WineQuality VS AvgAlcohol')\n",
    "axes[0, 0].set_xlabel('WineQuality')\n",
    "axes[0, 0].set_ylabel('AverageAlcohol')\n",
    "\n",
    "axes[0, 1].bar(x_ax, y[1])\n",
    "axes[0, 1].set_title('           WineQuality VS AvgResidualSugar')\n",
    "axes[0, 1].set_xlabel('WineQuality')\n",
    "axes[0, 1].set_ylabel('AvgResidualSugar')\n",
    "\n",
    "axes[1, 0].bar(x_ax, y[2])\n",
    "axes[1, 0].set_title('WineQuality VS AvgTotalSulfurDioxide')\n",
    "axes[1, 0].set_xlabel('WineQuality')\n",
    "axes[1, 0].set_ylabel('AvgSulfurDioxide')\n",
    "\n",
    "axes[1, 1].bar(x_ax, y[3])\n",
    "axes[1, 1].set_title('                        WineQuality VS AvgFreeSulfurDioxide')\n",
    "axes[1, 1].set_xlabel('WineQuality')\n",
    "axes[1, 1].set_ylabel('AvgFreeSulfurDioxide')\n",
    "\n",
    "figure.tight_layout()\n",
    "display()"
   ]
  },
  {
   "cell_type": "markdown",
   "metadata": {},
   "source": [
    "Your short description here:<br>\n",
    "From the above bar graphs with Wine Quality versus other numeric variables, we can observe that the AVERAGE \"free sulfur dioxide\" and AVERAGE \"total sulfur dioxide is higher for lower quality wines\" whereas on the other hand, AVERAGE \"alcohol\", and \"residual sugar\" are higher for good wines."
   ]
  },
  {
   "cell_type": "markdown",
   "metadata": {},
   "source": [
    "##### Grading Feedback"
   ]
  },
  {
   "cell_type": "markdown",
   "metadata": {},
   "source": [
    "# Random Forest"
   ]
  },
  {
   "cell_type": "markdown",
   "metadata": {},
   "source": [
    "# Question 3: (10 pts)\n",
    "Create a spark RandomForestClassifier using all default parameters.  Train the model and calculate the AUC using a BinaryClassificationEvaluator."
   ]
  },
  {
   "cell_type": "code",
   "execution_count": 7,
   "metadata": {},
   "outputs": [
    {
     "data": {
      "text/plain": [
       "0.8847796762589949"
      ]
     },
     "execution_count": 7,
     "metadata": {},
     "output_type": "execute_result"
    }
   ],
   "source": [
    "# Your code here\n",
    "rf_training_df, rf_validation_df = wine_df.randomSplit([0.7, 0.3],12343)\n",
    "va = VectorAssembler().setInputCols(rf_training_df.columns[0:11]).setOutputCol('features')\n",
    "rf = RandomForestClassifier(labelCol='quality')\n",
    "rf_pipeline = Pipeline(stages=[va, rf]).fit(rf_training_df)\n",
    "\n",
    "bce = BinaryClassificationEvaluator(labelCol='quality')\n",
    "bce.evaluate(rf_pipeline.transform(rf_validation_df))"
   ]
  },
  {
   "cell_type": "markdown",
   "metadata": {},
   "source": [
    "##### Grading Feedback"
   ]
  },
  {
   "cell_type": "markdown",
   "metadata": {},
   "source": [
    "# Question 4: (10 pts)\n",
    "Use spark RandomForestClassifier, ParamGridBuilder, and CrossValidator objects to perform a random forest grid search.  Use 3 fold cross validation and a BinaryClassificationEvaluator to evaluate the results.  The goal is to see if you can improve upon the AUC score produced by the default random forest model above.  You are free to choose any hyper parameters you want in your grid search.  You should be able to achieve an AUC score around / above 88%. "
   ]
  },
  {
   "cell_type": "code",
   "execution_count": 8,
   "metadata": {
    "deletable": false,
    "nbgrader": {
     "checksum": "2912f0aa0562283b8c2b9b8d330a9e8c",
     "grade": false,
     "grade_id": "cell-5d34f31b40350198",
     "locked": false,
     "schema_version": 1,
     "solution": true
    }
   },
   "outputs": [
    {
     "data": {
      "text/plain": [
       "0.8941471822542001"
      ]
     },
     "execution_count": 8,
     "metadata": {},
     "output_type": "execute_result"
    }
   ],
   "source": [
    "# Your grid search code here\n",
    "rf_training_df, rf_validation_df = wine_df.randomSplit([0.7, 0.3],12343)\n",
    "va = VectorAssembler().setInputCols(rf_training_df.columns[0:11]).setOutputCol('features')\n",
    "rf = RandomForestClassifier(labelCol='quality',featuresCol=\"features\")\n",
    "rf_pipeline = Pipeline(stages=[va, rf])\n",
    "\n",
    "#grid = (ParamGridBuilder().addGrid(rf.featureSubsetStrategy, ['auto','sqrt','log2']).addGrid(rf.impurity,['GINI','entropy']).addGrid(rf.numTrees, [80,120,150]).build())\n",
    "grid = (ParamGridBuilder().addGrid(rf.featureSubsetStrategy, ['auto']).addGrid(rf.impurity,['GINI']).addGrid(rf.numTrees, [80]).build())\n",
    "evaluator = BinaryClassificationEvaluator(labelCol = 'quality',metricName = 'areaUnderROC')\n",
    "cv1 = CrossValidator(estimator=rf_pipeline, estimatorParamMaps=grid, evaluator=evaluator, numFolds = 3, seed = 65)\n",
    "fitted_cv1 = cv1.fit(rf_training_df)\n",
    "\n",
    "bce = BinaryClassificationEvaluator(labelCol='quality')\n",
    "bce.evaluate(fitted_cv1.bestModel.transform(rf_validation_df))"
   ]
  },
  {
   "cell_type": "markdown",
   "metadata": {},
   "source": [
    "##### Grading Feedback"
   ]
  },
  {
   "cell_type": "markdown",
   "metadata": {},
   "source": [
    "# Question 5 (10 pts)\n",
    "Extract the cross validation AUC score and specific hyper parameters used from the grid search above.  Create a pandas dataframe where the first column is the grid parameter name and the 2nd colum is the grid parameter value.  Make the last row of the pandas data frame the resulting AUC score.  Print the pandas data frame.  Describe in words in the markdown cell below what specific parameters you used in your grid and what those parameters do in the model.  For example, if you specified impurity in your grid, describe what impurity does in the random forest.  Keep the descriptions brief and at a high level, I'm just trying to see if you understand the high level concept of what the tuning parameter does."
   ]
  },
  {
   "cell_type": "code",
   "execution_count": 9,
   "metadata": {
    "scrolled": true
   },
   "outputs": [
    {
     "data": {
      "text/html": [
       "<div>\n",
       "<style scoped>\n",
       "    .dataframe tbody tr th:only-of-type {\n",
       "        vertical-align: middle;\n",
       "    }\n",
       "\n",
       "    .dataframe tbody tr th {\n",
       "        vertical-align: top;\n",
       "    }\n",
       "\n",
       "    .dataframe thead th {\n",
       "        text-align: right;\n",
       "    }\n",
       "</style>\n",
       "<table border=\"1\" class=\"dataframe\">\n",
       "  <thead>\n",
       "    <tr style=\"text-align: right;\">\n",
       "      <th></th>\n",
       "      <th>grid_paramter_name</th>\n",
       "      <th>grid_parameter_value</th>\n",
       "    </tr>\n",
       "  </thead>\n",
       "  <tbody>\n",
       "    <tr>\n",
       "      <td>0</td>\n",
       "      <td>featureSubsetStrategy</td>\n",
       "      <td>auto</td>\n",
       "    </tr>\n",
       "    <tr>\n",
       "      <td>1</td>\n",
       "      <td>impurity</td>\n",
       "      <td>GINI</td>\n",
       "    </tr>\n",
       "    <tr>\n",
       "      <td>2</td>\n",
       "      <td>numTrees</td>\n",
       "      <td>80</td>\n",
       "    </tr>\n",
       "    <tr>\n",
       "      <td>3</td>\n",
       "      <td>Cross Validator AUC</td>\n",
       "      <td>0.870597</td>\n",
       "    </tr>\n",
       "  </tbody>\n",
       "</table>\n",
       "</div>"
      ],
      "text/plain": [
       "      grid_paramter_name grid_parameter_value\n",
       "0  featureSubsetStrategy                 auto\n",
       "1               impurity                 GINI\n",
       "2               numTrees                   80\n",
       "3    Cross Validator AUC             0.870597"
      ]
     },
     "execution_count": 9,
     "metadata": {},
     "output_type": "execute_result"
    }
   ],
   "source": [
    "# Print the pandas data frame here\n",
    "dict1 = {'grid_paramter_name': ['featureSubsetStrategy','impurity','numTrees','Cross Validator AUC'], \n",
    "         'grid_parameter_value': [fitted_cv1.bestModel.stages[1].getOrDefault('featureSubsetStrategy'),\n",
    "                                  fitted_cv1.bestModel.stages[1].getOrDefault('impurity'),\n",
    "                                  fitted_cv1.bestModel.stages[1].getOrDefault('numTrees'),\n",
    "                                  max(fitted_cv1.avgMetrics)]}\n",
    "best_model_parameters_df = pd.DataFrame.from_dict(dict1)\n",
    "best_model_parameters_df"
   ]
  },
  {
   "cell_type": "markdown",
   "metadata": {},
   "source": [
    "Write your grid search parameter descriptions here:\n",
    "\n",
    "The grid parameters, I used in the above question are 'featureSubsetStrategy','impurity' and 'numTrees'. The first paramter featureSubsetStrategy is to specify the method in which the Random Forest should select the required number of features to be considered at each spliting node of a decision tree. This hyperparameter takes values such as 'auto', 'log2' and 'sqrt' to decide the number of features required to build each of the decision trees by either automatically taking the required number of features or by taking log to the base 2 of the total number of features or by taking square root of the total number of features. \n",
    "The second hyperparameter 'impurity' is to specify the measure that needs to be used to decide the splitting attribute at each node. For example if 'Entropy' is chosen as the hyperparameter value, then, if a splitting attribute 'A' is resulting in the child node being more pure and thereby having lower entropy in comparison to the splitting attribute 'B', then the attribute 'A' will be chosen to split at that node as it is resulting in lower entropy of the child node and thus higher purity of the child node. The goal is to reduce the impurity and entropy as much as possible when traversing from the root node to leaf nodes by reducing the occurences of any given class in the lower nodes.\n",
    "The third hyperparamter 'numTrees' is simply used to specify the required number of Decision Trees in the hyperparameter."
   ]
  },
  {
   "cell_type": "markdown",
   "metadata": {},
   "source": [
    "##### Grading Feedback"
   ]
  },
  {
   "cell_type": "markdown",
   "metadata": {},
   "source": [
    "# Question 6: 5 pts\n",
    "Create a pandas dataframe containing 2 columns: `feature` and `importance`.  Load the feature column with the dataset feature names and the 2nd column with the feature importances as determined by the best model produced by the grid search above.  Sort the dataframe by `importance` in descending order. In the markdown cell, tell me the 3 features that are most important to predicting a good wine."
   ]
  },
  {
   "cell_type": "code",
   "execution_count": 10,
   "metadata": {
    "deletable": false,
    "nbgrader": {
     "checksum": "89dc0c52dff983147af006f48049dd3e",
     "grade": false,
     "grade_id": "cell-5b666b921af5a375",
     "locked": false,
     "schema_version": 1,
     "solution": true
    },
    "scrolled": true
   },
   "outputs": [
    {
     "data": {
      "text/html": [
       "<div>\n",
       "<style scoped>\n",
       "    .dataframe tbody tr th:only-of-type {\n",
       "        vertical-align: middle;\n",
       "    }\n",
       "\n",
       "    .dataframe tbody tr th {\n",
       "        vertical-align: top;\n",
       "    }\n",
       "\n",
       "    .dataframe thead th {\n",
       "        text-align: right;\n",
       "    }\n",
       "</style>\n",
       "<table border=\"1\" class=\"dataframe\">\n",
       "  <thead>\n",
       "    <tr style=\"text-align: right;\">\n",
       "      <th></th>\n",
       "      <th>feature</th>\n",
       "      <th>importance</th>\n",
       "    </tr>\n",
       "  </thead>\n",
       "  <tbody>\n",
       "    <tr>\n",
       "      <td>10</td>\n",
       "      <td>alcohol</td>\n",
       "      <td>0.287217</td>\n",
       "    </tr>\n",
       "    <tr>\n",
       "      <td>9</td>\n",
       "      <td>sulphates</td>\n",
       "      <td>0.155402</td>\n",
       "    </tr>\n",
       "    <tr>\n",
       "      <td>1</td>\n",
       "      <td>volatile acidity</td>\n",
       "      <td>0.108147</td>\n",
       "    </tr>\n",
       "    <tr>\n",
       "      <td>2</td>\n",
       "      <td>citric acid</td>\n",
       "      <td>0.069579</td>\n",
       "    </tr>\n",
       "    <tr>\n",
       "      <td>0</td>\n",
       "      <td>fixed acidity</td>\n",
       "      <td>0.069507</td>\n",
       "    </tr>\n",
       "    <tr>\n",
       "      <td>4</td>\n",
       "      <td>chlorides</td>\n",
       "      <td>0.064766</td>\n",
       "    </tr>\n",
       "    <tr>\n",
       "      <td>7</td>\n",
       "      <td>density</td>\n",
       "      <td>0.062885</td>\n",
       "    </tr>\n",
       "    <tr>\n",
       "      <td>6</td>\n",
       "      <td>total sulfur dioxide</td>\n",
       "      <td>0.060785</td>\n",
       "    </tr>\n",
       "    <tr>\n",
       "      <td>3</td>\n",
       "      <td>residual sugar</td>\n",
       "      <td>0.046305</td>\n",
       "    </tr>\n",
       "    <tr>\n",
       "      <td>8</td>\n",
       "      <td>pH</td>\n",
       "      <td>0.038276</td>\n",
       "    </tr>\n",
       "    <tr>\n",
       "      <td>5</td>\n",
       "      <td>free sulfur dioxide</td>\n",
       "      <td>0.037132</td>\n",
       "    </tr>\n",
       "  </tbody>\n",
       "</table>\n",
       "</div>"
      ],
      "text/plain": [
       "                 feature  importance\n",
       "10               alcohol    0.287217\n",
       "9              sulphates    0.155402\n",
       "1       volatile acidity    0.108147\n",
       "2            citric acid    0.069579\n",
       "0          fixed acidity    0.069507\n",
       "4              chlorides    0.064766\n",
       "7                density    0.062885\n",
       "6   total sulfur dioxide    0.060785\n",
       "3         residual sugar    0.046305\n",
       "8                     pH    0.038276\n",
       "5    free sulfur dioxide    0.037132"
      ]
     },
     "execution_count": 10,
     "metadata": {},
     "output_type": "execute_result"
    }
   ],
   "source": [
    "# Your code here\n",
    "pd.DataFrame(list(zip(wine_df.columns[0:11], fitted_cv1.bestModel.stages[1].featureImportances.toArray())),\n",
    "            columns = ['feature', 'importance']).sort_values('importance', ascending = False)"
   ]
  },
  {
   "cell_type": "markdown",
   "metadata": {},
   "source": [
    "Your feature importance comments here.\n",
    "The 3 features that are most important in predicting a good wine are 'alcohol','volatile acidity' and 'sulphates' because these 3 features have the highest variable importance."
   ]
  },
  {
   "cell_type": "markdown",
   "metadata": {},
   "source": [
    "# Question 7:  10 pts.\n",
    "Print any of the trees in the forest from the final model.  Copy the printed text to the tree printout markdown cell below and retain the same formatting and indentation as the printout so it's easy for the graders to view the data.  Add comments to the markdown cell below describing how the root node is split:  Describe 2 things in the markdown cells below.  1) What specific predictor variable is being split and what is the value that determines the left / right split.  2) The top level split indicates the most important predictor in the data set.  Explain why the top level predictor in your printed tree can be different that the top level predictor from the cross validated model above. <br>"
   ]
  },
  {
   "cell_type": "code",
   "execution_count": 11,
   "metadata": {
    "deletable": false,
    "nbgrader": {
     "checksum": "b212587e3d2f28ad35f04e2a6149e762",
     "grade": false,
     "grade_id": "cell-7476baa7ceb72c05",
     "locked": false,
     "schema_version": 1,
     "solution": true
    },
    "scrolled": true
   },
   "outputs": [
    {
     "name": "stdout",
     "output_type": "stream",
     "text": [
      "DecisionTreeClassificationModel (uid=dtc_8a4d05b406a6) of depth 5 with 37 nodes\n",
      "  If (feature 2 <= 0.315)\n",
      "   If (feature 7 <= 0.995295)\n",
      "    If (feature 4 <= 0.0665)\n",
      "     If (feature 6 <= 18.5)\n",
      "      Predict: 0.0\n",
      "     Else (feature 6 > 18.5)\n",
      "      If (feature 5 <= 33.5)\n",
      "       Predict: 0.0\n",
      "      Else (feature 5 > 33.5)\n",
      "       Predict: 1.0\n",
      "    Else (feature 4 > 0.0665)\n",
      "     If (feature 10 <= 11.975)\n",
      "      Predict: 0.0\n",
      "     Else (feature 10 > 11.975)\n",
      "      If (feature 1 <= 0.435)\n",
      "       Predict: 1.0\n",
      "      Else (feature 1 > 0.435)\n",
      "       Predict: 0.0\n",
      "   Else (feature 7 > 0.995295)\n",
      "    If (feature 4 <= 0.0625)\n",
      "     If (feature 0 <= 6.85)\n",
      "      If (feature 0 <= 6.65)\n",
      "       Predict: 0.0\n",
      "      Else (feature 0 > 6.65)\n",
      "       Predict: 1.0\n",
      "     Else (feature 0 > 6.85)\n",
      "      Predict: 0.0\n",
      "    Else (feature 4 > 0.0625)\n",
      "     Predict: 0.0\n",
      "  Else (feature 2 > 0.315)\n",
      "   If (feature 7 <= 0.9961800000000001)\n",
      "    If (feature 9 <= 0.725)\n",
      "     If (feature 0 <= 8.850000000000001)\n",
      "      If (feature 2 <= 0.575)\n",
      "       Predict: 0.0\n",
      "      Else (feature 2 > 0.575)\n",
      "       Predict: 1.0\n",
      "     Else (feature 0 > 8.850000000000001)\n",
      "      If (feature 9 <= 0.515)\n",
      "       Predict: 0.0\n",
      "      Else (feature 9 > 0.515)\n",
      "       Predict: 1.0\n",
      "    Else (feature 9 > 0.725)\n",
      "     Predict: 1.0\n",
      "   Else (feature 7 > 0.9961800000000001)\n",
      "    If (feature 4 <= 0.0735)\n",
      "     If (feature 8 <= 3.3449999999999998)\n",
      "      If (feature 8 <= 3.145)\n",
      "       Predict: 0.0\n",
      "      Else (feature 8 > 3.145)\n",
      "       Predict: 1.0\n",
      "     Else (feature 8 > 3.3449999999999998)\n",
      "      Predict: 0.0\n",
      "    Else (feature 4 > 0.0735)\n",
      "     Predict: 0.0\n",
      "\n"
     ]
    }
   ],
   "source": [
    "# your code here\n",
    "print(fitted_cv1.bestModel.stages[1].trees[0].toDebugString)"
   ]
  },
  {
   "cell_type": "markdown",
   "metadata": {},
   "source": [
    "##### Grading Feedback"
   ]
  },
  {
   "cell_type": "markdown",
   "metadata": {},
   "source": [
    "Paste the tree printout in this cell:\n",
    "DecisionTreeClassificationModel (uid=dtc_f65cfdcff213) of depth 5 with 33 nodes\n",
    "```\n",
    "  If (feature 2 <= 0.315)\n",
    "   If (feature 7 <= 0.995295)\n",
    "    If (feature 4 <= 0.0665)\n",
    "     If (feature 6 <= 18.5)\n",
    "      Predict: 0.0\n",
    "     Else (feature 6 > 18.5)\n",
    "      If (feature 5 <= 33.5)\n",
    "       Predict: 0.0\n",
    "      Else (feature 5 > 33.5)\n",
    "       Predict: 1.0\n",
    "    Else (feature 4 > 0.0665)\n",
    "     If (feature 10 <= 11.975)\n",
    "      Predict: 0.0\n",
    "     Else (feature 10 > 11.975)\n",
    "      If (feature 1 <= 0.435)\n",
    "       Predict: 1.0\n",
    "      Else (feature 1 > 0.435)\n",
    "       Predict: 0.0\n",
    "   Else (feature 7 > 0.995295)\n",
    "    If (feature 4 <= 0.0625)\n",
    "     If (feature 0 <= 6.85)\n",
    "      If (feature 0 <= 6.65)\n",
    "       Predict: 0.0\n",
    "      Else (feature 0 > 6.65)\n",
    "       Predict: 1.0\n",
    "     Else (feature 0 > 6.85)\n",
    "      Predict: 0.0\n",
    "    Else (feature 4 > 0.0625)\n",
    "     Predict: 0.0\n",
    "  Else (feature 2 > 0.315)\n",
    "   If (feature 7 <= 0.9961800000000001)\n",
    "    If (feature 9 <= 0.725)\n",
    "     If (feature 0 <= 8.850000000000001)\n",
    "      If (feature 2 <= 0.575)\n",
    "       Predict: 0.0\n",
    "      Else (feature 2 > 0.575)\n",
    "       Predict: 1.0\n",
    "     Else (feature 0 > 8.850000000000001)\n",
    "      If (feature 9 <= 0.515)\n",
    "       Predict: 0.0\n",
    "      Else (feature 9 > 0.515)\n",
    "       Predict: 1.0\n",
    "    Else (feature 9 > 0.725)\n",
    "     Predict: 1.0\n",
    "   Else (feature 7 > 0.9961800000000001)\n",
    "    If (feature 4 <= 0.0735)\n",
    "     If (feature 8 <= 3.3449999999999998)\n",
    "      If (feature 8 <= 3.145)\n",
    "       Predict: 0.0\n",
    "      Else (feature 8 > 3.145)\n",
    "       Predict: 1.0\n",
    "     Else (feature 8 > 3.3449999999999998)\n",
    "      Predict: 0.0\n",
    "    Else (feature 4 > 0.0735)\n",
    "     Predict: 0.0\n",
    "```"
   ]
  },
  {
   "cell_type": "markdown",
   "metadata": {},
   "source": [
    "##### Grading Feedback"
   ]
  },
  {
   "cell_type": "markdown",
   "metadata": {},
   "source": [
    "What specific predictor variable is being split and what is the value that determines the left / right split:\n",
    "\n",
    "The feature 2 which is 'citric acid' is being used to split at the root node. The value 0.315 is the one that determines the left/right split. All the rows with 'citric acid' value <= 0.315 move to the left side of the tree and the rows with 'citric acid' value > 0.315 move to the right side of the tree."
   ]
  },
  {
   "cell_type": "markdown",
   "metadata": {},
   "source": [
    "##### Grading Feedback"
   ]
  },
  {
   "cell_type": "markdown",
   "metadata": {},
   "source": [
    "Explain why the top level predictor in your printed tree can be different that the top level predictor from the cross validated model above:\n",
    "\n",
    "The top level predictor or the splitting attribute at the root node in any randomly selected tree can be different from the most important predictor of the best fitted cross validated model because this random forest model automatically picks a selected number of sample of features for splitting at every node and hence all the features of the training dataset are not used to split at every node. Hence the most important feature may not be selected in the sample of features to be considered for splitting in a particular node."
   ]
  },
  {
   "cell_type": "markdown",
   "metadata": {},
   "source": [
    "##### Grading Feedback"
   ]
  },
  {
   "cell_type": "markdown",
   "metadata": {},
   "source": [
    "# Question 8:  10 pts.\n",
    "Create a spark GBTClassifier using all default parameters.  Train the model and calculate the AUC using a BinaryClassificationEvaluator."
   ]
  },
  {
   "cell_type": "code",
   "execution_count": 12,
   "metadata": {},
   "outputs": [
    {
     "data": {
      "text/plain": [
       "0.8856602218225438"
      ]
     },
     "execution_count": 12,
     "metadata": {},
     "output_type": "execute_result"
    }
   ],
   "source": [
    "# Your Code Here\n",
    "gb_training_df, gb_validation_df = wine_df.randomSplit([0.7, 0.3],12343)\n",
    "va = VectorAssembler().setInputCols(gb_training_df.columns[0:11]).setOutputCol('features')\n",
    "\n",
    "gbt = GBTClassifier(labelCol='quality',featuresCol=\"features\")\n",
    "gbt_pipeline = Pipeline(stages=[va, gbt]).fit(gb_training_df)\n",
    "\n",
    "bce = BinaryClassificationEvaluator(labelCol='quality')\n",
    "bce.evaluate(gbt_pipeline.transform(gb_validation_df))"
   ]
  },
  {
   "cell_type": "markdown",
   "metadata": {},
   "source": [
    "##### Grading Feedback"
   ]
  },
  {
   "cell_type": "markdown",
   "metadata": {},
   "source": [
    "# Question 9:  10 pts.\n",
    "Use spark GBTClassifier, ParamGridBuilder, and CrossValidator objects to perform a GBT grid search.  Use 3 fold cross validation and a BinaryClassificationEvaluator to evaluate the results.  The goal is to see if you can improve upon the AUC score produced by the default GBT model and the random forest model above.  You are free to experiment with any search parameters you wish.  It is also okay to experiment with maxIter and stepSize outside of the grid if you wish as long as you comment what you are doing."
   ]
  },
  {
   "cell_type": "code",
   "execution_count": 13,
   "metadata": {},
   "outputs": [
    {
     "data": {
      "text/plain": [
       "0.8925359712230251"
      ]
     },
     "execution_count": 13,
     "metadata": {},
     "output_type": "execute_result"
    }
   ],
   "source": [
    "# Your Code Here\n",
    "gbt_pipeline = Pipeline(stages=[va, gbt])\n",
    "\n",
    "grid = (ParamGridBuilder().addGrid(gbt.featureSubsetStrategy, ['auto']).addGrid(gbt.stepSize,[0.1]).addGrid(gbt.maxDepth, [5]).addGrid(gbt.maxIter,[150]).build())\n",
    "#grid = (ParamGridBuilder().addGrid(gbt.featureSubsetStrategy, ['auto','sqrt','log2']).addGrid(gbt.stepSize,[0.1,0.3,0.5]).addGrid(gbt.maxDepth, [5, 10, 15]).addGrid(gbt.maxIter, [80,110,150]).build())\n",
    "evaluator = BinaryClassificationEvaluator(labelCol = 'quality',metricName = 'areaUnderROC')\n",
    "cv2 = CrossValidator(estimator=gbt_pipeline, estimatorParamMaps=grid, evaluator=evaluator, numFolds = 3, seed = 65)\n",
    "fitted_cv2 = cv2.fit(gb_training_df)\n",
    "\n",
    "bce = BinaryClassificationEvaluator(labelCol='quality')\n",
    "bce.evaluate(fitted_cv2.bestModel.transform(gb_validation_df))"
   ]
  },
  {
   "cell_type": "markdown",
   "metadata": {},
   "source": [
    "##### Grading Feedback"
   ]
  },
  {
   "cell_type": "markdown",
   "metadata": {},
   "source": [
    "# Question 10 10 pts\n",
    "Create a grid search summary pandas data frame for the GBT grid search exactly like you did in question 5 above."
   ]
  },
  {
   "cell_type": "code",
   "execution_count": 14,
   "metadata": {
    "scrolled": true
   },
   "outputs": [
    {
     "data": {
      "text/html": [
       "<div>\n",
       "<style scoped>\n",
       "    .dataframe tbody tr th:only-of-type {\n",
       "        vertical-align: middle;\n",
       "    }\n",
       "\n",
       "    .dataframe tbody tr th {\n",
       "        vertical-align: top;\n",
       "    }\n",
       "\n",
       "    .dataframe thead th {\n",
       "        text-align: right;\n",
       "    }\n",
       "</style>\n",
       "<table border=\"1\" class=\"dataframe\">\n",
       "  <thead>\n",
       "    <tr style=\"text-align: right;\">\n",
       "      <th></th>\n",
       "      <th>grid_paramter_name</th>\n",
       "      <th>grid_parameter_value</th>\n",
       "    </tr>\n",
       "  </thead>\n",
       "  <tbody>\n",
       "    <tr>\n",
       "      <td>0</td>\n",
       "      <td>featureSubsetStrategy</td>\n",
       "      <td>auto</td>\n",
       "    </tr>\n",
       "    <tr>\n",
       "      <td>1</td>\n",
       "      <td>stepSize</td>\n",
       "      <td>0.1</td>\n",
       "    </tr>\n",
       "    <tr>\n",
       "      <td>2</td>\n",
       "      <td>maxDepth</td>\n",
       "      <td>5</td>\n",
       "    </tr>\n",
       "    <tr>\n",
       "      <td>3</td>\n",
       "      <td>maxIter</td>\n",
       "      <td>150</td>\n",
       "    </tr>\n",
       "    <tr>\n",
       "      <td>4</td>\n",
       "      <td>Cross Validator AUC</td>\n",
       "      <td>0.86595</td>\n",
       "    </tr>\n",
       "  </tbody>\n",
       "</table>\n",
       "</div>"
      ],
      "text/plain": [
       "      grid_paramter_name grid_parameter_value\n",
       "0  featureSubsetStrategy                 auto\n",
       "1               stepSize                  0.1\n",
       "2               maxDepth                    5\n",
       "3                maxIter                  150\n",
       "4    Cross Validator AUC              0.86595"
      ]
     },
     "execution_count": 14,
     "metadata": {},
     "output_type": "execute_result"
    }
   ],
   "source": [
    "# Your Code Here\n",
    "dict2 = {'grid_paramter_name': ['featureSubsetStrategy','stepSize','maxDepth','maxIter','Cross Validator AUC'], \n",
    "         'grid_parameter_value': [fitted_cv2.bestModel.stages[1].getOrDefault('featureSubsetStrategy'),\n",
    "                                  fitted_cv2.bestModel.stages[1].getOrDefault('stepSize'),\n",
    "                                  fitted_cv2.bestModel.stages[1].getOrDefault('maxDepth'),\n",
    "                                  fitted_cv2.bestModel.stages[1].getOrDefault('maxIter'),\n",
    "                                  max(fitted_cv2.avgMetrics)]}\n",
    "best_model_parameters_gbt_df = pd.DataFrame.from_dict(dict2)\n",
    "best_model_parameters_gbt_df"
   ]
  },
  {
   "cell_type": "markdown",
   "metadata": {},
   "source": [
    "##### Grading Feedback"
   ]
  },
  {
   "cell_type": "markdown",
   "metadata": {},
   "source": [
    "Add search parameter comments here\n",
    "\n",
    "Write your grid search parameter descriptions here:\n",
    "The grid parameters, I used in the above question are 'featureSubsetStrategy','stepSize', 'maxDepth' and 'maxIter'. The first paramter featureSubsetStrategy is to specify the method in which the Gradient Boosting should select the required number of features to be considered at each spliting node of a decision tree. This hyperparameter takes values such as 'auto', 'log2' and 'sqrt' to decide the number of features required to build each of the decision trees by either automatically taking the required number of features or by taking log to the base 2 of the total number of features or by taking square root of the total number of features. \n",
    "The second hyperparameter 'stepSize' is to specify the learning rate of the gradient boosting model. In Gradient Boosting since the trees are built sequentially by trying to correct the preceeding errors, if the model learns too quickly, there is a risk of overfitting and hence this learning rate needs to be controlled by tuning this hyperparameter.\n",
    "The third hyperparamter 'maxDepth' is to control the depth of each individual decision tree by pruning them with the maximum possible depth value. This hyperparameters is again used to control overfitting.\n",
    "The fourth hyperparameter is 'maxIter' which is used to specify the number of iterations the gradient boosting algorithm must undergo, i.e. the number of trees that the model should produce. This parameter is also used to control for overfitting. Increase in the number of trees, i.e. the number of iterations will reduce variance."
   ]
  },
  {
   "cell_type": "markdown",
   "metadata": {},
   "source": [
    "# Question 11 (5 pts):\n",
    "Create and print a pandas dataframe with the columns `feature` and `importance` just like question 6 above.  Also, compare the feature importances to random forest from question 6 above - how different or similar are the feature importances between GBT and random forest."
   ]
  },
  {
   "cell_type": "code",
   "execution_count": 15,
   "metadata": {
    "scrolled": true
   },
   "outputs": [
    {
     "data": {
      "text/html": [
       "<div>\n",
       "<style scoped>\n",
       "    .dataframe tbody tr th:only-of-type {\n",
       "        vertical-align: middle;\n",
       "    }\n",
       "\n",
       "    .dataframe tbody tr th {\n",
       "        vertical-align: top;\n",
       "    }\n",
       "\n",
       "    .dataframe thead th {\n",
       "        text-align: right;\n",
       "    }\n",
       "</style>\n",
       "<table border=\"1\" class=\"dataframe\">\n",
       "  <thead>\n",
       "    <tr style=\"text-align: right;\">\n",
       "      <th></th>\n",
       "      <th>feature</th>\n",
       "      <th>importance</th>\n",
       "    </tr>\n",
       "  </thead>\n",
       "  <tbody>\n",
       "    <tr>\n",
       "      <td>10</td>\n",
       "      <td>alcohol</td>\n",
       "      <td>0.123044</td>\n",
       "    </tr>\n",
       "    <tr>\n",
       "      <td>9</td>\n",
       "      <td>sulphates</td>\n",
       "      <td>0.108257</td>\n",
       "    </tr>\n",
       "    <tr>\n",
       "      <td>1</td>\n",
       "      <td>volatile acidity</td>\n",
       "      <td>0.106840</td>\n",
       "    </tr>\n",
       "    <tr>\n",
       "      <td>2</td>\n",
       "      <td>citric acid</td>\n",
       "      <td>0.104364</td>\n",
       "    </tr>\n",
       "    <tr>\n",
       "      <td>4</td>\n",
       "      <td>chlorides</td>\n",
       "      <td>0.102967</td>\n",
       "    </tr>\n",
       "    <tr>\n",
       "      <td>0</td>\n",
       "      <td>fixed acidity</td>\n",
       "      <td>0.093208</td>\n",
       "    </tr>\n",
       "    <tr>\n",
       "      <td>8</td>\n",
       "      <td>pH</td>\n",
       "      <td>0.083061</td>\n",
       "    </tr>\n",
       "    <tr>\n",
       "      <td>6</td>\n",
       "      <td>total sulfur dioxide</td>\n",
       "      <td>0.075547</td>\n",
       "    </tr>\n",
       "    <tr>\n",
       "      <td>7</td>\n",
       "      <td>density</td>\n",
       "      <td>0.071675</td>\n",
       "    </tr>\n",
       "    <tr>\n",
       "      <td>5</td>\n",
       "      <td>free sulfur dioxide</td>\n",
       "      <td>0.069258</td>\n",
       "    </tr>\n",
       "    <tr>\n",
       "      <td>3</td>\n",
       "      <td>residual sugar</td>\n",
       "      <td>0.061777</td>\n",
       "    </tr>\n",
       "  </tbody>\n",
       "</table>\n",
       "</div>"
      ],
      "text/plain": [
       "                 feature  importance\n",
       "10               alcohol    0.123044\n",
       "9              sulphates    0.108257\n",
       "1       volatile acidity    0.106840\n",
       "2            citric acid    0.104364\n",
       "4              chlorides    0.102967\n",
       "0          fixed acidity    0.093208\n",
       "8                     pH    0.083061\n",
       "6   total sulfur dioxide    0.075547\n",
       "7                density    0.071675\n",
       "5    free sulfur dioxide    0.069258\n",
       "3         residual sugar    0.061777"
      ]
     },
     "execution_count": 15,
     "metadata": {},
     "output_type": "execute_result"
    }
   ],
   "source": [
    "# Your code here\n",
    "pd.DataFrame(list(zip(wine_df.columns[0:11], fitted_cv2.bestModel.stages[1].featureImportances.toArray())),\n",
    "            columns = ['feature', 'importance']).sort_values('importance', ascending = False)"
   ]
  },
  {
   "cell_type": "markdown",
   "metadata": {},
   "source": [
    "Feature importance comments here:\n",
    "\n",
    "The 3 most important features in determining the wine quality are alcohol, volatile acidity and sulphates, as these 3 features have the highest variable importance.  "
   ]
  },
  {
   "cell_type": "markdown",
   "metadata": {},
   "source": [
    "Add feature importance comparison comments here:<br>\n",
    "\n",
    "The 3 most important features are same between Random Forest and Gradient Boosting with only the order of importance differing between RF and GBT. Since both are decision tree based ensemble learning methods, the top 3 most important features will remain the same across the 2 methods. "
   ]
  },
  {
   "cell_type": "markdown",
   "metadata": {},
   "source": [
    "##### Grading Feedback"
   ]
  }
 ],
 "metadata": {
  "celltoolbar": "Edit Metadata",
  "kernelspec": {
   "display_name": "Python 3",
   "language": "python",
   "name": "python3"
  },
  "language_info": {
   "codemirror_mode": {
    "name": "ipython",
    "version": 3
   },
   "file_extension": ".py",
   "mimetype": "text/x-python",
   "name": "python",
   "nbconvert_exporter": "python",
   "pygments_lexer": "ipython3",
   "version": "3.7.4"
  }
 },
 "nbformat": 4,
 "nbformat_minor": 2
}
